{
 "cells": [
  {
   "cell_type": "code",
   "execution_count": 2,
   "metadata": {},
   "outputs": [],
   "source": [
    "import datetime\n",
    "import isoweek"
   ]
  },
  {
   "cell_type": "code",
   "execution_count": 3,
   "metadata": {},
   "outputs": [
    {
     "data": {
      "text/plain": [
       "(2017, 44, 7)"
      ]
     },
     "execution_count": 3,
     "metadata": {},
     "output_type": "execute_result"
    }
   ],
   "source": [
    "# n = datetime.datetime.now()\n",
    "# n.isocalendar()\n",
    "n = datetime.datetime(2017, 11, 5)\n",
    "n.isocalendar()"
   ]
  },
  {
   "cell_type": "code",
   "execution_count": 11,
   "metadata": {},
   "outputs": [
    {
     "data": {
      "text/plain": [
       "'02'"
      ]
     },
     "execution_count": 11,
     "metadata": {},
     "output_type": "execute_result"
    }
   ],
   "source": [
    "datetime.datetime.strptime('201905-1', '%Y%W-%w').strftime(\"%m\")"
   ]
  },
  {
   "cell_type": "code",
   "execution_count": null,
   "metadata": {},
   "outputs": [],
   "source": [
    "datetime."
   ]
  },
  {
   "cell_type": "code",
   "execution_count": 147,
   "metadata": {},
   "outputs": [
    {
     "data": {
      "text/plain": [
       "(2015, 49, 1)"
      ]
     },
     "execution_count": 147,
     "metadata": {},
     "output_type": "execute_result"
    }
   ],
   "source": [
    "today = datetime.datetime(2015, 12, 6, 0, 0, 0, 0)\n",
    "\n",
    "# 월요일을 가져온다.\n",
    "last_monday = today - datetime.timedelta(days = today.weekday())\n",
    "last_monday.isocalendar()"
   ]
  },
  {
   "cell_type": "code",
   "execution_count": 251,
   "metadata": {},
   "outputs": [],
   "source": [
    "a = [0, 1, 2, 3]\n",
    "b = [\"\", \"\", \"14\", \"\" , \"5\", \"afsfsa\", \"\", \"\", \"\", \"as\"]\n",
    "i = 0\n",
    "for i in range(0, len(a)):\n",
    "    for j in range(0, len(b)):\n",
    "        if (i == 2):\n",
    "            if (b[j] != \"\"):\n",
    "                a[i] = str(b[j])\n",
    "                del b[j]\n",
    "                break\n",
    "        else :\n",
    "            if (b[j] == \"\"):\n",
    "                a[i] = str(b[j])\n",
    "                del b[j]\n",
    "                break"
   ]
  },
  {
   "cell_type": "code",
   "execution_count": 252,
   "metadata": {},
   "outputs": [
    {
     "data": {
      "text/plain": [
       "['', '', '14', '']"
      ]
     },
     "execution_count": 252,
     "metadata": {},
     "output_type": "execute_result"
    }
   ],
   "source": [
    "a"
   ]
  },
  {
   "cell_type": "code",
   "execution_count": 253,
   "metadata": {},
   "outputs": [
    {
     "data": {
      "text/plain": [
       "['5', 'afsfsa', '', '', '', 'as']"
      ]
     },
     "execution_count": 253,
     "metadata": {},
     "output_type": "execute_result"
    }
   ],
   "source": [
    "b"
   ]
  },
  {
   "cell_type": "code",
   "execution_count": 1,
   "metadata": {},
   "outputs": [],
   "source": [
    "def a(n):\n",
    "    if (n == 1):\n",
    "        return\n",
    "    else:\n",
    "        return None"
   ]
  },
  {
   "cell_type": "code",
   "execution_count": 5,
   "metadata": {},
   "outputs": [],
   "source": [
    "a(1)"
   ]
  },
  {
   "cell_type": "code",
   "execution_count": 4,
   "metadata": {},
   "outputs": [
    {
     "ename": "ValueError",
     "evalue": "could not convert string to float: ",
     "output_type": "error",
     "traceback": [
      "\u001b[1;31m---------------------------------------------------------------------------\u001b[0m",
      "\u001b[1;31mValueError\u001b[0m                                Traceback (most recent call last)",
      "\u001b[1;32m<ipython-input-4-83b399666feb>\u001b[0m in \u001b[0;36m<module>\u001b[1;34m\u001b[0m\n\u001b[0;32m      1\u001b[0m \u001b[0ma\u001b[0m \u001b[1;33m=\u001b[0m \u001b[1;34m\"\"\u001b[0m\u001b[1;33m\u001b[0m\u001b[1;33m\u001b[0m\u001b[0m\n\u001b[1;32m----> 2\u001b[1;33m \u001b[0mfloat\u001b[0m\u001b[1;33m(\u001b[0m\u001b[0ma\u001b[0m\u001b[1;33m)\u001b[0m\u001b[1;33m\u001b[0m\u001b[1;33m\u001b[0m\u001b[0m\n\u001b[0m",
      "\u001b[1;31mValueError\u001b[0m: could not convert string to float: "
     ]
    }
   ],
   "source": [
    "a = \"\"\n",
    "float(a)"
   ]
  },
  {
   "cell_type": "code",
   "execution_count": 3,
   "metadata": {},
   "outputs": [],
   "source": [
    "import urllib"
   ]
  },
  {
   "cell_type": "code",
   "execution_count": null,
   "metadata": {},
   "outputs": [
    {
     "name": "stdout",
     "output_type": "stream",
     "text": [
      "[<class 'http.server.HTTPServer'>, <class 'socketserver.TCPServer'>, <class 'socketserver.BaseServer'>, <class 'object'>]\n",
      "Started httpserver on port  8027\n",
      "/\n",
      "/favicon.ico\n"
     ]
    },
    {
     "name": "stderr",
     "output_type": "stream",
     "text": [
      "127.0.0.1 - - [22/May/2019 17:22:59] \"GET / HTTP/1.1\" 200 -\n",
      "127.0.0.1 - - [22/May/2019 17:22:59] \"GET /favicon.ico HTTP/1.1\" 200 -\n"
     ]
    },
    {
     "name": "stdout",
     "output_type": "stream",
     "text": [
      "/carbuy?kinds=0&color=0\n"
     ]
    },
    {
     "name": "stderr",
     "output_type": "stream",
     "text": [
      "127.0.0.1 - - [22/May/2019 17:23:01] \"GET /carbuy?kinds=0&color=0 HTTP/1.1\" 200 -\n"
     ]
    },
    {
     "name": "stdout",
     "output_type": "stream",
     "text": [
      "/123123\n",
      "/favicon.ico\n"
     ]
    },
    {
     "name": "stderr",
     "output_type": "stream",
     "text": [
      "127.0.0.1 - - [22/May/2019 17:23:01] \"GET /123123 HTTP/1.1\" 200 -\n",
      "127.0.0.1 - - [22/May/2019 17:23:01] \"GET /favicon.ico HTTP/1.1\" 200 -\n"
     ]
    },
    {
     "name": "stdout",
     "output_type": "stream",
     "text": [
      "/\n"
     ]
    },
    {
     "name": "stderr",
     "output_type": "stream",
     "text": [
      "127.0.0.1 - - [22/May/2019 17:23:37] \"GET / HTTP/1.1\" 200 -\n"
     ]
    },
    {
     "name": "stdout",
     "output_type": "stream",
     "text": [
      "/favicon.ico\n"
     ]
    },
    {
     "name": "stderr",
     "output_type": "stream",
     "text": [
      "127.0.0.1 - - [22/May/2019 17:23:38] \"GET /favicon.ico HTTP/1.1\" 200 -\n"
     ]
    },
    {
     "name": "stdout",
     "output_type": "stream",
     "text": [
      "/carbuy?kinds=4&color=4\n"
     ]
    },
    {
     "name": "stderr",
     "output_type": "stream",
     "text": [
      "127.0.0.1 - - [22/May/2019 17:23:45] \"GET /carbuy?kinds=4&color=4 HTTP/1.1\" 200 -\n"
     ]
    },
    {
     "name": "stdout",
     "output_type": "stream",
     "text": [
      "/123123\n",
      "/favicon.ico\n"
     ]
    },
    {
     "name": "stderr",
     "output_type": "stream",
     "text": [
      "127.0.0.1 - - [22/May/2019 17:23:45] \"GET /123123 HTTP/1.1\" 200 -\n",
      "127.0.0.1 - - [22/May/2019 17:23:45] \"GET /favicon.ico HTTP/1.1\" 200 -\n"
     ]
    }
   ],
   "source": [
    "#!/usr/bin/python\n",
    "# from BaseHTTPServer import BaseHTTPRequestHandler,HTTPServer\n",
    "from http.server import BaseHTTPRequestHandler,HTTPServer\n",
    "from socketserver import ThreadingMixIn\n",
    "import json\n",
    "import re\n",
    "from urllib.parse import parse_qs\n",
    "import cgi\n",
    "import codecs\n",
    "import urllib\n",
    "\n",
    "PORT_NUMBER = 8027\n",
    "\n",
    "# This class will handle any incoming request from\n",
    "# a browser\n",
    "class myHandler(BaseHTTPRequestHandler):\n",
    "\n",
    "\n",
    "    # Handler for the GET requests\n",
    "    def do_GET(self):\n",
    "        print(self.path)\n",
    "        # print('Get request received')\n",
    "        if None != re.search('/123123', self.path):\n",
    "            # recordID = self.path\n",
    "            # print(\"recordID = \", recordID)\n",
    "            if True :\n",
    "                self.send_response(200)\n",
    "                self.send_header('Content-type', 'text/html')\n",
    "                self.end_headers()\n",
    "                path = './a.html'\n",
    "                f = codecs.open(path, 'r', encoding='utf-8').read()\n",
    "                self.wfile.write(bytes(f, 'utf-8'))\n",
    "                return\n",
    "            \n",
    "            else:\n",
    "                self.send_response(400, 'Bad Request: record does not exist')\n",
    "                self.send_header('Content-Type', 'application/json')\n",
    "                self.end_headers()\n",
    "                \n",
    "        if None != re.search('/', self.path):\n",
    "            # recordID = self.path\n",
    "            # print(\"recordID = \", recordID)\n",
    "            if True :\n",
    "                self.send_response(200)\n",
    "                self.send_header('Content-type', 'text/html')\n",
    "                self.end_headers()\n",
    "                path = 'E:/Git_hub/03. Java Script/2019-05-07/files/select_box.html'\n",
    "                f = codecs.open(path, 'r', encoding='utf-8').read()\n",
    "                self.wfile.write(bytes(f, 'utf-8'))\n",
    "                \n",
    "            else:\n",
    "                self.send_response(400, 'Bad Request: record does not exist')\n",
    "                self.send_header('Content-Type', 'application/json')\n",
    "                self.end_headers()\n",
    "\n",
    "\n",
    "try:\n",
    "\n",
    "    # Create a web server and define the handler to manage the\n",
    "    # incoming request\n",
    "    server = HTTPServer(('', PORT_NUMBER), myHandler)\n",
    "    print(HTTPServer.mro())\n",
    "    print ('Started httpserver on port ' , PORT_NUMBER)\n",
    "\n",
    "    # Wait forever for incoming http requests\n",
    "    server.serve_forever()\n",
    "\n",
    "except KeyboardInterrupt:\n",
    "    print ('^C received, shutting down the web server')\n",
    "    server.socket.close()\n"
   ]
  },
  {
   "cell_type": "code",
   "execution_count": 8,
   "metadata": {},
   "outputs": [],
   "source": [
    "import hashlib\n",
    "import time\n",
    "import csv\n",
    "import random\n",
    "from http.server import BaseHTTPRequestHandler, HTTPServer\n",
    "from socketserver import ThreadingMixIn\n",
    "import json\n",
    "import re\n",
    "from urllib.parse import parse_qs\n",
    "from urllib.parse import urlparse\n",
    "import threading\n",
    "import cgi\n",
    "import uuid\n",
    "from tempfile import NamedTemporaryFile\n",
    "import shutil\n",
    "import requests # for sending new block to other nodes\n",
    "\n",
    "#########################################################################################################\n",
    "\n",
    "import cx_Oracle as oci # for connect Oracle Database"
   ]
  },
  {
   "cell_type": "code",
   "execution_count": 9,
   "metadata": {},
   "outputs": [],
   "source": [
    "\n",
    "PORT_NUMBER = 8099\n",
    "# 트랜잭션을 저장할 File Name\n",
    "g_txFileName = \"txData.csv\"\n",
    "# 블록체인을 저장할 File Name\n",
    "g_bcFileName = \"blockchain.csv\"\n",
    "g_nodelstFileName = \"nodelst.csv\"\n",
    "g_receiveNewBlock = \"/node/receiveNewBlock\"\n",
    "g_difficulty = 4\n",
    "g_maximumTry = 100\n",
    "g_nodeList = {'trustedServerAddress':'8099'} # trusted server list, should be checked manually"
   ]
  },
  {
   "cell_type": "code",
   "execution_count": 10,
   "metadata": {},
   "outputs": [],
   "source": [
    "def row_count(filename):\n",
    "    try:\n",
    "        with open(filename) as in_file:\n",
    "            return sum(1 for _ in in_file)\n",
    "    except:\n",
    "        return 0\n",
    "\n",
    "def writeBlockchain(blockchain):\n",
    "    blockchainList = []\n",
    "    \n",
    "    for block in blockchain:\n",
    "        blockList = [block.index, block.previousHash, str(block.timestamp), block.data, block.currentHash, block.proof]\n",
    "        print(\"blockList\", blockList)\n",
    "        blockchainList.append(blockList)\n",
    "\n",
    "    #[STARAT] check current db(csv) if broadcasted block data has already been updated\n",
    "    lastBlock = None\n",
    "\n",
    "    try:\n",
    "        with open(g_bcFileName, 'r',  newline='') as file:\n",
    "            blockReader = csv.reader(file)\n",
    "            last_line_number = row_count(g_bcFileName)\n",
    "            print(\"lastLineNumber\", last_line_number)\n",
    "            for line in blockReader:\n",
    "                print(\"blockReader.line_num\",blockReader.line_num)\n",
    "                if blockReader.line_num == last_line_number:\n",
    "                    lastBlock = Block(line[0], line[1], line[2], line[3], line[4], line[5])\n",
    "        print(\"lastBlock.index\", lastBlock.index)\n",
    "        print(\"blockchainList[-1][0]\", blockchainList[-1][0])\n",
    "        if int(lastBlock.index) + 1 != int(blockchainList[-1][0]):\n",
    "            print(\"index sequence mismatch\")\n",
    "            if int(lastBlock.index) == int(blockchainList[-1][0]):\n",
    "                print(\"db(csv) has already been updated\")\n",
    "            return\n",
    "    except:\n",
    "        print(\"file open error in check current db(csv) \\n or maybe there's some other reason\")\n",
    "        pass\n",
    "        #return\n",
    "    # [END] check current db(csv)\n",
    "\n",
    "    with open(g_bcFileName, \"w\", newline='') as file:\n",
    "        writer = csv.writer(file)\n",
    "        writer.writerows(blockchainList)"
   ]
  },
  {
   "cell_type": "code",
   "execution_count": 11,
   "metadata": {},
   "outputs": [],
   "source": [
    "class Block:\n",
    "\n",
    "    def __init__(self, index, previousHash, timestamp, data, currentHash, proof):\n",
    "        # 블럭 번호\n",
    "        self.index = index\n",
    "        # 이전 블럭의 해시\n",
    "        self.previousHash = previousHash\n",
    "        # 블럭이 생성시점\n",
    "        self.timestamp = timestamp\n",
    "        # 거래 데이터\n",
    "        self.data = data\n",
    "        # 현재 블럭의 해시\n",
    "        self.currentHash = currentHash\n",
    "        # 작업증명 값(XX횟수)\n",
    "        self.proof = proof\n",
    "\n",
    "    def toJSON(self):\n",
    "        return json.dumps(self, default=lambda o: o.__dict__, sort_keys=True, indent=4)"
   ]
  },
  {
   "cell_type": "code",
   "execution_count": 12,
   "metadata": {},
   "outputs": [],
   "source": [
    "blockChain = [Block(0,0,0,\"0\",0,0), Block(1,1,1,\"1\",1, 1), Block(2,2,2,\"2\",2,2), Block(3,3,3,\"3\",3,3), Block(4,4,4,\"4\",4, 4), Block(5,5,5,\"5\",5, 5), Block(6, 6, 6, \"6\", 6, 6)]"
   ]
  },
  {
   "cell_type": "code",
   "execution_count": 13,
   "metadata": {},
   "outputs": [
    {
     "name": "stdout",
     "output_type": "stream",
     "text": [
      "blockList [0, 0, '0', '0', 0, 0]\n",
      "blockList [1, 1, '1', '1', 1, 1]\n",
      "blockList [2, 2, '2', '2', 2, 2]\n",
      "blockList [3, 3, '3', '3', 3, 3]\n",
      "blockList [4, 4, '4', '4', 4, 4]\n",
      "blockList [5, 5, '5', '5', 5, 5]\n",
      "blockList [6, 6, '6', '6', 6, 6]\n",
      "file open error in check current db(csv) \n",
      " or maybe there's some other reason\n"
     ]
    }
   ],
   "source": [
    "writeBlockchain(blockChain)"
   ]
  },
  {
   "cell_type": "code",
   "execution_count": null,
   "metadata": {},
   "outputs": [],
   "source": []
  }
 ],
 "metadata": {
  "kernelspec": {
   "display_name": "Python 3",
   "language": "python",
   "name": "python3"
  },
  "language_info": {
   "codemirror_mode": {
    "name": "ipython",
    "version": 3
   },
   "file_extension": ".py",
   "mimetype": "text/x-python",
   "name": "python",
   "nbconvert_exporter": "python",
   "pygments_lexer": "ipython3",
   "version": "3.7.1"
  }
 },
 "nbformat": 4,
 "nbformat_minor": 2
}
