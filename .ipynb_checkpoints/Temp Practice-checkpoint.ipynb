{
 "cells": [
  {
   "cell_type": "code",
   "execution_count": 4,
   "metadata": {},
   "outputs": [
    {
     "name": "stdout",
     "output_type": "stream",
     "text": [
      "100000000000\n"
     ]
    }
   ],
   "source": [
    "jinSu10 = 2048\n",
    "jinSu = 2\n",
    "jinSuChange = 0\n",
    "while jinSu10 > 0:\n",
    "    jinSu10 -= 1\n",
    "    jinSuChange += 1\n",
    "    n = 0;\n",
    "    tmp = jinSuChange;\n",
    "    while tmp > 1:\n",
    "        tmp = tmp / 10\n",
    "        n += 1\n",
    "    for i in range(0, n):\n",
    "        tmp = jinSuChange / (10 ** i) % 10;\n",
    "        if (tmp == jinSu):\n",
    "            jinSuChange = jinSuChange - (jinSu * (10 ** i)) + (10 ** (i + 1))\n",
    "print(jinSuChange)"
   ]
  },
  {
   "cell_type": "code",
   "execution_count": null,
   "metadata": {},
   "outputs": [],
   "source": []
  }
 ],
 "metadata": {
  "kernelspec": {
   "display_name": "Python 3",
   "language": "python",
   "name": "python3"
  },
  "language_info": {
   "codemirror_mode": {
    "name": "ipython",
    "version": 3
   },
   "file_extension": ".py",
   "mimetype": "text/x-python",
   "name": "python",
   "nbconvert_exporter": "python",
   "pygments_lexer": "ipython3",
   "version": "3.7.1"
  }
 },
 "nbformat": 4,
 "nbformat_minor": 2
}
