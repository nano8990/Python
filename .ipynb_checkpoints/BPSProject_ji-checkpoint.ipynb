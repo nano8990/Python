{
 "cells": [
  {
   "cell_type": "code",
   "execution_count": 1,
   "metadata": {},
   "outputs": [],
   "source": [
    "import urllib"
   ]
  },
  {
   "cell_type": "code",
   "execution_count": 2,
   "metadata": {},
   "outputs": [],
   "source": [
    "#!/usr/bin/python\n",
    "# from BaseHTTPServer import BaseHTTPRequestHandler,HTTPServer\n",
    "from http.server import BaseHTTPRequestHandler,HTTPServer\n",
    "from socketserver import ThreadingMixIn\n",
    "import json\n",
    "import re\n",
    "from urllib.parse import parse_qs\n",
    "import cgi\n",
    "import codecs\n",
    "\n",
    "from IPython.display import display\n",
    "import ipywidgets as widgets\n",
    "import cx_Oracle as oci\n",
    "from random import *"
   ]
  },
  {
   "cell_type": "code",
   "execution_count": 3,
   "metadata": {},
   "outputs": [
    {
     "name": "stdout",
     "output_type": "stream",
     "text": [
      "11.2.0.2.0\n"
     ]
    }
   ],
   "source": [
    "# Oracle 서버와의연결(Connection 맺기)\n",
    "conn = oci.connect('JI/JI2019@192.168.110.28:1522/xe')\n",
    "\n",
    "#Connection 확인\n",
    "print(conn.version)\n",
    "\n",
    "# Oracle DB의 test_member 테이블 검색(select)\n",
    "cursor = conn.cursor() # cursor 객체 얻어오기"
   ]
  },
  {
   "cell_type": "code",
   "execution_count": null,
   "metadata": {
    "scrolled": true
   },
   "outputs": [
    {
     "name": "stdout",
     "output_type": "stream",
     "text": [
      "[<class 'http.server.HTTPServer'>, <class 'socketserver.TCPServer'>, <class 'socketserver.BaseServer'>, <class 'object'>]\n",
      "Started httpserver on port  8027\n",
      "/blockchainHome\n",
      "/img/favicon.ico\n"
     ]
    },
    {
     "name": "stderr",
     "output_type": "stream",
     "text": [
      "127.0.0.1 - - [28/May/2019 17:48:07] \"GET /blockchainHome HTTP/1.1\" 200 -\n"
     ]
    },
    {
     "name": "stdout",
     "output_type": "stream",
     "text": [
      "/img/favicon.ico\n",
      "/login\n",
      "/favicon.ico\n"
     ]
    },
    {
     "name": "stderr",
     "output_type": "stream",
     "text": [
      "127.0.0.1 - - [28/May/2019 17:48:10] \"GET /login HTTP/1.1\" 200 -\n"
     ]
    },
    {
     "name": "stdout",
     "output_type": "stream",
     "text": [
      "/favicon.ico\n",
      "/id?id=gojiin\n",
      "id =  gojiin\n",
      "key =  0005750162\n",
      "[('gojiin', '0004234998', '0'), ('123123', '0004636121', '0'), ('gojiin', '0005750162', '0')]\n",
      "[('gojiin', '0004234998', '0'), ('123123', '0004636121', '0'), ('gojiin', '0005750162', '0')]\n"
     ]
    },
    {
     "name": "stderr",
     "output_type": "stream",
     "text": [
      "127.0.0.1 - - [28/May/2019 17:48:23] \"GET /id?id=gojiin HTTP/1.1\" 200 -\n"
     ]
    },
    {
     "name": "stdout",
     "output_type": "stream",
     "text": [
      "/blockchainHome\n",
      "/img/favicon.ico\n"
     ]
    },
    {
     "name": "stderr",
     "output_type": "stream",
     "text": [
      "127.0.0.1 - - [28/May/2019 17:49:57] \"GET /blockchainHome HTTP/1.1\" 200 -\n"
     ]
    },
    {
     "name": "stdout",
     "output_type": "stream",
     "text": [
      "/img/favicon.ico\n",
      "/tx\n",
      "/favicon.ico\n"
     ]
    },
    {
     "name": "stderr",
     "output_type": "stream",
     "text": [
      "127.0.0.1 - - [28/May/2019 17:49:58] \"GET /tx HTTP/1.1\" 200 -\n"
     ]
    },
    {
     "name": "stdout",
     "output_type": "stream",
     "text": [
      "/favicon.ico\n",
      "application/x-www-form-urlencoded\n",
      "{'charset': 'UTF-8'}\n",
      "{'inputMyKey': ['45646'], 'inputOpponentID': ['sdlkfds'], 'inputOpponentKey': ['46464'], 'inputMoney': ['10000']}\n"
     ]
    },
    {
     "name": "stderr",
     "output_type": "stream",
     "text": [
      "127.0.0.1 - - [28/May/2019 17:50:15] \"POST /tx_data HTTP/1.1\" 200 -\n"
     ]
    }
   ],
   "source": [
    "PORT_NUMBER = 8027\n",
    "db_id = 'JI'\n",
    "db_pw = 'JI2019'\n",
    "db_ip = '192.168.110.28'\n",
    "db_port = '1522'\n",
    "db_serviceName = 'xe'\n",
    "connectInfo = db_id + '/' + db_pw + '@' + db_ip + ':' + db_port + '/' + db_serviceName\n",
    "\n",
    "# name = \"\"\n",
    "# key = \"\"\n",
    "\n",
    "# This class will handle any incoming request from\n",
    "# a browser\n",
    "class myHandler(BaseHTTPRequestHandler):\n",
    "    \n",
    "    # Handler for the GET requests\n",
    "    def do_GET(self):\n",
    "        print(self.path)\n",
    "        # print('Get request received')\n",
    "        if None != re.search('/id', self.path):\n",
    "            recordID = self.path.split('?')[-1]\n",
    "            userId = recordID.split('=')[-1]\n",
    "            print(\"USERID = \", userId)\n",
    "            keyTemp = str(randint(0, 10000000)) #키값을 난수로 생성\n",
    "            key = keyTemp.zfill(10) #키 자릿수를 10자리로 맞춰줌\n",
    "            print(\"key = \", key)\n",
    "            \n",
    "            connectComplete = False\n",
    "            cursorComplete = False\n",
    "            \n",
    "            try:\n",
    "                oracleConnection = oci.connect(connectInfo)\n",
    "                connectComplete = True\n",
    "                oracleCursor = oracleConnection.cursor()\n",
    "                cursorComplete = True\n",
    "            except:\n",
    "                if (cursorComplete == False):\n",
    "                    oracleCursor.close()\n",
    "                if (connectComplete == False):\n",
    "                    oracleConnection.close\n",
    "                print('DB Connection Error')\n",
    "                return\n",
    "        ##여기까지 예외처리 끝##\n",
    "    \n",
    "            # BPS_USERS TABLE 생성\n",
    "            oracleCursor.execute('SELECT * FROM BPS_USERS') \n",
    "            userProfile = oracleCursor.fetchall()\n",
    "            \n",
    "            sql_insert = 'INSERT INTO BPS_USERS VALUES(:USERID, :KEY, :BALENCE)'\n",
    "            oracleCursor.execute(sql_insert, USERID = userId, KEY=key, BALENCE=0)\n",
    "            oracleConnection.commit()\n",
    "            oracleCursor.close()\n",
    "            oracleConnection.close\n",
    "\n",
    "            cursor.execute('SELECT * FROM BPS_USERS') #SQL 문장 실행\n",
    "            userProfile = cursor.fetchall() #fetchall을 통해 데이터를 서버로 가져옴\n",
    "            print(userProfile)\n",
    "            \n",
    "            cursor.execute('SELECT * FROM BPS_USERS') #SQL 문장 실행\n",
    "            userProfile = cursor.fetchall() #fetchall을 통해 데이터를 서버로 가져옴\n",
    "            print(userProfile)\n",
    "\n",
    "            # cursor 객체 닫기\n",
    "            cursor.close() \n",
    "\n",
    "            # Oracle 서버와 연결 끊기\n",
    "            conn.close\n",
    "            \n",
    "            if True :\n",
    "                self.send_response(200)\n",
    "                self.send_header('Content-type', 'text/html')\n",
    "                self.end_headers()\n",
    "                path = './html_files/login.html'\n",
    "                f = codecs.open(path, 'r', encoding='utf-8').read()\n",
    "                self.wfile.write(bytes(f, 'utf-8'))\n",
    "                return\n",
    "            \n",
    "            else:\n",
    "                self.send_response(400, 'Bad Request: record does not exist')\n",
    "                self.send_header('Content-Type', 'application/json')\n",
    "                self.end_headers()\n",
    "                \n",
    "        if None != re.search('/login', self.path):\n",
    "            # recordID = self.path\n",
    "            # print(\"recordID = \", recordID)\n",
    "            if True :\n",
    "                self.send_response(200)\n",
    "                self.send_header('Content-type', 'text/html')\n",
    "                self.end_headers()\n",
    "                path = './html_files/login.html'\n",
    "                f = codecs.open(path, 'r', encoding='utf-8').read()\n",
    "                self.wfile.write(bytes(f, 'utf-8'))\n",
    "                \n",
    "            else:\n",
    "                self.send_response(400, 'Bad Request: record does not exist')\n",
    "                self.send_header('Content-Type', 'application/json')\n",
    "                self.end_headers()\n",
    "\n",
    "        if None != re.search('/blockchainHome', self.path):\n",
    "        # recordID = self.path\n",
    "        # print(\"recordID = \", recordID)\n",
    "            if True :\n",
    "                self.send_response(200)\n",
    "                self.send_header('Content-type', 'text/html')\n",
    "                self.end_headers()\n",
    "                path = './html_files/blockchainHome.html'\n",
    "                f = codecs.open(path, 'r', encoding='utf-8').read()\n",
    "                self.wfile.write(bytes(f, 'utf-8'))\n",
    "\n",
    "            else:\n",
    "                self.send_response(400, 'Bad Request: record does not exist')\n",
    "                self.send_header('Content-Type', 'application/json')\n",
    "                self.end_headers()\n",
    "                \n",
    "        if None != re.search('/tx', self.path):\n",
    "        # recordID = self.path\n",
    "        # print(\"recordID = \", recordID)\n",
    "            if True :\n",
    "                self.send_response(200)\n",
    "                self.send_header('Content-type', 'text/html')\n",
    "                self.end_headers()\n",
    "                path = './html_files/tx.html'\n",
    "                f = codecs.open(path, 'r', encoding='utf-8').read()\n",
    "                self.wfile.write(bytes(f, 'utf-8'))\n",
    "\n",
    "            else:\n",
    "                self.send_response(400, 'Bad Request: record does not exist')\n",
    "                self.send_header('Content-Type', 'application/json')\n",
    "                self.end_headers()\n",
    "                \n",
    "    def do_POST(self):\n",
    "         if None != re.search('/tx_data', self.path):\n",
    "            # None !=(값이 없는게 아니라면)  # re.search : re는 정규표현식을 쓰겠다는 뜻, search는 re에 있는 메소드(?)를 써서 self.path에 넣는다는 뜻\n",
    "            ctype, pdict = cgi.parse_header(self.headers['content-type'])   #cgi기억하기 : cgi라는 모듈은 들어오는 모든 확장자를 받아주는(?)모듈\n",
    "            print(ctype)\n",
    "            print(pdict)\n",
    "\n",
    "            if ctype == 'application/x-www-form-urlencoded':     #application/json은? => 컨텐츠타입\n",
    "                content_length = int(self.headers['Content-Length'])\n",
    "                postvars = parse_qs((self.rfile.read(content_length)).decode('utf-8'),keep_blank_values=True)      \n",
    "                print(postvars)    #print(type(postvars)) #print(postvars.keys())\n",
    "\n",
    "                self.send_response(200)\n",
    "                self.send_header('Content-type', 'application/json')\n",
    "                self.end_headers()\n",
    "                self.wfile.write(bytes(json.dumps(postvars) ,\"utf-8\"))\n",
    "                \n",
    "            else:\n",
    "                self.send_response(403)\n",
    "                self.send_header('Content-Type', 'application/json')\n",
    "                self.end_headers()\n",
    "                \n",
    "        else:\n",
    "            self.send_response(404)\n",
    "            self.send_header('Content-Type', 'application/json')\n",
    "            self.end_headers()\n",
    "            \n",
    "        return\n",
    "       \n",
    "        \n",
    "try:\n",
    "\n",
    "    # Create a web server and define the handler to manage the\n",
    "    # incoming request\n",
    "    server = HTTPServer(('', PORT_NUMBER), myHandler)\n",
    "    print(HTTPServer.mro()) ##HTTPServer의 클래스 탐색 순서\n",
    "    print ('Started httpserver on port ' , PORT_NUMBER)\n",
    "\n",
    "    # Wait forever for incoming http requests\n",
    "    server.serve_forever()\n",
    "\n",
    "except KeyboardInterrupt:\n",
    "    print ('^C received, shutting down the web server')\n",
    "    server.socket.close()"
   ]
  },
  {
   "cell_type": "code",
   "execution_count": null,
   "metadata": {},
   "outputs": [],
   "source": []
  }
 ],
 "metadata": {
  "kernelspec": {
   "display_name": "Python 3",
   "language": "python",
   "name": "python3"
  },
  "language_info": {
   "codemirror_mode": {
    "name": "ipython",
    "version": 3
   },
   "file_extension": ".py",
   "mimetype": "text/x-python",
   "name": "python",
   "nbconvert_exporter": "python",
   "pygments_lexer": "ipython3",
   "version": "3.7.1"
  }
 },
 "nbformat": 4,
 "nbformat_minor": 2
}
