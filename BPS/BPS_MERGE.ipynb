{
 "cells": [
  {
   "cell_type": "code",
   "execution_count": 17,
   "metadata": {},
   "outputs": [],
   "source": [
    "import pandas as pd\n",
    "from sqlalchemy import create_engine, types\n",
    "import cx_Oracle as oci"
   ]
  },
  {
   "cell_type": "code",
   "execution_count": 44,
   "metadata": {},
   "outputs": [],
   "source": [
    "PORT_NUMBER = 8099\n",
    "db_ip = 'localhost'\n",
    "db_port = '1522'\n",
    "db_serviceName = 'xe'\n",
    "db_id = 'DJ2019'\n",
    "db_pw = 'DJ2019'\n",
    "db_userTableName = 'BPS_USERS'\n",
    "db_userTableColumns = ('NAME', 'KEY', 'BALANCE')\n",
    "db_blockTableName = 'BPS_BLOCK'\n",
    "db_blockTableColumns = ('BLOCKINDEX', 'PREVIOUSHASH', 'TIMESTAMP', 'DATA', 'CURRENTHASH', 'PROOF')\n",
    "db_txTableName = 'BPS_TXDATA'\n",
    "db_txTableColumns = ('COMMIT_YN', 'SENDER', 'AMOUNT', 'RECEIVER', 'UUID', 'tx_Validity')\n",
    "g_receiveNewBlock = \"/node/receiveNewBlock\"\n",
    "g_difficulty = 4\n",
    "g_maximumTry = 100\n",
    "g_nodeList = {'trustedServerAddress':'8099'}"
   ]
  },
  {
   "cell_type": "code",
   "execution_count": 19,
   "metadata": {},
   "outputs": [],
   "source": [
    "def makeUpdateQuery(tableName, setValue, whereCondition):\n",
    "    print('\\tFunction \"makeUpdateQuery\" executed')\n",
    "    setValueInput = ''\n",
    "    for key, value in setValue.items():\n",
    "        setValueInput += str(key)\n",
    "        setValueInput += ' = '\n",
    "        if (isNumber(value)):\n",
    "            setValueInput += \"%s\" % str(value)\n",
    "        else:\n",
    "            setValueInput += \"'%s'\" % str(value)\n",
    "        setValueInput += ', '\n",
    "    setValueInput = setValueInput.rstrip(', ')\n",
    "\n",
    "    whereConditionInput = ''\n",
    "    for key, value in whereCondition.items():\n",
    "        if (type(value) == list):\n",
    "            whereConditionInput += '('\n",
    "            for eachValue in value:\n",
    "                whereConditionInput += str(key)\n",
    "                whereConditionInput += ' = '\n",
    "                if (isNumber(eachValue)):\n",
    "                    whereConditionInput += str(eachValue)\n",
    "                else:\n",
    "                    whereConditionInput += \"'%s'\" % str(eachValue)\n",
    "                whereConditionInput += ' OR '\n",
    "            whereConditionInput = whereConditionInput.rstrip(' OR ')\n",
    "            whereConditionInput += ')'\n",
    "        else:\n",
    "            whereConditionInput += str(key)\n",
    "            whereConditionInput += ' = '\n",
    "            if (isNumber(value)):\n",
    "                whereConditionInput += str(value)\n",
    "            else:\n",
    "                whereConditionInput += \"'%s'\" % str(value)\n",
    "        whereConditionInput += ' AND '\n",
    "    whereConditionInput = whereConditionInput.rstrip(' AND ')\n",
    "    updateQuery = 'UPDATE %s SET %s WHERE %s' % (tableName, setValueInput, whereConditionInput)\n",
    "    print(updateQuery)\n",
    "    return updateQuery"
   ]
  },
  {
   "cell_type": "code",
   "execution_count": 20,
   "metadata": {},
   "outputs": [],
   "source": [
    "def selectTable(tableName, columns, engine, whereCondition = None):\n",
    "    print('\\tFunction \"selectTable\" executed')   \n",
    "    \n",
    "    if (whereCondition != None):\n",
    "        whereConditionInput = ''\n",
    "        for key, value in whereCondition.items():\n",
    "            if (type(value) == list):\n",
    "                whereConditionInput += '('\n",
    "                for eachValue in value:\n",
    "                    whereConditionInput += str(key)\n",
    "                    whereConditionInput += ' = '\n",
    "                    if (isNumber(eachValue)):\n",
    "                        whereConditionInput += str(eachValue)\n",
    "                    else:\n",
    "                        whereConditionInput += \"'%s'\" % str(eachValue)\n",
    "                    whereConditionInput += ' OR '\n",
    "                whereConditionInput = whereConditionInput.rstrip(' OR ')\n",
    "                whereConditionInput += ')'\n",
    "            else:\n",
    "                whereConditionInput += str(key)\n",
    "                whereConditionInput += ' = '\n",
    "                if (isNumber(value)):\n",
    "                    whereConditionInput += str(value)\n",
    "                else:\n",
    "                    whereConditionInput += \"'%s'\" % str(value)\n",
    "            whereConditionInput += ' AND '\n",
    "        whereConditionInput = whereConditionInput.rstrip(' AND ')\n",
    "        selectQuery = 'SELECT * FROM %s WHERE %s' % (tableName, whereConditionInput)\n",
    "    else:\n",
    "        selectQuery = 'SELECT * FROM %s' % tableName\n",
    "\n",
    "    try:\n",
    "        resultData = pd.read_sql_query(selectQuery, engine)\n",
    "    except:\n",
    "        print('Table select error, There are no table named \"%s\" in db. \\n It will be created' % tableName)\n",
    "        createTable(tableName, columns)\n",
    "        resultData = pd.read_sql_query(selectQuery, engine)\n",
    "    resultData.rename(columns=lambda x: x.strip().upper(), inplace=True)\n",
    "    return resultData\n"
   ]
  },
  {
   "cell_type": "code",
   "execution_count": 21,
   "metadata": {},
   "outputs": [],
   "source": [
    "def isNumber(s):\n",
    "    if (type(s) == int or type(s) == float):\n",
    "        return True\n",
    "    else:\n",
    "        return False"
   ]
  },
  {
   "cell_type": "code",
   "execution_count": 22,
   "metadata": {},
   "outputs": [],
   "source": [
    "def updateTable(tableName, setValue, whereCondition):\n",
    "    print('\\tFunction \"updateTable\" executed')\n",
    "\n",
    "    connectComplete = False\n",
    "    cursorComplete = False\n",
    "\n",
    "    try:\n",
    "        connectInfo = db_id + '/' + db_pw + '@' + db_ip + ':' + db_port + '/' + db_serviceName\n",
    "        oracleConnect = oci.connect(connectInfo)\n",
    "        connectComplete = True\n",
    "        oracleCursor = oracleConnect.cursor()\n",
    "        cursorComplete = True\n",
    "\n",
    "        updateQuery = makeUpdateQuery(tableName, setValue, whereCondition)\n",
    "        oracleCursor.execute(updateQuery)\n",
    "        oracleConnect.commit()\n",
    "        oracleCursor.close()\n",
    "        oracleConnect.close\n",
    "\n",
    "    except:\n",
    "        if (cursorComplete == True):\n",
    "            oracleCursor.close()\n",
    "        if (connectComplete == True):\n",
    "            oracleConnect.close\n"
   ]
  },
  {
   "cell_type": "code",
   "execution_count": 23,
   "metadata": {},
   "outputs": [],
   "source": [
    "def transferInfoCheck(sender, senderUserkey, receiver, receiverUserkey, amount, uuid):\n",
    "\n",
    "    print('Function \"updateTable\" executed')\n",
    "    \n",
    "    connectInfo = 'oracle+cx_oracle://%s:%s@%s:%s/%s' % (db_id, db_pw, db_ip, db_port, db_serviceName)\n",
    "    engine = create_engine(connectInfo)\n",
    "    \n",
    "    whereCondition = {}\n",
    "    whereCondition['USERNAME'] = sender\n",
    "    whereCondition['USERKEY'] = senderUserkey\n",
    "    senderData = selectTable(db_userTableName, db_userTableColumns, engine, whereCondition)\n",
    "    if (len(senderData) == 0):\n",
    "        print(\"No sender matched\")\n",
    "        return \"USER_INFO_NOT_MATCH\"\n",
    "    \n",
    "    whereCondition = {}\n",
    "    whereCondition['USERNAME'] = receiver\n",
    "    whereCondition['USERKEY'] = receiverUserkey\n",
    "    receiverData = selectTable(db_userTableName, db_userTableColumns, engine, whereCondition)\n",
    "    if (len(receiverData) == 0):\n",
    "        print(\"No receiver matched\")\n",
    "        return \"USER_INFO_NOT_MATCH\"\n",
    "    \n",
    "    resultMessage = moneyTransferCommit(senderData, receiverData, amount, uuid)\n",
    "    \n",
    "    return resultMessage"
   ]
  },
  {
   "cell_type": "code",
   "execution_count": 24,
   "metadata": {},
   "outputs": [],
   "source": [
    "def moneyTransferCommit(senderData, receiverData, amount, uuid):\n",
    "        \n",
    "    connectInfo = 'oracle+cx_oracle://%s:%s@%s:%s/%s' % (db_id, db_pw, db_ip, db_port, db_serviceName)\n",
    "    engine = create_engine(connectInfo)\n",
    "    \n",
    "    whereCondition = {}\n",
    "    whereCondition['UUID'] = uuid\n",
    "    uuidValidity = selectTable(db_txTableName, db_txTableColumns, engine, whereCondition)\n",
    "    if (len(uuidValidity) == 0):\n",
    "        print(\"No uuid matched\")\n",
    "        return \"UUID_NOT_MATCH\"\n",
    "    \n",
    "    if (uuidValidity['TX_VALIDITY'][0] != '0'):\n",
    "        print(\"Data already processed\")\n",
    "        return \"ALREADY_PROCESSED\"\n",
    "    \n",
    "    if (senderData['BALANCE'][0] >= amount): # 보내려는 금액보다 잔고가 크고 개별 트랙잭션 유효성이 null 값일 때 아래 구문 실행.\n",
    "        setValue = {}\n",
    "        setValue['BALANCE'] = float(senderData['BALANCE'][0]) - float(amount)\n",
    "        whereCondition = {}\n",
    "        whereCondition['USERNAME'] = senderData['USERNAME'][0]\n",
    "        whereCondition['USERKEY'] = senderData['USERKEY'][0]\n",
    "        updateTable(db_userTableName, setValue, whereCondition)\n",
    "        \n",
    "        setValue = {}\n",
    "        setValue['BALANCE'] = float(receiverData['BALANCE'][0]) + float(amount)\n",
    "        whereCondition = {}\n",
    "        whereCondition['USERNAME'] = receiverData['USERNAME'][0]\n",
    "        whereCondition['USERKEY'] = receiverData['USERKEY'][0]\n",
    "        updateTable(db_userTableName, setValue, whereCondition)\n",
    "        \n",
    "        setValue = {}\n",
    "        setValue['TX_VALIDITY'] = '1'\n",
    "        whereCondition = {}\n",
    "        whereCondition['uuid'] = uuid\n",
    "        updateTable(db_txTableName, setValue, whereCondition)\n",
    "        \n",
    "        return \"SUCCESS\"\n",
    "    else:\n",
    "        return \"LACK_OF_BALANCE\""
   ]
  },
  {
   "cell_type": "code",
   "execution_count": 46,
   "metadata": {},
   "outputs": [
    {
     "name": "stdout",
     "output_type": "stream",
     "text": [
      "Function \"updateTable\" executed\n",
      "\tFunction \"selectTable\" executed\n",
      "\tFunction \"selectTable\" executed\n",
      "\tFunction \"selectTable\" executed\n",
      "Data already processed\n"
     ]
    },
    {
     "data": {
      "text/plain": [
       "'ALREADY_PROCESSED'"
      ]
     },
     "execution_count": 46,
     "metadata": {},
     "output_type": "execute_result"
    }
   ],
   "source": [
    "transferInfoCheck('CC', 'cc', 'BB', 'bb', 3, 2222)"
   ]
  },
  {
   "cell_type": "code",
   "execution_count": 25,
   "metadata": {},
   "outputs": [],
   "source": [
    "def abc(**kwargs):\n",
    "    result = \"\"\n",
    "    for (key, value) in kwargs.items():\n",
    "        result += str(key)\n",
    "        result += '='\n",
    "        result += str(value)\n",
    "    print(result)"
   ]
  },
  {
   "cell_type": "code",
   "execution_count": 13,
   "metadata": {},
   "outputs": [
    {
     "name": "stdout",
     "output_type": "stream",
     "text": [
      "username=123123\n"
     ]
    }
   ],
   "source": [
    "abc(username = 123123)"
   ]
  },
  {
   "cell_type": "code",
   "execution_count": 45,
   "metadata": {},
   "outputs": [],
   "source": [
    "def insertData(tableName, **kwargs):\n",
    "\n",
    "    connectComplete = False\n",
    "    cursorComplete = False\n",
    "\n",
    "    try:\n",
    "        connectInfo = db_id + '/' + db_pw + '@' + db_ip + ':' + db_port + '/' + db_serviceName\n",
    "        oracleConnection = oci.connect(connectInfo)\n",
    "        connectComplete = True\n",
    "        oracleCursor = oracleConnection.cursor()\n",
    "        cursorComplete = True\n",
    "\n",
    "        while (True):\n",
    "            try:\n",
    "                keyTemp = str(randint(0, 10000000))  # 키값을 난수로 생성\n",
    "                key = keyTemp.zfill(10)  # 키 자릿수를 10자리로 맞춰줌\n",
    "                detailInsert = ''\n",
    "                for (key, value) in kwargs.items():\n",
    "                    detailInsert += ':%s, ' % str(key)\n",
    "                detailInsert = detailInsert.rstrip(', ')\n",
    "                insertQuery = 'INSERT INTO %s VALUES(%s)' % (tableName, detailInsert)\n",
    "                oracleCursor.execute(insertQuery, kwargs)\n",
    "                oracleConnection.commit()\n",
    "                break\n",
    "            except:\n",
    "                continue\n",
    "        oracleCursor.close()\n",
    "        oracleConnection.close\n",
    "    except:\n",
    "        if (cursorComplete == False):\n",
    "            oracleCursor.close()\n",
    "        if (connectComplete == False):\n",
    "            oracleConnection.close\n",
    "        print('DB Connection Error')\n",
    "        return"
   ]
  },
  {
   "cell_type": "code",
   "execution_count": 48,
   "metadata": {},
   "outputs": [],
   "source": [
    "insertData('BPS_USERS', USERID='123', KEY='2344', BALANCE='333')"
   ]
  },
  {
   "cell_type": "code",
   "execution_count": 35,
   "metadata": {},
   "outputs": [],
   "source": [
    "from random import *"
   ]
  },
  {
   "cell_type": "code",
   "execution_count": null,
   "metadata": {},
   "outputs": [],
   "source": []
  }
 ],
 "metadata": {
  "kernelspec": {
   "display_name": "Python 3",
   "language": "python",
   "name": "python3"
  },
  "language_info": {
   "codemirror_mode": {
    "name": "ipython",
    "version": 3
   },
   "file_extension": ".py",
   "mimetype": "text/x-python",
   "name": "python",
   "nbconvert_exporter": "python",
   "pygments_lexer": "ipython3",
   "version": "3.7.1"
  }
 },
 "nbformat": 4,
 "nbformat_minor": 2
}
