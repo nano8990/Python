{
 "cells": [
  {
   "cell_type": "code",
   "execution_count": 1,
   "metadata": {},
   "outputs": [],
   "source": [
    "def makeUpdateQuery(tableName, setValue, whereCondition):\n",
    "    setValueInput = ''\n",
    "    for key, value in setValue.items():\n",
    "        setValueInput += str(key)\n",
    "        setValueInput += ' = '\n",
    "        setValueInput += str(value)\n",
    "        setValueInput += ', '\n",
    "    setValueInput = setValueInput.rstrip(', ')\n",
    "        \n",
    "    whereConditionInput = ''\n",
    "    for key, value in setValue.items():\n",
    "        whereConditionInput += str(key)\n",
    "        whereConditionInput += ' = '\n",
    "        whereConditionInput += str(value)\n",
    "        whereConditionInput += ', '\n",
    "    whereConditionInput = whereConditionInput.rstrip(', ')\n",
    "    updateQuery = 'UPDATE %s SET %s WHERE %s' % (tableName, setValueInput, whereConditionInput)\n",
    "    return updateQuery"
   ]
  },
  {
   "cell_type": "code",
   "execution_count": 2,
   "metadata": {},
   "outputs": [
    {
     "ename": "NameError",
     "evalue": "name 'conn' is not defined",
     "output_type": "error",
     "traceback": [
      "\u001b[1;31m---------------------------------------------------------------------------\u001b[0m",
      "\u001b[1;31mNameError\u001b[0m                                 Traceback (most recent call last)",
      "\u001b[1;32m<ipython-input-2-0ab0fbefcc82>\u001b[0m in \u001b[0;36m<module>\u001b[1;34m()\u001b[0m\n\u001b[0;32m     49\u001b[0m \u001b[1;33m\u001b[0m\u001b[0m\n\u001b[0;32m     50\u001b[0m \u001b[1;33m\u001b[0m\u001b[0m\n\u001b[1;32m---> 51\u001b[1;33m \u001b[0mconn\u001b[0m\u001b[1;33m.\u001b[0m\u001b[0mcommit\u001b[0m\u001b[1;33m(\u001b[0m\u001b[1;33m)\u001b[0m\u001b[1;33m\u001b[0m\u001b[0m\n\u001b[0m\u001b[0;32m     52\u001b[0m \u001b[1;33m\u001b[0m\u001b[0m\n\u001b[0;32m     53\u001b[0m \u001b[0mcursor\u001b[0m\u001b[1;33m.\u001b[0m\u001b[0mclose\u001b[0m\u001b[1;33m(\u001b[0m\u001b[1;33m)\u001b[0m \u001b[1;31m# cursor 객체 닫기\u001b[0m\u001b[1;33m\u001b[0m\u001b[0m\n",
      "\u001b[1;31mNameError\u001b[0m: name 'conn' is not defined"
     ]
    }
   ],
   "source": [
    "def updateTable(tableName, setValue, whereCondition):\n",
    "    print('Function \"updateTable\" executed')\n",
    "    \n",
    "    connectComplete = False\n",
    "    cursorComplete = False\n",
    "    \n",
    "    try:\n",
    "        connectInfo = db_id + '/' + db_pw + '@' + db_ip + ':' + db_port + '/' + db_serviceName\n",
    "        oracleConnect = oci.connect(connectInfo)\n",
    "        connectComplete = True\n",
    "        oracleCursor = oracleConnect.cursor()\n",
    "        cursorComplete = True\n",
    "        \n",
    "        updateQuery = makeUpdateQuery(tableName, setValue, whereCondition)\n",
    "        oracleCursor.execute(updateQuery)\n",
    "        oracleConnect.commit()\n",
    "        oracleCursor.close()\n",
    "        oracleConnect.close\n",
    "        \n",
    "    except:\n",
    "        if (cursorComplete == True):\n",
    "            oracleCursor.close()\n",
    "        if (connectComplete == True):\n",
    "            oracleConnect.close\n",
    "\n",
    "def moneyTransferSearch(sender, senderUserkey, receiver, receiverUserkey, amount, uuid): #이름 키 이름 키 금액 uuid\n",
    "    try:\n",
    "        cursor.execute(\"SELECT balance FROM BPS_USERS where username = '{}' and userkey = '{}'\".format(sender, senderUserkey))  # 송신자, 송신자의 유져 키를 받아서 이걸로 잔고조회를 한다.\n",
    "        userrow = cursor.fetchall()\n",
    "    except:\n",
    "        print(\"송신자 정보 입력 오류\")\n",
    "\n",
    "    try:\n",
    "        cursor.execute(\"SELECT txValidity FROM BPS_TXDATA where uuid = '{}'\".format(uuid))  # 개별 트랜잭션번호로 트랜잭션 유효성을 조회\n",
    "        txrow = cursor.fetchall()\n",
    "    except:\n",
    "        print(\"트랜잭션 정보 조회 오류\")\n",
    "\n",
    "    moneyTransferCommit(sender, senderUserkey, receiver, receiverUserkey, amount, uuid, userrow, txrow)\n",
    "\n",
    "def moneyTransferCommit(sender, senderUserkey, receiver, receiverUserkey, amount, uuid, userrow, txrow):\n",
    "    if userrow[0][0] >= amount and txrow[0][0] == None: # 보내려는 금액보다 잔고가 크고 개별 트랙잭션 유효성이 null 값일 때 아래 구문 실행.\n",
    "        cursor.execute(\"UPDATE BPS_USERS SET BALANCE = BALANCE-{} WHERE USERNAME = '{}' and userkey = '{}'\".format(amount, sender, senderUserkey)) # 송신자 계좌에서 빼준다.\n",
    "        cursor.execute(\"UPDATE BPS_USERS SET BALANCE = BALANCE+{} WHERE USERNAME = '{}' and userkey = '{}'\".format(amount, receiver, receiverUserkey)) # 수신자 계좌에서 더해준다.\n",
    "        cursor.execute(\"UPDATE BPS_TxData SET txValidity = 1 WHERE uuid = '{}'\".format(uuid)) # 기본은 null, 1은 유효한 거래\n",
    "    elif userrow[0][0] < amount:\n",
    "        cursor.execute(\"UPDATE BPS_TxData SET txValidity = 0 WHERE uuid = '{}'\".format(uuid)) # 기본은 null, 0은 유효하지 않은 거래\n",
    "    conn.commit()\n",
    "\n",
    "\n",
    "conn.commit()\n",
    "\n",
    "cursor.close() # cursor 객체 닫기\n",
    "\n",
    "# Oracle 서버와 연결 끊기\n",
    "conn.close()"
   ]
  },
  {
   "cell_type": "code",
   "execution_count": 3,
   "metadata": {},
   "outputs": [],
   "source": [
    "PORT_NUMBER = 8099\n",
    "db_ip = '192.168.110.3'\n",
    "db_port = '1522'\n",
    "db_serviceName = 'xe'\n",
    "db_id = 'DJ2019'\n",
    "db_pw = 'DJ2019'\n",
    "db_userTableName = 'BPS_USERS'\n",
    "db_userTableColumns = ('NAME', 'KEY', 'BALANCE')\n",
    "db_blockTableName = 'BPS_BLOCK'\n",
    "db_blockTableColumns = ('BLOCKINDEX', 'PREVIOUSHASH', 'TIMESTAMP', 'DATA', 'CURRENTHASH', 'PROOF')\n",
    "db_txTableName = 'BPS_TXDATA'\n",
    "db_txTableColumns = ('COMMIT_YN', 'SENDER', 'AMOUNT', 'RECEIVER', 'UUID')\n",
    "g_receiveNewBlock = \"/node/receiveNewBlock\"\n",
    "g_difficulty = 4\n",
    "g_maximumTry = 100\n",
    "g_nodeList = {'trustedServerAddress':'8099'}"
   ]
  },
  {
   "cell_type": "code",
   "execution_count": 159,
   "metadata": {},
   "outputs": [],
   "source": [
    "import hashlib\n",
    "import time\n",
    "import csv\n",
    "import random\n",
    "import pandas as pd\n",
    "from sqlalchemy import create_engine, types\n",
    "import cx_Oracle as oci"
   ]
  },
  {
   "cell_type": "code",
   "execution_count": 5,
   "metadata": {},
   "outputs": [],
   "source": [
    "class Block:\n",
    "\n",
    "    def __init__(self, index, previousHash, timestamp, data, currentHash, proof):\n",
    "        self.index = index\n",
    "        self.previousHash = previousHash\n",
    "        self.timestamp = timestamp\n",
    "        self.data = data\n",
    "        self.currentHash = currentHash\n",
    "        self.proof = proof\n",
    "\n",
    "    def toJSON(self):\n",
    "        return json.dumps(self, default=lambda o: o.__dict__, sort_keys=True, indent=4)\n",
    "\n",
    "class txData:\n",
    "\n",
    "    def __init__(self, commitYN, sender, amount, receiver, uuid):\n",
    "        self.commitYN = commitYN\n",
    "        self.sender = sender\n",
    "        self.amount = amount\n",
    "        self.receiver = receiver\n",
    "        self.uuid = uuid"
   ]
  },
  {
   "cell_type": "code",
   "execution_count": 157,
   "metadata": {},
   "outputs": [],
   "source": [
    "def generateGenesisBlock(): #처음 블록을 생성 딱 한번만 호출\n",
    "    print(\"generateGenesisBlock is called\")\n",
    "    timestamp = time.time()\n",
    "    print(\"time.time() => %f \\n\" % timestamp)\n",
    "    tempHash = calculateHash(0, '0', timestamp, \"Genesis Block\", 0)\n",
    "    print(tempHash)\n",
    "    return Block(0, '0', timestamp, \"Genesis Block\",  tempHash,0)"
   ]
  },
  {
   "cell_type": "code",
   "execution_count": 158,
   "metadata": {},
   "outputs": [],
   "source": [
    "def calculateHash(index, previousHash, timestamp, data, proof): #해쉬계산 블록번호, 이전블록 해쉬, 거래시간, 데이터, 작업증명을 넣어서 하고 16진수로 바꿈\n",
    "    value = str(index) + str(previousHash) + str(timestamp) + str(data) + str(proof)\n",
    "    sha = hashlib.sha256(value.encode('utf-8'))\n",
    "    return str(sha.hexdigest())"
   ]
  },
  {
   "cell_type": "code",
   "execution_count": 160,
   "metadata": {},
   "outputs": [],
   "source": [
    "def calculateHashForBlock(block): #위에 있는 해쉬를 call\n",
    "    return calculateHash(block.index, block.previousHash, block.timestamp, block.data, block.proof)"
   ]
  },
  {
   "cell_type": "code",
   "execution_count": 161,
   "metadata": {},
   "outputs": [],
   "source": [
    "def getLatestBlock(blockchain): #가장 최근의 블록\n",
    "    return blockchain[len(blockchain) - 1]"
   ]
  },
  {
   "cell_type": "code",
   "execution_count": 162,
   "metadata": {},
   "outputs": [],
   "source": [
    "def generateNextBlock(blockchain, blockData, timestamp, proof): #다음블록생성\n",
    "    previousBlock = getLatestBlock(blockchain)\n",
    "    nextIndex = int(previousBlock.index) + 1\n",
    "    nextTimestamp = timestamp\n",
    "    nextHash = calculateHash(nextIndex, previousBlock.currentHash, nextTimestamp, blockData, proof)\n",
    "    # index, previousHash, timestamp, data, currentHash, proof\n",
    "    return Block(nextIndex, previousBlock.currentHash, nextTimestamp, blockData, nextHash,proof)"
   ]
  },
  {
   "cell_type": "code",
   "execution_count": 6,
   "metadata": {},
   "outputs": [],
   "source": [
    "def makeCreateTableQuery(tableName, columns):\n",
    "    print('\\tFunction \"makeCreateTableQuery\" executed')\n",
    "    \n",
    "    if (tableName == 'BPS_BLOCK'):\n",
    "        createTableQuery = \"CREATE TABLE BPS_BLOCK(\\\n",
    "        %s NUMBER NOT NULL, \\\n",
    "        %s VARCHAR2 (100) NOT NULL, \\\n",
    "        %s VARCHAR2 (100) NOT NULL, \\\n",
    "        %s VARCHAR2 (100) NOT NULL, \\\n",
    "        %s VARCHAR2 (100) NOT NULL, \\\n",
    "        %s NUMBER NOT NULL, \\\n",
    "        CONSTRAINTS PK_BPS_BLOCK PRIMARY KEY(BLOCKINDEX) \\\n",
    "        )\" % columns\n",
    "    \n",
    "    return createTableQuery"
   ]
  },
  {
   "cell_type": "code",
   "execution_count": 7,
   "metadata": {},
   "outputs": [],
   "source": [
    "def makeDropTableQuery(tableName):\n",
    "    print('\\tFunction \"makeDropTableQuery\" executed')\n",
    "\n",
    "    dropTableQuery = 'DROP TABLE %s' % tableName\n",
    "    \n",
    "    return dropTableQuery"
   ]
  },
  {
   "cell_type": "code",
   "execution_count": 8,
   "metadata": {},
   "outputs": [],
   "source": [
    "def selectTable(tableName, columns, engine):\n",
    "    print('\\tFunction \"selectTable\" executed')\n",
    "    selectQuery = 'SELECT * FROM %s' % tableName\n",
    "    try:\n",
    "        resultData = pd.read_sql_query(selectQuery, engine)\n",
    "    except:\n",
    "        print('Table select error, There are no table named \"%s\" in db. \\n It will be created' % tableName)\n",
    "        createTable(tableName, columns)\n",
    "        resultData = pd.read_sql_query(selectQuery, engine)\n",
    "    return resultData\n",
    "\n",
    "def selectTableWhere(tableName, columns, engine, whereCondition):\n",
    "    print('\\tFunction \"selectTable\" executed')\n",
    "    \n",
    "    whereConditionInput = ''\n",
    "    for key, value in setValue.items():\n",
    "        whereConditionInput += str(key)\n",
    "        whereConditionInput += ' = '\n",
    "        whereConditionInput += str(value)\n",
    "        whereConditionInput += ', '\n",
    "    whereConditionInput = whereConditionInput.rstrip(', ')\n",
    "    \n",
    "    selectQuery = 'SELECT * FROM %s WHERE %s' % (tableName, whereConditionInput)\n",
    "    try:\n",
    "        resultData = pd.read_sql_query(selectQuery, engine)\n",
    "    except:\n",
    "        print('Table select error, There are no table named \"%s\" in db. \\n It will be created' % tableName)\n",
    "        createTable(tableName, columns)\n",
    "        resultData = pd.read_sql_query(selectQuery, engine)\n",
    "    return resultData"
   ]
  },
  {
   "cell_type": "code",
   "execution_count": 9,
   "metadata": {},
   "outputs": [],
   "source": [
    "def createTable(tableName, columns):\n",
    "    print('Function \"createTable\" executed')\n",
    "    \n",
    "    connectComplete = False\n",
    "    cursorComplete = False\n",
    "    \n",
    "    try:\n",
    "        connectInfo = db_id + '/' + db_pw + '@' + db_ip + ':' + db_port + '/' + db_serviceName\n",
    "        oracleConnect = oci.connect(connectInfo)\n",
    "        connectComplete = True\n",
    "        oracleCursor = oracleConnect.cursor()\n",
    "        cursorComplete = True\n",
    "        \n",
    "        createTableQuery = makeCreateTableQuery(tableName, columns)\n",
    "        oracleCursor.execute(createTableQuery)\n",
    "        oracleConnect.commit()\n",
    "        oracleCursor.close()\n",
    "        oracleConnect.close\n",
    "        \n",
    "    except:\n",
    "        if (cursorComplete == True):\n",
    "            oracleCursor.close()\n",
    "        if (connectComplete == True):\n",
    "            oracleConnect.close"
   ]
  },
  {
   "cell_type": "code",
   "execution_count": 10,
   "metadata": {},
   "outputs": [],
   "source": [
    "def replaceTable(tableName, columns):\n",
    "    print('\\tFunction \"replaceTable\" executed')\n",
    "    connectComplete = False\n",
    "    cursorComplete = False\n",
    "    \n",
    "    try:\n",
    "        connectInfo = db_id + '/' + db_pw + '@' + db_ip + ':' + db_port + '/' + db_serviceName\n",
    "        oracleConnect = oci.connect(connectInfo)\n",
    "        connectComplete = True\n",
    "        oracleCursor = oracleConnect.cursor()\n",
    "        cursorComplete = True\n",
    "        \n",
    "        dropTableQuery = makeDropTableQuery(tableName)\n",
    "        oracleCursor.execute(dropTableQuery)\n",
    "        createTableQuery = makeCreateTableQuery(tableName, columns)\n",
    "        oracleCursor.execute(createTableQuery)\n",
    "        oracleConnect.commit()\n",
    "        oracleCursor.close()\n",
    "        oracleConnect.close\n",
    "        \n",
    "    except:\n",
    "        if (cursorComplete == True):\n",
    "            oracleCursor.close()\n",
    "        if (connectComplete == True):\n",
    "            oracleConnect.close"
   ]
  },
  {
   "cell_type": "code",
   "execution_count": 11,
   "metadata": {},
   "outputs": [],
   "source": [
    "def writeBlockchain(blockchain):\n",
    "    \n",
    "    print('\\tFunction \"writeBlockchain\" executed')\n",
    "    blockchainList = []\n",
    "    for block in blockchain:\n",
    "        blockList = [block.index, str(block.previousHash), str(block.timestamp), str(block.data), str(block.currentHash), block.proof]\n",
    "        blockchainList.append(blockList)\n",
    "    \n",
    "    connectInfo = 'oracle+cx_oracle://%s:%s@%s:%s/%s' % (db_id, db_pw, db_ip, db_port, db_serviceName)\n",
    "    engine = create_engine(connectInfo)\n",
    "    \n",
    "    blockReader = selectTable(db_blockTableName, db_blockTableColumns, engine)\n",
    "\n",
    "    lastLineNumber = len(blockReader)\n",
    "    for i in range(lastLineNumber):\n",
    "        lineNumber = i + 1\n",
    "        if (lineNumber == lastLineNumber):\n",
    "            line = blockReader.loc[i]\n",
    "            lastBlock = Block(line[0], line[1], line[2], line[3], line[4], line[5])\n",
    "    \n",
    "    try:\n",
    "        if (lastBlock.index + 1 != int(blockchainList[-1][0])):\n",
    "            print(\"Index sequence mismatch\")\n",
    "            if (lastBlock.index == int(blockchainList[-1][0])):\n",
    "                print(\"DB has already been updated\")\n",
    "            return\n",
    "        \n",
    "        blockWriter = pd.DataFrame(blockchainList, columns = db_blockTableColumns)\n",
    "\n",
    "    except:\n",
    "        print('Index search error, There are no data or Existing table have problems. \\n It will be replaced by full data.')\n",
    "        blockWriter = pd.DataFrame(blockchainList, columns = db_blockTableColumns)\n",
    "\n",
    "    # convert type to varchar if the types of the columns of a dataframe is object\n",
    "    to_varchar = {c:types.VARCHAR(blockWriter[c].str.len().max()) for c in blockWriter.columns[blockWriter.dtypes == 'object'].tolist()}\n",
    "    replaceTable(db_blockTableName, db_blockTableColumns)\n",
    "    blockWriter.to_sql(db_blockTableName, engine, if_exists = 'append', index = False, dtype = to_varchar)\n",
    "    \n",
    "    print('Blockchain written to db')\n",
    "    \n",
    "#     # update txData cause it has been mined.\n",
    "#     for block in blockchain:\n",
    "#         updateTx(block)\n",
    "\n",
    "#     print('Blockchain written to blockchain.csv.')\n",
    "#     print('Broadcasting new block to other nodes')\n",
    "#     broadcastNewBlock(blockchain)"
   ]
  },
  {
   "cell_type": "code",
   "execution_count": 155,
   "metadata": {},
   "outputs": [],
   "source": [
    "def readBlockchain(engine, mode = 'internal'):\n",
    "    print(\"readBlockChain\")\n",
    "    \n",
    "    connectInfo = 'oracle+cx_oracle://%s:%s@%s:%s/%s' % (db_id, db_pw, db_ip, db_port, db_serviceName)\n",
    "    engine = create_engine(connectInfo)\n",
    "    importedBlockChain = []\n",
    "    \n",
    "    blockReader = selectTable(db_blockTableName, db_blockTableColumns, engine)\n",
    "        \n",
    "    try:\n",
    "        for i in range(len(blockReader)):\n",
    "            line = blockReader.loc[i]\n",
    "            block = Block(line[0],line[1],line[2],line[3],str(line[4]),str(line[5]) )\n",
    "            importedBlockChain.append(block)\n",
    "        print(\"success pulling blockchain from DB\")\n",
    "        return importedBlockChain\n",
    "    except:\n",
    "        if mode == 'internal':\n",
    "            blockchain = generateGenesisBlock()\n",
    "            importedBlockchain.append(blockchain)\n",
    "            return writeBlockchain(blockchain)\n",
    "        else:\n",
    "            return None"
   ]
  },
  {
   "cell_type": "code",
   "execution_count": 156,
   "metadata": {},
   "outputs": [
    {
     "name": "stdout",
     "output_type": "stream",
     "text": [
      "readBlockChain\n",
      "\tFunction \"selectTable\" executed\n",
      "success pulling blockchain from DB\n"
     ]
    },
    {
     "data": {
      "text/plain": [
       "[<__main__.Block at 0xe41beb8>,\n",
       " <__main__.Block at 0xe41bd30>,\n",
       " <__main__.Block at 0xe446208>,\n",
       " <__main__.Block at 0xe446278>,\n",
       " <__main__.Block at 0xe4462e8>,\n",
       " <__main__.Block at 0xe446358>,\n",
       " <__main__.Block at 0xe4463c8>,\n",
       " <__main__.Block at 0xe446438>,\n",
       " <__main__.Block at 0xe4464a8>,\n",
       " <__main__.Block at 0xe446518>]"
      ]
     },
     "execution_count": 156,
     "metadata": {},
     "output_type": "execute_result"
    }
   ],
   "source": [
    "readBlockchain(engine)"
   ]
  },
  {
   "cell_type": "code",
   "execution_count": null,
   "metadata": {},
   "outputs": [],
   "source": [
    "connectInfo = 'oracle+cx_oracle://%s:%s@%s:%s/%s' % (db_id, db_pw, db_ip, db_port, db_serviceName)\n",
    "engine = create_engine(connectInfo)\n",
    "\n",
    "def readTx(): #거래내역 읽기 채굴할때 호출 블록에 없는 데이터들 불러옴\n",
    "    print(\"readTx\")\n",
    "    importedTx = []\n",
    "\n",
    "    try:\n",
    "        txReader = selectTable(db_txTableName, db_txTableColumns, engine)\n",
    "        for i in range(len(txReader)):\n",
    "            row = txReader.loc[i]\n",
    "            if row[0] == '0': # find unmined txData\n",
    "                line = txData(row[0],row[1],row[2],row[3],row[4])\n",
    "                importedTx.append(line)\n",
    "        print(\"Pulling txData from csv...\")\n",
    "        return importedTx\n",
    "    except:\n",
    "        return []"
   ]
  },
  {
   "cell_type": "code",
   "execution_count": null,
   "metadata": {},
   "outputs": [],
   "source": [
    "connectInfo = 'oracle+cx_oracle://%s:%s@%s:%s/%s' % (db_id, db_pw, db_ip, db_port, db_serviceName)\n",
    "engine = create_engine(connectInfo)\n",
    "\n",
    "def getTxData():\n",
    "    strTxData = ''\n",
    "    importedTx = readTx()\n",
    "    if len(importedTx) > 0:\n",
    "        for i in importedTx:\n",
    "            print(\"서비스 송신정보\")\n",
    "            transaction = \"[\"+ i.uuid + \"]\" \"UserKey \" + i.sender + \" sent \" + i.amount + \" bitTokens to UserKey \" + i.receiver + \". \"\n",
    "            print(transaction)\n",
    "            strTxData += transaction\n",
    "    return strTxData"
   ]
  },
  {
   "cell_type": "code",
   "execution_count": null,
   "metadata": {},
   "outputs": [],
   "source": [
    "connectInfo = 'oracle+cx_oracle://%s:%s@%s:%s/%s' % (db_id, db_pw, db_ip, db_port, db_serviceName)\n",
    "engine = create_engine(connectInfo)\n",
    "\n",
    "def minNewBlock(g_difficulty,engine):\n",
    "    blockchain = readBlockchain(engine)\n",
    "    strTxData = getTxData()\n",
    "    if strTxData == '':\n",
    "        print('txdata not found, so mining aborted')\n",
    "        return\n",
    "    timestamp = time.time()\n",
    "    proof = 0\n",
    "    newBlcokFound = False\n",
    "    \n",
    "    print(\"Mining  blocks\")\n",
    "    \n",
    "    while not newBlcokFound:\n",
    "        newBlcokaAttempt = generateNextBlock(blockchain, strTxData, timestamp, proof)\n",
    "        if newBlockAttempt.currentHash[0:difficulty] == '0' * difficulty: #0부터 난이도(2)까지 0*2 = 00이냐 로 묻는 것 - 즉 난이도를 만족하냐?\n",
    "            stopTime = time.time()\n",
    "            timer = stopTime - timestamp\n",
    "            print('New block found with proof', proof, 'in', round(timer, 2), 'seconds.')\n",
    "            newBlockFound = True\n",
    "        else:\n",
    "            proof += 1\n",
    "\n",
    "    blockchain.append(newBlockAttempt)\n",
    "    writeBlockchain(blockchain)\n",
    "    "
   ]
  },
  {
   "cell_type": "code",
   "execution_count": null,
   "metadata": {},
   "outputs": [],
   "source": [
    "def mine():\n",
    "    mineNewBlock()"
   ]
  },
  {
   "cell_type": "code",
   "execution_count": null,
   "metadata": {},
   "outputs": [],
   "source": [
    "def isSameBlock(block1, block2):\n",
    "    if str(block1.index) != str(block2.index):\n",
    "        return False\n",
    "    elif str(block1.previousHash) != str(block2.previousHash):\n",
    "        return False\n",
    "    elif str(block1.timestamp) != str(block2.timestamp):\n",
    "        return False\n",
    "    elif str(block1.data) != str(block2.data):\n",
    "        return False\n",
    "    elif str(block1.currentHash) != str(block2.currentHash):\n",
    "        return False\n",
    "    elif str(block1.proof) != str(block2.proof):\n",
    "        return False\n",
    "    return True"
   ]
  },
  {
   "cell_type": "code",
   "execution_count": null,
   "metadata": {},
   "outputs": [],
   "source": [
    "def isValidNewBlock(newBlock, previousBlock):\n",
    "    if int(previousBlock.index) + 1 != int(newBlock.index):\n",
    "        print('Indices Do Not Match Up')\n",
    "        return False\n",
    "    elif previousBlock.currentHash != newBlock.previousHash:\n",
    "        print(\"Previous hash does not match\")\n",
    "        return False\n",
    "    elif calculateHashForBlock(newBlock) != newBlock.currentHash:\n",
    "        print(\"Hash is invalid\")\n",
    "        return False\n",
    "    elif newBlock.currentHash[0:g_difficulty] != '0' * g_difficulty:\n",
    "        print(\"Hash difficulty is invalid\")\n",
    "        return False\n",
    "    return True"
   ]
  },
  {
   "cell_type": "code",
   "execution_count": null,
   "metadata": {},
   "outputs": [],
   "source": []
  },
  {
   "cell_type": "code",
   "execution_count": null,
   "metadata": {},
   "outputs": [],
   "source": []
  },
  {
   "cell_type": "code",
   "execution_count": null,
   "metadata": {},
   "outputs": [],
   "source": []
  },
  {
   "cell_type": "code",
   "execution_count": null,
   "metadata": {},
   "outputs": [],
   "source": [
    "blockchain = [\n",
    "    Block(0, 0, 0, 0, 0, 0),\n",
    "    Block(1, 0, 0, 0, 0, 0),\n",
    "    Block(2, 0, 0, 0, 0, 0),\n",
    "    Block(3, 0, 0, 0, 0, 0), \n",
    "    Block(4, 0, 0, 0, 0, 0), \n",
    "    Block(5, 0, 0, 0, 0, 0),\n",
    "    Block(6, 0, 0, 0, 0, 0)\n",
    "]\n",
    "writeBlockchain(blockchain)"
   ]
  },
  {
   "cell_type": "code",
   "execution_count": null,
   "metadata": {},
   "outputs": [],
   "source": [
    "writeBlockchain(blockchain)"
   ]
  },
  {
   "cell_type": "code",
   "execution_count": null,
   "metadata": {},
   "outputs": [],
   "source": []
  }
 ],
 "metadata": {
  "kernelspec": {
   "display_name": "Python 3",
   "language": "python",
   "name": "python3"
  },
  "language_info": {
   "codemirror_mode": {
    "name": "ipython",
    "version": 3
   },
   "file_extension": ".py",
   "mimetype": "text/x-python",
   "name": "python",
   "nbconvert_exporter": "python",
   "pygments_lexer": "ipython3",
   "version": "3.7.1"
  }
 },
 "nbformat": 4,
 "nbformat_minor": 2
}
