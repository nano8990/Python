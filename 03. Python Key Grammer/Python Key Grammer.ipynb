{
 "cells": [
  {
   "cell_type": "markdown",
   "metadata": {},
   "source": [
    "# 1. 반복문"
   ]
  },
  {
   "cell_type": "markdown",
   "metadata": {},
   "source": [
    "## for 문"
   ]
  },
  {
   "cell_type": "code",
   "execution_count": 29,
   "metadata": {},
   "outputs": [
    {
     "name": "stdout",
     "output_type": "stream",
     "text": [
      "['UN40EN001', 'UN40EN002', 'UN40EN003', 'UN40EN004']\n",
      "LED_TV\n"
     ]
    }
   ],
   "source": [
    "tvList = ['UN40EN001','UN40EN002','UN40EN003','UN40EN004']\n",
    "preFix = \"LED_TV\"\n",
    "print(tvList)\n",
    "print(preFix)"
   ]
  },
  {
   "cell_type": "code",
   "execution_count": 30,
   "metadata": {},
   "outputs": [],
   "source": [
    "for i in range(0, len(tvList)): # rabge(시작, 끝)을 많이 사용 / 여기서는 끝 범위(4) 바로 앞인 0, 1, 2, 3까지 반복\n",
    "    tvList[i] = preFix + \"_\" + tvList[i] # 파이썬은 반복의 구문을 Tab으로 구분"
   ]
  },
  {
   "cell_type": "code",
   "execution_count": 31,
   "metadata": {},
   "outputs": [
    {
     "name": "stdout",
     "output_type": "stream",
     "text": [
      "['LED_TV_UN40EN001', 'LED_TV_UN40EN002', 'LED_TV_UN40EN003', 'LED_TV_UN40EN004']\n"
     ]
    }
   ],
   "source": [
    "print(tvList)"
   ]
  },
  {
   "cell_type": "markdown",
   "metadata": {},
   "source": [
    "### 2중 for 문"
   ]
  },
  {
   "cell_type": "code",
   "execution_count": 71,
   "metadata": {},
   "outputs": [
    {
     "name": "stdout",
     "output_type": "stream",
     "text": [
      "2단 시작\n",
      "2 * 1 = 2\n",
      "2 * 2 = 4\n",
      "2 * 3 = 6\n",
      "2 * 4 = 8\n",
      "2 * 5 = 10\n",
      "2 * 6 = 12\n",
      "2 * 7 = 14\n",
      "2 * 8 = 16\n",
      "2 * 9 = 18\n",
      "\n",
      "3단 시작\n",
      "3 * 1 = 3\n",
      "3 * 2 = 6\n",
      "3 * 3 = 9\n",
      "3 * 4 = 12\n",
      "3 * 5 = 15\n",
      "3 * 6 = 18\n",
      "3 * 7 = 21\n",
      "3 * 8 = 24\n",
      "3 * 9 = 27\n",
      "\n",
      "4단 시작\n",
      "4 * 1 = 4\n",
      "4 * 2 = 8\n",
      "4 * 3 = 12\n",
      "4 * 4 = 16\n",
      "4 * 5 = 20\n",
      "4 * 6 = 24\n",
      "4 * 7 = 28\n",
      "4 * 8 = 32\n",
      "4 * 9 = 36\n",
      "\n"
     ]
    }
   ],
   "source": [
    "for n in [2, 3, 4]:\n",
    "    print(\"{0}단 시작\".format(n)) # format 앞에는 쉽표가 아니라 마침표\n",
    "    for i in range(1, 10):\n",
    "        print(\"{0} * {1} = {2}\".format(n, i, (n * i)))\n",
    "    print(\"\")\n",
    "# 데이터분석에서는 2 ~ 3중 for문을 사용할 일이 그리 많지는 않다.\n",
    "# 그런데 나중에 크롤링 스크래핑할때 많이 쓰일 수 있다.\n",
    "# 그 때는 힌 줄씩 파헤쳐보는 디버깅작업이 중요하다."
   ]
  },
  {
   "cell_type": "code",
   "execution_count": 70,
   "metadata": {},
   "outputs": [
    {
     "name": "stdout",
     "output_type": "stream",
     "text": [
      "1단 시작\n",
      "1 * 0 = 0\n",
      "1 * 1 = 1\n",
      "1 * 2 = 2\n",
      "1 * 3 = 3\n",
      "1 * 4 = 4\n",
      "1 * 5 = 5\n",
      "\n",
      "2단 시작\n",
      "2 * 0 = 0\n",
      "2 * 1 = 2\n",
      "2 * 2 = 4\n",
      "2 * 3 = 6\n",
      "2 * 4 = 8\n",
      "2 * 5 = 10\n",
      "\n"
     ]
    }
   ],
   "source": [
    "for n in [2, 3, 4]:\n",
    "    print(\"{0}단 시작\".format(n))\n",
    "    for i in range(0, 10):\n",
    "        if i > 5: # 만약 i가 5보다 크면\n",
    "            break # break를 만나면 멈춤\n",
    "        print(\"{0} * {1} = {2}\".format(n, i, (n * i)))\n",
    "    print(\"\")"
   ]
  },
  {
   "cell_type": "code",
   "execution_count": 73,
   "metadata": {},
   "outputs": [
    {
     "name": "stdout",
     "output_type": "stream",
     "text": [
      "3단 시작\n",
      "3 * 0 = 0\n",
      "3 * 1 = 3\n",
      "3 * 2 = 6\n",
      "3 * 3 = 9\n",
      "3 * 4 = 12\n",
      "3 * 5 = 15\n",
      "3 * 6 = 18\n",
      "3 * 7 = 21\n",
      "3 * 8 = 24\n",
      "3 * 9 = 27\n",
      "\n",
      "5단 시작\n",
      "5 * 0 = 0\n",
      "5 * 1 = 5\n",
      "5 * 2 = 10\n",
      "5 * 3 = 15\n",
      "5 * 4 = 20\n",
      "5 * 5 = 25\n",
      "5 * 6 = 30\n",
      "5 * 7 = 35\n",
      "5 * 8 = 40\n",
      "5 * 9 = 45\n",
      "\n"
     ]
    }
   ],
   "source": [
    "for n in [2, 3, 4, 5, 6]:\n",
    "    if n%2 == 0: # 만약 n을 2로 나눈 나머지가 0이라면(짝수라면)\n",
    "        continue # continue 이후 수행하지 않음(생략)\n",
    "    print(\"{0}단 시작\".format(n))\n",
    "    for i in range(0, 10):\n",
    "        print(\"{0} * {1} = {2}\".format(n, i, (n * i)))\n",
    "    print(\"\")"
   ]
  },
  {
   "cell_type": "markdown",
   "metadata": {},
   "source": [
    "## while 문"
   ]
  },
  {
   "cell_type": "code",
   "execution_count": 32,
   "metadata": {},
   "outputs": [
    {
     "name": "stdout",
     "output_type": "stream",
     "text": [
      "['UN40EN001', 'UN40EN002', 'UN40EN003', 'UN40EN004']\n",
      "LED_TV\n"
     ]
    }
   ],
   "source": [
    "tvList = ['UN40EN001','UN40EN002','UN40EN003','UN40EN004']\n",
    "preFix = \"LED_TV\"\n",
    "print(tvList)\n",
    "print(preFix)"
   ]
  },
  {
   "cell_type": "code",
   "execution_count": 33,
   "metadata": {},
   "outputs": [],
   "source": [
    "i = 0 # for문은 range함수를 사용하면 알아서 범위 안에서 돌아가는데, 변수 i의 최초 값을 선언해줘야 함\n",
    "while(i < len(tvList)):\n",
    "    tvList[i] = preFix + \"_\" + tvList[i]\n",
    "    i = i + 1 # while문은 범위를 지정해주지 않았기 때문에 조건에 해당하는 i값을 늘리는 함수가 필요."
   ]
  },
  {
   "cell_type": "code",
   "execution_count": 34,
   "metadata": {},
   "outputs": [
    {
     "name": "stdout",
     "output_type": "stream",
     "text": [
      "['LED_TV_UN40EN001', 'LED_TV_UN40EN002', 'LED_TV_UN40EN003', 'LED_TV_UN40EN004']\n"
     ]
    }
   ],
   "source": [
    "print(tvList)"
   ]
  },
  {
   "cell_type": "markdown",
   "metadata": {},
   "source": [
    "# 2. 조건문"
   ]
  },
  {
   "cell_type": "markdown",
   "metadata": {},
   "source": [
    "## quiz"
   ]
  },
  {
   "cell_type": "code",
   "execution_count": null,
   "metadata": {},
   "outputs": [],
   "source": [
    "# 리스트에서 LEDTV가 한 개만 작동하도록\n",
    "tvList = ['LEDTV_UN40EN001', 'LEDTV_LEDTV_LEDTV_LEDTV_LEDTV_LEDTV_LEDTV_LEDTV_UN40EN002', 'LEDTV_LEDTV_LEDTV_UN40EN003', 'UN40EN004']\n",
    "preFix = \"LEDTV_\"\n",
    "preFixCount = tvList.count(preFix)\n",
    "for i in range(0, len(tvList)):\n",
    "    preFixCount = tvList[i].count(preFix)\n",
    "    if preFixCount == 0:\n",
    "        tvList[i] = preFix + tvList[i]\n",
    "    elif preFixCount >= 2:\n",
    "        tvList[i] = preFix + tvList[i].replace(preFix, \"\")\n",
    "print(tvList)"
   ]
  },
  {
   "cell_type": "code",
   "execution_count": 145,
   "metadata": {},
   "outputs": [
    {
     "name": "stdout",
     "output_type": "stream",
     "text": [
      "B\n"
     ]
    }
   ],
   "source": [
    "# score 변수를 80으로 선언 후 90점 이상 A, 80~90점 B, 이외 C 점수로 grade 변수에 할당\n",
    "score = 80\n",
    "if score >= 90:\n",
    "    grade = \"A\"\n",
    "elif score >= 80:\n",
    "    grade = \"B\"\n",
    "else:\n",
    "    grade = \"C\"\n",
    "print(grade)"
   ]
  },
  {
   "cell_type": "markdown",
   "metadata": {},
   "source": [
    "# 3. 함수"
   ]
  },
  {
   "cell_type": "code",
   "execution_count": 166,
   "metadata": {},
   "outputs": [
    {
     "name": "stdout",
     "output_type": "stream",
     "text": [
      "1.8867924528301887\n"
     ]
    }
   ],
   "source": [
    "# 프로세스를 반복적으로 사용해야할 때가 있다.\n",
    "a = 10\n",
    "b = 5.3\n",
    "display2Digit = a / b\n",
    "print(display2Digit)"
   ]
  },
  {
   "cell_type": "code",
   "execution_count": 227,
   "metadata": {},
   "outputs": [
    {
     "name": "stdout",
     "output_type": "stream",
     "text": [
      "188.67924528301887\n",
      "189\n",
      "1.89\n"
     ]
    }
   ],
   "source": [
    "# 소수점 반올림 프로세스\n",
    "target = display2Digit\n",
    "target_step1 = target * 100\n",
    "target_step2 = round(target_step1)\n",
    "target_step3 = target_step2 / 100\n",
    "print(target_step1) ; print(target_step2) ; print(target_step3)"
   ]
  },
  {
   "cell_type": "code",
   "execution_count": 228,
   "metadata": {},
   "outputs": [],
   "source": [
    "# 단순히 소수점 2자리를 반올림하는 함수 구현\n",
    "def round2Digit(value):\n",
    "    step1 = value * 100\n",
    "    step2 = round(step1)\n",
    "    step3 = step2 / 100\n",
    "    return step3"
   ]
  },
  {
   "cell_type": "code",
   "execution_count": 229,
   "metadata": {},
   "outputs": [
    {
     "name": "stdout",
     "output_type": "stream",
     "text": [
      "1.89\n",
      "5.24\n"
     ]
    }
   ],
   "source": [
    "answer1 = round2Digit(display2Digit)\n",
    "answer2 = round2Digit(5.2352362632935)\n",
    "print(answer) ; print(answer2)"
   ]
  },
  {
   "cell_type": "code",
   "execution_count": 230,
   "metadata": {},
   "outputs": [],
   "source": [
    "# digit변수로 자리수를 조정하는 것을 추가\n",
    "def round2Digit2(value, digit):\n",
    "    step1 = value * (10 ** digit)\n",
    "    step2 = round(step1)\n",
    "    step3 = step2 / (10 ** digit)\n",
    "    return step3\n",
    "# step1,2,3는 여기 함수 생성하는 곳에만 쓰이므로 지역변수다.\n",
    "# for문 할 때 썼던 변수들은 마지막 값이 계속 잔존하므로 전역변수다."
   ]
  },
  {
   "cell_type": "code",
   "execution_count": 231,
   "metadata": {},
   "outputs": [
    {
     "name": "stdout",
     "output_type": "stream",
     "text": [
      "1.88679\n",
      "5.2352363\n"
     ]
    }
   ],
   "source": [
    "answer1 = round2Digit2(display2Digit, 5)\n",
    "answer2 = round2Digit2(5.2352362632935, 7)\n",
    "print(answer1) ; print(answer2)"
   ]
  },
  {
   "cell_type": "code",
   "execution_count": 288,
   "metadata": {},
   "outputs": [],
   "source": [
    "# 리스트를 인수로 받아서 최대, 최소값을 뺀 평균을 구하는 함수를 생성하세요.\n",
    "def listMMRA1(list):\n",
    "    listMaxCount = list.count(max(list))\n",
    "    for i in range(0, listMaxCount):\n",
    "        list.remove(max(list))\n",
    "    listMinCount = list.count(min(list))\n",
    "    for i in range(0, listMinCount):\n",
    "        list.remove(min(list))\n",
    "    list_Average = sum(list) / len(list)\n",
    "    return list_Average"
   ]
  },
  {
   "cell_type": "code",
   "execution_count": 289,
   "metadata": {},
   "outputs": [],
   "source": [
    "# 이게 좀 더 좋은 함수(데이터가 지워지지 않음)\n",
    "def listMMRA2(list):\n",
    "    minValue = min(list)\n",
    "    maxValue = max(list)\n",
    "    \n",
    "    minValueCount = list.count(minValue)\n",
    "    maxValueCount = list.count(maxValue)\n",
    "    \n",
    "    sumMinMax = sum(list) - (minValue * minValueCount + maxValue * maxValueCount)\n",
    "    lenMinMax = len(list) - (minValueCount + maxValueCount)\n",
    "    \n",
    "    list_Average = sumMinMax / lenMinMax\n",
    "    return list_Average"
   ]
  },
  {
   "cell_type": "code",
   "execution_count": 290,
   "metadata": {},
   "outputs": [
    {
     "name": "stdout",
     "output_type": "stream",
     "text": [
      "8936.090755278527\n",
      "8936.090755278527\n"
     ]
    }
   ],
   "source": [
    "qtyList = pd.read_csv(\"../Python_ST_EX/dataset/kopo_channel_seasonality_new.csv\")[\"QTY\"].tolist()\n",
    "print(listMMRA1(qtyList))\n",
    "qtyList = pd.read_csv(\"../Python_ST_EX/dataset/kopo_channel_seasonality_new.csv\")[\"QTY\"].tolist()\n",
    "print(listMMRA2(qtyList))"
   ]
  },
  {
   "cell_type": "markdown",
   "metadata": {},
   "source": [
    "# 4. 사용자 입력 변수 받기"
   ]
  },
  {
   "cell_type": "code",
   "execution_count": 291,
   "metadata": {},
   "outputs": [
    {
     "name": "stdout",
     "output_type": "stream",
     "text": [
      "성함을 입력하세요:김동준\n",
      "김동준\n"
     ]
    }
   ],
   "source": [
    "name = input(\"성함을 입력하세요:\")\n",
    "print(name)"
   ]
  },
  {
   "cell_type": "code",
   "execution_count": 1,
   "metadata": {
    "scrolled": true
   },
   "outputs": [],
   "source": [
    "# 사칙연산을 할 수 있는 함수를 생성한 후 더하기 예제\n",
    "def inputXY (inputX, inputY, value):\n",
    "    if(type(inputX) == int and type(inputY) == int and type(value) == int):\n",
    "        if(value == 0):\n",
    "            result = inputX+inputY\n",
    "        elif(value == 1):\n",
    "            result = inputX-inputY\n",
    "        elif(value == 2):\n",
    "            result = inputX*inputY\n",
    "        elif(value == 3):\n",
    "            result = inputX/inputY\n",
    "        else:\n",
    "            result = \"value is 0 to 3\"\n",
    "    else:\n",
    "        result = \"Enter Int\"\n",
    "    return result"
   ]
  },
  {
   "cell_type": "code",
   "execution_count": 8,
   "metadata": {
    "scrolled": false
   },
   "outputs": [
    {
     "data": {
      "text/plain": [
       "'Enter Int'"
      ]
     },
     "execution_count": 8,
     "metadata": {},
     "output_type": "execute_result"
    }
   ],
   "source": [
    "inputXY(3,6,\"\")"
   ]
  },
  {
   "cell_type": "code",
   "execution_count": 2,
   "metadata": {},
   "outputs": [
    {
     "data": {
      "text/plain": [
       "2022"
      ]
     },
     "execution_count": 2,
     "metadata": {},
     "output_type": "execute_result"
    }
   ],
   "source": [
    "inputList = [\"11\",\"1234\",\"222\",\"555\"]\n",
    "for i in range(0, len(inputList)):\n",
    "    inputList[i] = int(inputList[i])\n",
    "sum(inputList)"
   ]
  },
  {
   "cell_type": "code",
   "execution_count": 4,
   "metadata": {},
   "outputs": [
    {
     "name": "stdout",
     "output_type": "stream",
     "text": [
      "11\n"
     ]
    }
   ],
   "source": [
    "i=0\n",
    "inputList[i] = int(inputList[i])\n",
    "print(inputList[i])"
   ]
  }
 ],
 "metadata": {
  "kernelspec": {
   "display_name": "Python 3",
   "language": "python",
   "name": "python3"
  },
  "language_info": {
   "codemirror_mode": {
    "name": "ipython",
    "version": 3
   },
   "file_extension": ".py",
   "mimetype": "text/x-python",
   "name": "python",
   "nbconvert_exporter": "python",
   "pygments_lexer": "ipython3",
   "version": "3.7.1"
  }
 },
 "nbformat": 4,
 "nbformat_minor": 2
}
