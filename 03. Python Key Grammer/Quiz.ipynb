{
 "cells": [
  {
   "cell_type": "code",
   "execution_count": 19,
   "metadata": {},
   "outputs": [
    {
     "name": "stdout",
     "output_type": "stream",
     "text": [
      "['A01', '한국', 'A02', '미국', 'A03', '프랑스']\n"
     ]
    }
   ],
   "source": [
    "List = [\"A01\", \"한국\", \"A02\", \"미국\", \"A03\", \"프랑스\"]\n",
    "print(List)"
   ]
  },
  {
   "cell_type": "code",
   "execution_count": 20,
   "metadata": {
    "scrolled": true
   },
   "outputs": [
    {
     "name": "stdout",
     "output_type": "stream",
     "text": [
      "['한국', '미국', '프랑스']\n"
     ]
    }
   ],
   "source": [
    "List2 = []\n",
    "preFix = \"A\"\n",
    "for i in range(0, len(List)):\n",
    "    countList = List[i].count(preFix)\n",
    "    if (countList == 0):\n",
    "        List2 = List2 + [List[i]]\n",
    "print(List2)"
   ]
  },
  {
   "cell_type": "code",
   "execution_count": 21,
   "metadata": {},
   "outputs": [
    {
     "name": "stdout",
     "output_type": "stream",
     "text": [
      "['A01', '한국', 'A02', '미국', 'A03', '프랑스']\n"
     ]
    }
   ],
   "source": [
    "List = [\"A01\", \"한국\", \"A02\", \"미국\", \"A03\", \"프랑스\"]\n",
    "print(List)"
   ]
  },
  {
   "cell_type": "code",
   "execution_count": 22,
   "metadata": {
    "scrolled": true
   },
   "outputs": [
    {
     "name": "stdout",
     "output_type": "stream",
     "text": [
      "['한국', '미국', '프랑스']\n"
     ]
    }
   ],
   "source": [
    "preFix = \"A\"\n",
    "i = 0\n",
    "while(i < len(List)):\n",
    "    countList = List[i].count(preFix)\n",
    "    if(countList > 0):\n",
    "        del List[i]\n",
    "    else:\n",
    "        i = i + 1\n",
    "print(List)"
   ]
  },
  {
   "cell_type": "code",
   "execution_count": 125,
   "metadata": {},
   "outputs": [],
   "source": [
    "# 라이브러리를 활용하여 과거 연주차 정보를 생성하는 함수\n",
    "### 설명 : 연주차정보와 GAP 정보를 받아서 연주차 - Gap 주차를 리턴한다.\n",
    "### 파라미터 : InputYearWeek, GapWeek\n",
    "### 전제조건 : InputYearWeek는 6자리로 앞 4자리는 연도정보, 뒤 2자리는 주차정보로 이루어짐\n",
    "def preWeek (inputYearWeek, GapWeek):\n",
    "    from isoweek import Week\n",
    "    inputYearWeek = str(inputYearWeek)\n",
    "    GapWeek = int(GapWeek)\n",
    "    step1YearPart = int(inputYearWeek[:4]) ### 4는 절대적인 숫자이므로 하드코딩, Year라는 변수를 만들거나 메모가 필요함\n",
    "    step1WeekPart = int(inputYearWeek[4:])\n",
    "    step2 = step1WeekPart - GapWeek\n",
    "    while(step2 <= 0):\n",
    "        step1YearPart -= 1\n",
    "        step2 += Week.last_week_of_year(step1YearPart).week\n",
    "    while(step2 > Week.last_week_of_year(step1YearPart).week):\n",
    "        step2 -= Week.last_week_of_year(step1YearPart).week\n",
    "        step1YearPart += 1\n",
    "    if(step2 < 10):\n",
    "        step3 = str(step1YearPart) + \"0\" + str(step2)\n",
    "    else:\n",
    "        step3 = str(step1YearPart) + str(step2)\n",
    "    return step3"
   ]
  },
  {
   "cell_type": "code",
   "execution_count": 144,
   "metadata": {},
   "outputs": [
    {
     "data": {
      "text/plain": [
       "'201651'"
      ]
     },
     "execution_count": 144,
     "metadata": {},
     "output_type": "execute_result"
    }
   ],
   "source": [
    "preWeek(201701, 2)"
   ]
  },
  {
   "cell_type": "code",
   "execution_count": null,
   "metadata": {},
   "outputs": [],
   "source": []
  }
 ],
 "metadata": {
  "kernelspec": {
   "display_name": "Python 3",
   "language": "python",
   "name": "python3"
  },
  "language_info": {
   "codemirror_mode": {
    "name": "ipython",
    "version": 3
   },
   "file_extension": ".py",
   "mimetype": "text/x-python",
   "name": "python",
   "nbconvert_exporter": "python",
   "pygments_lexer": "ipython3",
   "version": "3.7.1"
  }
 },
 "nbformat": 4,
 "nbformat_minor": 2
}
