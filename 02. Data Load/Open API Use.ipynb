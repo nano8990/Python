{
 "cells": [
  {
   "cell_type": "markdown",
   "metadata": {},
   "source": [
    "# 1. 오픈 API 활용 데이터 불러오기"
   ]
  },
  {
   "cell_type": "code",
   "execution_count": 2,
   "metadata": {},
   "outputs": [],
   "source": [
    "# 라이브러리 불러오기\n",
    "import pandas as pd\n",
    "import requests\n",
    "from pandas.io.json import json_normalize"
   ]
  },
  {
   "cell_type": "code",
   "execution_count": 4,
   "metadata": {},
   "outputs": [
    {
     "name": "stdout",
     "output_type": "stream",
     "text": [
      "<Response [200]>\n"
     ]
    }
   ],
   "source": [
    "# 데이터 접속 주소 입력\n",
    "url = 'http://kosis.kr/openapi/statisticsData.do?method=getList&apiKey=NzliOTY3YjZkOTNmN2RkNzNhMjU4MmVjZDg1MDdhYjg=&format=json&jsonVD=Y&userStatsId=nano8990/101/DT_1G1B002/2/1/20190417152056&prdSe=M&newEstPrdCnt=1'\n",
    "\n",
    "# 정상 여부 확인 (200 정상)\n",
    "urlResponse = requests.get(url)\n",
    "print(urlResponse)\n",
    "\n",
    "# JSON 데이터 획득\n",
    "jsonData = urlResponse.json()\n",
    "\n",
    "# PandasDataframe 변환\n",
    "df = json_normalize(jsonData)\n",
    "# df.to_csv(\"a.csv\", encoding = 'ms949')"
   ]
  },
  {
   "cell_type": "markdown",
   "metadata": {},
   "source": [
    "# 2. 공공데이터 포털 API 데이터 불러오기(XML) "
   ]
  },
  {
   "cell_type": "markdown",
   "metadata": {},
   "source": [
    "## Python활용 불러오기"
   ]
  },
  {
   "cell_type": "code",
   "execution_count": 1,
   "metadata": {},
   "outputs": [],
   "source": [
    "# 라이브러리 선언\n",
    "import urllib.request\n",
    "import pandas as pd"
   ]
  },
  {
   "cell_type": "code",
   "execution_count": 2,
   "metadata": {},
   "outputs": [],
   "source": [
    "# 데이터 불러오기\n",
    "xmlurl = 'http://openapi.molit.go.kr/OpenAPI_ToolInstallPackage/service/rest/RTMSOBJSvc/getRTMSDataSvcAptTradeDev?serviceKey=AT33s775KYpJOkUBJu0dxkJuUeIfDIOJRzAH084EQS3JN%2BzFjErLHuk%2FGZa9L4gBTSGCzeA69tI9PwLp7B37IQ%3D%3D&pageNo=1&startPage=1&numOfRows=10&pageSize=10&LAWD_CD=11110&DEAL_YMD=201512'\n",
    "request = urllib.request.Request(xmlurl)\n",
    "request.get_method = lambda: 'GET'\n",
    "response_body = urllib.request.urlopen(request).read()\n",
    "fullXmlString = str(response_body, \"utf-8\")"
   ]
  },
  {
   "cell_type": "code",
   "execution_count": 4,
   "metadata": {},
   "outputs": [],
   "source": [
    "# 라이브러리 선언\n",
    "import xml.etree.ElementTree as ET\n",
    "from xml.etree.ElementTree import parse, Element"
   ]
  },
  {
   "cell_type": "code",
   "execution_count": 29,
   "metadata": {},
   "outputs": [],
   "source": [
    "# 모든 데이터를 담을 리스트 선언\n",
    "result = []\n",
    "# xml 라이브러리 표준\n",
    "root = ET.fromstring(fullXmlString)\n",
    "# body -> items -> item  모두 선택\n",
    "elements = root.findall('body/items/item')\n",
    "# for 문을 돌면서 리스트에 모든 행 데이터 담기\n",
    "for item in elements:\n",
    "    try:\n",
    "        item_list = []\n",
    "        item_list.append(item.find('거래금액').text)\n",
    "        item_list.append(item.find('건축년도').text)\n",
    "        result.append(item_list)\n",
    "    except Exception as e:\n",
    "        print('This  row will be ignored', item_list)"
   ]
  },
  {
   "cell_type": "code",
   "execution_count": 6,
   "metadata": {},
   "outputs": [
    {
     "data": {
      "text/plain": [
       "'    82,500'"
      ]
     },
     "execution_count": 6,
     "metadata": {},
     "output_type": "execute_result"
    }
   ],
   "source": [
    "# 디버깅 코드\n",
    "elements[0].find('거래금액').text"
   ]
  },
  {
   "cell_type": "code",
   "execution_count": 19,
   "metadata": {},
   "outputs": [
    {
     "data": {
      "text/plain": [
       "'    44,000'"
      ]
     },
     "execution_count": 19,
     "metadata": {},
     "output_type": "execute_result"
    }
   ],
   "source": [
    "elements[8].find('*').text"
   ]
  },
  {
   "cell_type": "code",
   "execution_count": 31,
   "metadata": {},
   "outputs": [
    {
     "data": {
      "text/html": [
       "<div>\n",
       "<style scoped>\n",
       "    .dataframe tbody tr th:only-of-type {\n",
       "        vertical-align: middle;\n",
       "    }\n",
       "\n",
       "    .dataframe tbody tr th {\n",
       "        vertical-align: top;\n",
       "    }\n",
       "\n",
       "    .dataframe thead th {\n",
       "        text-align: right;\n",
       "    }\n",
       "</style>\n",
       "<table border=\"1\" class=\"dataframe\">\n",
       "  <thead>\n",
       "    <tr style=\"text-align: right;\">\n",
       "      <th></th>\n",
       "      <th>거래금액</th>\n",
       "      <th>건축년도</th>\n",
       "    </tr>\n",
       "  </thead>\n",
       "  <tbody>\n",
       "    <tr>\n",
       "      <th>0</th>\n",
       "      <td>82,500</td>\n",
       "      <td>2008</td>\n",
       "    </tr>\n",
       "    <tr>\n",
       "      <th>1</th>\n",
       "      <td>60,000</td>\n",
       "      <td>1981</td>\n",
       "    </tr>\n",
       "    <tr>\n",
       "      <th>2</th>\n",
       "      <td>130,000</td>\n",
       "      <td>2004</td>\n",
       "    </tr>\n",
       "    <tr>\n",
       "      <th>3</th>\n",
       "      <td>105,000</td>\n",
       "      <td>2004</td>\n",
       "    </tr>\n",
       "    <tr>\n",
       "      <th>4</th>\n",
       "      <td>120,000</td>\n",
       "      <td>2003</td>\n",
       "    </tr>\n",
       "  </tbody>\n",
       "</table>\n",
       "</div>"
      ],
      "text/plain": [
       "         거래금액  건축년도\n",
       "0      82,500  2008\n",
       "1      60,000  1981\n",
       "2     130,000  2004\n",
       "3     105,000  2004\n",
       "4     120,000  2003"
      ]
     },
     "execution_count": 31,
     "metadata": {},
     "output_type": "execute_result"
    }
   ],
   "source": [
    "# 리스트 -> 데이터 프레임으로 변환\n",
    "finalResult = pd.DataFrame(result)\n",
    "finalResult.columns = [\"거래금액\", \"건축년도\"]\n",
    "finalResult.head()"
   ]
  },
  {
   "cell_type": "code",
   "execution_count": 40,
   "metadata": {},
   "outputs": [
    {
     "data": {
      "text/html": [
       "<div>\n",
       "<style scoped>\n",
       "    .dataframe tbody tr th:only-of-type {\n",
       "        vertical-align: middle;\n",
       "    }\n",
       "\n",
       "    .dataframe tbody tr th {\n",
       "        vertical-align: top;\n",
       "    }\n",
       "\n",
       "    .dataframe thead th {\n",
       "        text-align: right;\n",
       "    }\n",
       "</style>\n",
       "<table border=\"1\" class=\"dataframe\">\n",
       "  <thead>\n",
       "    <tr style=\"text-align: right;\">\n",
       "      <th></th>\n",
       "      <th>연도</th>\n",
       "      <th>월</th>\n",
       "      <th>전국PIR</th>\n",
       "      <th>서울PIR</th>\n",
       "      <th>부산PIR</th>\n",
       "      <th>대구PIR</th>\n",
       "      <th>인천PIR</th>\n",
       "      <th>광주PIR</th>\n",
       "      <th>대전PIR</th>\n",
       "      <th>울산PIR</th>\n",
       "      <th>...</th>\n",
       "      <th>세종LIR</th>\n",
       "      <th>경기LIR</th>\n",
       "      <th>강원LIR</th>\n",
       "      <th>충북LIR</th>\n",
       "      <th>충남LIR</th>\n",
       "      <th>전북LIR</th>\n",
       "      <th>전남LIR</th>\n",
       "      <th>경북LIR</th>\n",
       "      <th>경남LIR</th>\n",
       "      <th>제주LIR</th>\n",
       "    </tr>\n",
       "  </thead>\n",
       "  <tbody>\n",
       "    <tr>\n",
       "      <th>0</th>\n",
       "      <td>2004</td>\n",
       "      <td>3</td>\n",
       "      <td>4.21</td>\n",
       "      <td>4.89</td>\n",
       "      <td>3.95</td>\n",
       "      <td>3.73</td>\n",
       "      <td>4.65</td>\n",
       "      <td>2.81</td>\n",
       "      <td>4.68</td>\n",
       "      <td>2.66</td>\n",
       "      <td>...</td>\n",
       "      <td>-</td>\n",
       "      <td>2.42</td>\n",
       "      <td>1.44</td>\n",
       "      <td>1.53</td>\n",
       "      <td>1.21</td>\n",
       "      <td>1.90</td>\n",
       "      <td>1.42</td>\n",
       "      <td>1.31</td>\n",
       "      <td>2.06</td>\n",
       "      <td>1.28</td>\n",
       "    </tr>\n",
       "    <tr>\n",
       "      <th>1</th>\n",
       "      <td>2004</td>\n",
       "      <td>4</td>\n",
       "      <td>4.39</td>\n",
       "      <td>5.59</td>\n",
       "      <td>3.91</td>\n",
       "      <td>3.88</td>\n",
       "      <td>4.59</td>\n",
       "      <td>2.92</td>\n",
       "      <td>3.83</td>\n",
       "      <td>2.74</td>\n",
       "      <td>...</td>\n",
       "      <td>-</td>\n",
       "      <td>2.79</td>\n",
       "      <td>1.18</td>\n",
       "      <td>1.71</td>\n",
       "      <td>1.97</td>\n",
       "      <td>1.57</td>\n",
       "      <td>1.33</td>\n",
       "      <td>1.26</td>\n",
       "      <td>1.92</td>\n",
       "      <td>2.46</td>\n",
       "    </tr>\n",
       "    <tr>\n",
       "      <th>2</th>\n",
       "      <td>2004</td>\n",
       "      <td>5</td>\n",
       "      <td>4.19</td>\n",
       "      <td>5.14</td>\n",
       "      <td>4.90</td>\n",
       "      <td>3.83</td>\n",
       "      <td>4.78</td>\n",
       "      <td>3.41</td>\n",
       "      <td>4.19</td>\n",
       "      <td>2.93</td>\n",
       "      <td>...</td>\n",
       "      <td>-</td>\n",
       "      <td>2.22</td>\n",
       "      <td>1.44</td>\n",
       "      <td>1.72</td>\n",
       "      <td>1.85</td>\n",
       "      <td>1.75</td>\n",
       "      <td>1.31</td>\n",
       "      <td>1.50</td>\n",
       "      <td>1.85</td>\n",
       "      <td>2.14</td>\n",
       "    </tr>\n",
       "    <tr>\n",
       "      <th>3</th>\n",
       "      <td>2004</td>\n",
       "      <td>6</td>\n",
       "      <td>4.09</td>\n",
       "      <td>4.38</td>\n",
       "      <td>4.20</td>\n",
       "      <td>3.77</td>\n",
       "      <td>4.30</td>\n",
       "      <td>2.83</td>\n",
       "      <td>4.19</td>\n",
       "      <td>2.81</td>\n",
       "      <td>...</td>\n",
       "      <td>-</td>\n",
       "      <td>2.62</td>\n",
       "      <td>1.53</td>\n",
       "      <td>1.57</td>\n",
       "      <td>1.79</td>\n",
       "      <td>1.64</td>\n",
       "      <td>1.19</td>\n",
       "      <td>1.56</td>\n",
       "      <td>1.89</td>\n",
       "      <td>1.81</td>\n",
       "    </tr>\n",
       "    <tr>\n",
       "      <th>4</th>\n",
       "      <td>2004</td>\n",
       "      <td>7</td>\n",
       "      <td>4.29</td>\n",
       "      <td>5.88</td>\n",
       "      <td>4.43</td>\n",
       "      <td>4.28</td>\n",
       "      <td>4.81</td>\n",
       "      <td>3.32</td>\n",
       "      <td>4.35</td>\n",
       "      <td>2.54</td>\n",
       "      <td>...</td>\n",
       "      <td>-</td>\n",
       "      <td>2.41</td>\n",
       "      <td>1.68</td>\n",
       "      <td>1.91</td>\n",
       "      <td>2.15</td>\n",
       "      <td>1.64</td>\n",
       "      <td>1.36</td>\n",
       "      <td>1.50</td>\n",
       "      <td>1.93</td>\n",
       "      <td>2.63</td>\n",
       "    </tr>\n",
       "  </tbody>\n",
       "</table>\n",
       "<p>5 rows × 38 columns</p>\n",
       "</div>"
      ],
      "text/plain": [
       "     연도  월  전국PIR  서울PIR  부산PIR  대구PIR  인천PIR  광주PIR  대전PIR  울산PIR  ...    \\\n",
       "0  2004  3   4.21   4.89   3.95   3.73   4.65   2.81   4.68   2.66  ...     \n",
       "1  2004  4   4.39   5.59   3.91   3.88   4.59   2.92   3.83   2.74  ...     \n",
       "2  2004  5   4.19   5.14   4.90   3.83   4.78   3.41   4.19   2.93  ...     \n",
       "3  2004  6   4.09   4.38   4.20   3.77   4.30   2.83   4.19   2.81  ...     \n",
       "4  2004  7   4.29   5.88   4.43   4.28   4.81   3.32   4.35   2.54  ...     \n",
       "\n",
       "  세종LIR  경기LIR  강원LIR  충북LIR  충남LIR  전북LIR  전남LIR  경북LIR  경남LIR  제주LIR  \n",
       "0     -   2.42   1.44   1.53   1.21   1.90   1.42   1.31   2.06   1.28  \n",
       "1     -   2.79   1.18   1.71   1.97   1.57   1.33   1.26   1.92   2.46  \n",
       "2     -   2.22   1.44   1.72   1.85   1.75   1.31   1.50   1.85   2.14  \n",
       "3     -   2.62   1.53   1.57   1.79   1.64   1.19   1.56   1.89   1.81  \n",
       "4     -   2.41   1.68   1.91   2.15   1.64   1.36   1.50   1.93   2.63  \n",
       "\n",
       "[5 rows x 38 columns]"
      ]
     },
     "execution_count": 40,
     "metadata": {},
     "output_type": "execute_result"
    }
   ],
   "source": [
    "# 데이터 접속 주소 입력\n",
    "url = 'https://www.data.go.kr/dataset/fileDownload.do?atchFileId=FILE_000000001420537&fileDetailSn=1&publicDataDetailPk=uddi:1187ad78-3933-43e9-92ae-9ed15c7096d8_201712281357'\n",
    "\n",
    "data = pd.read_csv(url, encoding = 'ms949')\n",
    "data.head()"
   ]
  },
  {
   "cell_type": "code",
   "execution_count": null,
   "metadata": {},
   "outputs": [],
   "source": []
  }
 ],
 "metadata": {
  "kernelspec": {
   "display_name": "Python 3",
   "language": "python",
   "name": "python3"
  },
  "language_info": {
   "codemirror_mode": {
    "name": "ipython",
    "version": 3
   },
   "file_extension": ".py",
   "mimetype": "text/x-python",
   "name": "python",
   "nbconvert_exporter": "python",
   "pygments_lexer": "ipython3",
   "version": "3.7.1"
  }
 },
 "nbformat": 4,
 "nbformat_minor": 2
}
