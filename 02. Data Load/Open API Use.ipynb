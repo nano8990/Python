{
 "cells": [
  {
   "cell_type": "markdown",
   "metadata": {},
   "source": [
    "# 1. 오픈 API 활용 데이터 불러오기"
   ]
  },
  {
   "cell_type": "code",
   "execution_count": 1,
   "metadata": {},
   "outputs": [],
   "source": [
    "# 라이브러리 불러오기\n",
    "import pandas as pd\n",
    "import requests\n",
    "from pandas.io.json import json_normalize"
   ]
  },
  {
   "cell_type": "code",
   "execution_count": 2,
   "metadata": {},
   "outputs": [
    {
     "name": "stdout",
     "output_type": "stream",
     "text": [
      "<Response [200]>\n"
     ]
    },
    {
     "data": {
      "text/html": [
       "<div>\n",
       "<style scoped>\n",
       "    .dataframe tbody tr th:only-of-type {\n",
       "        vertical-align: middle;\n",
       "    }\n",
       "\n",
       "    .dataframe tbody tr th {\n",
       "        vertical-align: top;\n",
       "    }\n",
       "\n",
       "    .dataframe thead th {\n",
       "        text-align: right;\n",
       "    }\n",
       "</style>\n",
       "<table border=\"1\" class=\"dataframe\">\n",
       "  <thead>\n",
       "    <tr style=\"text-align: right;\">\n",
       "      <th></th>\n",
       "      <th>C1</th>\n",
       "      <th>C1_NM</th>\n",
       "      <th>C1_NM_ENG</th>\n",
       "      <th>C1_OBJ_NM</th>\n",
       "      <th>C1_OBJ_NM_ENG</th>\n",
       "      <th>C2</th>\n",
       "      <th>C2_NM</th>\n",
       "      <th>C2_NM_ENG</th>\n",
       "      <th>C2_OBJ_NM</th>\n",
       "      <th>C2_OBJ_NM_ENG</th>\n",
       "      <th>...</th>\n",
       "      <th>ITM_ID</th>\n",
       "      <th>ITM_NM</th>\n",
       "      <th>ITM_NM_ENG</th>\n",
       "      <th>ORG_ID</th>\n",
       "      <th>PRD_DE</th>\n",
       "      <th>PRD_SE</th>\n",
       "      <th>TBL_ID</th>\n",
       "      <th>TBL_NM</th>\n",
       "      <th>UNIT_NM</th>\n",
       "      <th>UNIT_NM_ENG</th>\n",
       "    </tr>\n",
       "  </thead>\n",
       "  <tbody>\n",
       "    <tr>\n",
       "      <th>0</th>\n",
       "      <td>0</td>\n",
       "      <td>수주총액</td>\n",
       "      <td>Total amount of orders received</td>\n",
       "      <td>발주자별</td>\n",
       "      <td>By the kind of orderer</td>\n",
       "      <td>0</td>\n",
       "      <td>계</td>\n",
       "      <td>Total</td>\n",
       "      <td>공종별</td>\n",
       "      <td>By the kind of construction works</td>\n",
       "      <td>...</td>\n",
       "      <td>T10</td>\n",
       "      <td>수주액</td>\n",
       "      <td>Value of order received</td>\n",
       "      <td>101</td>\n",
       "      <td>201902</td>\n",
       "      <td>M</td>\n",
       "      <td>DT_1G1B002</td>\n",
       "      <td>발주자/공종별 건설수주액(경상)</td>\n",
       "      <td>백만원</td>\n",
       "      <td>Million Won</td>\n",
       "    </tr>\n",
       "    <tr>\n",
       "      <th>1</th>\n",
       "      <td>0</td>\n",
       "      <td>수주총액</td>\n",
       "      <td>Total amount of orders received</td>\n",
       "      <td>발주자별</td>\n",
       "      <td>By the kind of orderer</td>\n",
       "      <td>1</td>\n",
       "      <td>건축</td>\n",
       "      <td>Building</td>\n",
       "      <td>공종별</td>\n",
       "      <td>By the kind of construction works</td>\n",
       "      <td>...</td>\n",
       "      <td>T10</td>\n",
       "      <td>수주액</td>\n",
       "      <td>Value of order received</td>\n",
       "      <td>101</td>\n",
       "      <td>201902</td>\n",
       "      <td>M</td>\n",
       "      <td>DT_1G1B002</td>\n",
       "      <td>발주자/공종별 건설수주액(경상)</td>\n",
       "      <td>백만원</td>\n",
       "      <td>Million Won</td>\n",
       "    </tr>\n",
       "    <tr>\n",
       "      <th>2</th>\n",
       "      <td>0</td>\n",
       "      <td>수주총액</td>\n",
       "      <td>Total amount of orders received</td>\n",
       "      <td>발주자별</td>\n",
       "      <td>By the kind of orderer</td>\n",
       "      <td>2</td>\n",
       "      <td>토목</td>\n",
       "      <td>Civil engineering</td>\n",
       "      <td>공종별</td>\n",
       "      <td>By the kind of construction works</td>\n",
       "      <td>...</td>\n",
       "      <td>T10</td>\n",
       "      <td>수주액</td>\n",
       "      <td>Value of order received</td>\n",
       "      <td>101</td>\n",
       "      <td>201902</td>\n",
       "      <td>M</td>\n",
       "      <td>DT_1G1B002</td>\n",
       "      <td>발주자/공종별 건설수주액(경상)</td>\n",
       "      <td>백만원</td>\n",
       "      <td>Million Won</td>\n",
       "    </tr>\n",
       "    <tr>\n",
       "      <th>3</th>\n",
       "      <td>1</td>\n",
       "      <td>공공부문</td>\n",
       "      <td>Public sector</td>\n",
       "      <td>발주자별</td>\n",
       "      <td>By the kind of orderer</td>\n",
       "      <td>0</td>\n",
       "      <td>계</td>\n",
       "      <td>Total</td>\n",
       "      <td>공종별</td>\n",
       "      <td>By the kind of construction works</td>\n",
       "      <td>...</td>\n",
       "      <td>T10</td>\n",
       "      <td>수주액</td>\n",
       "      <td>Value of order received</td>\n",
       "      <td>101</td>\n",
       "      <td>201902</td>\n",
       "      <td>M</td>\n",
       "      <td>DT_1G1B002</td>\n",
       "      <td>발주자/공종별 건설수주액(경상)</td>\n",
       "      <td>백만원</td>\n",
       "      <td>Million Won</td>\n",
       "    </tr>\n",
       "    <tr>\n",
       "      <th>4</th>\n",
       "      <td>1</td>\n",
       "      <td>공공부문</td>\n",
       "      <td>Public sector</td>\n",
       "      <td>발주자별</td>\n",
       "      <td>By the kind of orderer</td>\n",
       "      <td>1</td>\n",
       "      <td>건축</td>\n",
       "      <td>Building</td>\n",
       "      <td>공종별</td>\n",
       "      <td>By the kind of construction works</td>\n",
       "      <td>...</td>\n",
       "      <td>T10</td>\n",
       "      <td>수주액</td>\n",
       "      <td>Value of order received</td>\n",
       "      <td>101</td>\n",
       "      <td>201902</td>\n",
       "      <td>M</td>\n",
       "      <td>DT_1G1B002</td>\n",
       "      <td>발주자/공종별 건설수주액(경상)</td>\n",
       "      <td>백만원</td>\n",
       "      <td>Million Won</td>\n",
       "    </tr>\n",
       "  </tbody>\n",
       "</table>\n",
       "<p>5 rows × 21 columns</p>\n",
       "</div>"
      ],
      "text/plain": [
       "  C1 C1_NM                        C1_NM_ENG C1_OBJ_NM           C1_OBJ_NM_ENG  \\\n",
       "0  0  수주총액  Total amount of orders received      발주자별  By the kind of orderer   \n",
       "1  0  수주총액  Total amount of orders received      발주자별  By the kind of orderer   \n",
       "2  0  수주총액  Total amount of orders received      발주자별  By the kind of orderer   \n",
       "3  1  공공부문                    Public sector      발주자별  By the kind of orderer   \n",
       "4  1  공공부문                    Public sector      발주자별  By the kind of orderer   \n",
       "\n",
       "  C2 C2_NM          C2_NM_ENG C2_OBJ_NM                      C2_OBJ_NM_ENG  \\\n",
       "0  0     계              Total       공종별  By the kind of construction works   \n",
       "1  1    건축           Building       공종별  By the kind of construction works   \n",
       "2  2    토목  Civil engineering       공종별  By the kind of construction works   \n",
       "3  0     계              Total       공종별  By the kind of construction works   \n",
       "4  1    건축           Building       공종별  By the kind of construction works   \n",
       "\n",
       "      ...      ITM_ID ITM_NM               ITM_NM_ENG ORG_ID  PRD_DE PRD_SE  \\\n",
       "0     ...         T10    수주액  Value of order received    101  201902      M   \n",
       "1     ...         T10    수주액  Value of order received    101  201902      M   \n",
       "2     ...         T10    수주액  Value of order received    101  201902      M   \n",
       "3     ...         T10    수주액  Value of order received    101  201902      M   \n",
       "4     ...         T10    수주액  Value of order received    101  201902      M   \n",
       "\n",
       "       TBL_ID             TBL_NM UNIT_NM  UNIT_NM_ENG  \n",
       "0  DT_1G1B002  발주자/공종별 건설수주액(경상)     백만원  Million Won  \n",
       "1  DT_1G1B002  발주자/공종별 건설수주액(경상)     백만원  Million Won  \n",
       "2  DT_1G1B002  발주자/공종별 건설수주액(경상)     백만원  Million Won  \n",
       "3  DT_1G1B002  발주자/공종별 건설수주액(경상)     백만원  Million Won  \n",
       "4  DT_1G1B002  발주자/공종별 건설수주액(경상)     백만원  Million Won  \n",
       "\n",
       "[5 rows x 21 columns]"
      ]
     },
     "execution_count": 2,
     "metadata": {},
     "output_type": "execute_result"
    }
   ],
   "source": [
    "# 데이터 접속 주소 입력\n",
    "url = 'http://kosis.kr/openapi/statisticsData.do?method=getList&apiKey=NzliOTY3YjZkOTNmN2RkNzNhMjU4MmVjZDg1MDdhYjg=&format=json&jsonVD=Y&userStatsId=nano8990/101/DT_1G1B002/2/1/20190417152056&prdSe=M&newEstPrdCnt=1'\n",
    "\n",
    "# 정상 여부 확인 (200 정상)\n",
    "urlResponse = requests.get(url)\n",
    "print(urlResponse)\n",
    "\n",
    "# JSON 데이터 획득\n",
    "jsonData = urlResponse.json()\n",
    "\n",
    "# PandasDataframe 변환\n",
    "df = json_normalize(jsonData)\n",
    "# df.to_csv(\"a.csv\", encoding = 'ms949')"
   ]
  },
  {
   "cell_type": "markdown",
   "metadata": {},
   "source": [
    "# 2. 공공데이터 포털 API 데이터 불러오기(XML) "
   ]
  },
  {
   "cell_type": "markdown",
   "metadata": {},
   "source": [
    "## Python활용 불러오기"
   ]
  },
  {
   "cell_type": "code",
   "execution_count": 29,
   "metadata": {},
   "outputs": [],
   "source": [
    "# 라이브러리 선언\n",
    "import urllib.request\n",
    "import pandas as pd\n",
    "from bs4 import BeautifulSoup\n",
    "import requests"
   ]
  },
  {
   "cell_type": "code",
   "execution_count": 2,
   "metadata": {},
   "outputs": [],
   "source": [
    "# 데이터 불러오기\n",
    "xmlurl = 'http://openapi.molit.go.kr/OpenAPI_ToolInstallPackage/service/rest/RTMSOBJSvc/getRTMSDataSvcAptTradeDev?serviceKey=AT33s775KYpJOkUBJu0dxkJuUeIfDIOJRzAH084EQS3JN%2BzFjErLHuk%2FGZa9L4gBTSGCzeA69tI9PwLp7B37IQ%3D%3D&pageNo=1&startPage=1&numOfRows=10&pageSize=10&LAWD_CD=11110&DEAL_YMD=201512'\n",
    "request = urllib.request.Request(xmlurl)\n",
    "request.get_method = lambda: 'GET'\n",
    "response_body = urllib.request.urlopen(request).read()\n",
    "fullXmlString = str(response_body, \"utf-8\")"
   ]
  },
  {
   "cell_type": "code",
   "execution_count": 15,
   "metadata": {},
   "outputs": [],
   "source": [
    "# 라이브러리 선언\n",
    "import xml.etree.ElementTree as ET\n",
    "from xml.etree.ElementTree import parse, Element"
   ]
  },
  {
   "cell_type": "code",
   "execution_count": 29,
   "metadata": {},
   "outputs": [],
   "source": [
    "# 모든 데이터를 담을 리스트 선언\n",
    "result = []\n",
    "# xml 라이브러리 표준\n",
    "root = ET.fromstring(fullXmlString)\n",
    "# body -> items -> item  모두 선택\n",
    "elements = root.findall('body/items/item')\n",
    "# for 문을 돌면서 리스트에 모든 행 데이터 담기\n",
    "for item in elements:\n",
    "    try:\n",
    "        item_list = []\n",
    "        item_list.append(item.find('거래금액').text)\n",
    "        item_list.append(item.find('건축년도').text)\n",
    "        result.append(item_list)\n",
    "    except Exception as e:\n",
    "        print('This  row will be ignored', item_list)"
   ]
  },
  {
   "cell_type": "code",
   "execution_count": 6,
   "metadata": {},
   "outputs": [
    {
     "data": {
      "text/plain": [
       "'    82,500'"
      ]
     },
     "execution_count": 6,
     "metadata": {},
     "output_type": "execute_result"
    }
   ],
   "source": [
    "# 디버깅 코드\n",
    "elements[0].find('거래금액').text"
   ]
  },
  {
   "cell_type": "code",
   "execution_count": 19,
   "metadata": {},
   "outputs": [
    {
     "data": {
      "text/plain": [
       "'    44,000'"
      ]
     },
     "execution_count": 19,
     "metadata": {},
     "output_type": "execute_result"
    }
   ],
   "source": [
    "elements[8].find('*').text"
   ]
  },
  {
   "cell_type": "code",
   "execution_count": 31,
   "metadata": {},
   "outputs": [
    {
     "data": {
      "text/html": [
       "<div>\n",
       "<style scoped>\n",
       "    .dataframe tbody tr th:only-of-type {\n",
       "        vertical-align: middle;\n",
       "    }\n",
       "\n",
       "    .dataframe tbody tr th {\n",
       "        vertical-align: top;\n",
       "    }\n",
       "\n",
       "    .dataframe thead th {\n",
       "        text-align: right;\n",
       "    }\n",
       "</style>\n",
       "<table border=\"1\" class=\"dataframe\">\n",
       "  <thead>\n",
       "    <tr style=\"text-align: right;\">\n",
       "      <th></th>\n",
       "      <th>거래금액</th>\n",
       "      <th>건축년도</th>\n",
       "    </tr>\n",
       "  </thead>\n",
       "  <tbody>\n",
       "    <tr>\n",
       "      <th>0</th>\n",
       "      <td>82,500</td>\n",
       "      <td>2008</td>\n",
       "    </tr>\n",
       "    <tr>\n",
       "      <th>1</th>\n",
       "      <td>60,000</td>\n",
       "      <td>1981</td>\n",
       "    </tr>\n",
       "    <tr>\n",
       "      <th>2</th>\n",
       "      <td>130,000</td>\n",
       "      <td>2004</td>\n",
       "    </tr>\n",
       "    <tr>\n",
       "      <th>3</th>\n",
       "      <td>105,000</td>\n",
       "      <td>2004</td>\n",
       "    </tr>\n",
       "    <tr>\n",
       "      <th>4</th>\n",
       "      <td>120,000</td>\n",
       "      <td>2003</td>\n",
       "    </tr>\n",
       "  </tbody>\n",
       "</table>\n",
       "</div>"
      ],
      "text/plain": [
       "         거래금액  건축년도\n",
       "0      82,500  2008\n",
       "1      60,000  1981\n",
       "2     130,000  2004\n",
       "3     105,000  2004\n",
       "4     120,000  2003"
      ]
     },
     "execution_count": 31,
     "metadata": {},
     "output_type": "execute_result"
    }
   ],
   "source": [
    "# 리스트 -> 데이터 프레임으로 변환\n",
    "finalResult = pd.DataFrame(result)\n",
    "finalResult.columns = [\"거래금액\", \"건축년도\"]\n",
    "finalResult.head()"
   ]
  },
  {
   "cell_type": "code",
   "execution_count": 40,
   "metadata": {},
   "outputs": [
    {
     "data": {
      "text/html": [
       "<div>\n",
       "<style scoped>\n",
       "    .dataframe tbody tr th:only-of-type {\n",
       "        vertical-align: middle;\n",
       "    }\n",
       "\n",
       "    .dataframe tbody tr th {\n",
       "        vertical-align: top;\n",
       "    }\n",
       "\n",
       "    .dataframe thead th {\n",
       "        text-align: right;\n",
       "    }\n",
       "</style>\n",
       "<table border=\"1\" class=\"dataframe\">\n",
       "  <thead>\n",
       "    <tr style=\"text-align: right;\">\n",
       "      <th></th>\n",
       "      <th>연도</th>\n",
       "      <th>월</th>\n",
       "      <th>전국PIR</th>\n",
       "      <th>서울PIR</th>\n",
       "      <th>부산PIR</th>\n",
       "      <th>대구PIR</th>\n",
       "      <th>인천PIR</th>\n",
       "      <th>광주PIR</th>\n",
       "      <th>대전PIR</th>\n",
       "      <th>울산PIR</th>\n",
       "      <th>...</th>\n",
       "      <th>세종LIR</th>\n",
       "      <th>경기LIR</th>\n",
       "      <th>강원LIR</th>\n",
       "      <th>충북LIR</th>\n",
       "      <th>충남LIR</th>\n",
       "      <th>전북LIR</th>\n",
       "      <th>전남LIR</th>\n",
       "      <th>경북LIR</th>\n",
       "      <th>경남LIR</th>\n",
       "      <th>제주LIR</th>\n",
       "    </tr>\n",
       "  </thead>\n",
       "  <tbody>\n",
       "    <tr>\n",
       "      <th>0</th>\n",
       "      <td>2004</td>\n",
       "      <td>3</td>\n",
       "      <td>4.21</td>\n",
       "      <td>4.89</td>\n",
       "      <td>3.95</td>\n",
       "      <td>3.73</td>\n",
       "      <td>4.65</td>\n",
       "      <td>2.81</td>\n",
       "      <td>4.68</td>\n",
       "      <td>2.66</td>\n",
       "      <td>...</td>\n",
       "      <td>-</td>\n",
       "      <td>2.42</td>\n",
       "      <td>1.44</td>\n",
       "      <td>1.53</td>\n",
       "      <td>1.21</td>\n",
       "      <td>1.90</td>\n",
       "      <td>1.42</td>\n",
       "      <td>1.31</td>\n",
       "      <td>2.06</td>\n",
       "      <td>1.28</td>\n",
       "    </tr>\n",
       "    <tr>\n",
       "      <th>1</th>\n",
       "      <td>2004</td>\n",
       "      <td>4</td>\n",
       "      <td>4.39</td>\n",
       "      <td>5.59</td>\n",
       "      <td>3.91</td>\n",
       "      <td>3.88</td>\n",
       "      <td>4.59</td>\n",
       "      <td>2.92</td>\n",
       "      <td>3.83</td>\n",
       "      <td>2.74</td>\n",
       "      <td>...</td>\n",
       "      <td>-</td>\n",
       "      <td>2.79</td>\n",
       "      <td>1.18</td>\n",
       "      <td>1.71</td>\n",
       "      <td>1.97</td>\n",
       "      <td>1.57</td>\n",
       "      <td>1.33</td>\n",
       "      <td>1.26</td>\n",
       "      <td>1.92</td>\n",
       "      <td>2.46</td>\n",
       "    </tr>\n",
       "    <tr>\n",
       "      <th>2</th>\n",
       "      <td>2004</td>\n",
       "      <td>5</td>\n",
       "      <td>4.19</td>\n",
       "      <td>5.14</td>\n",
       "      <td>4.90</td>\n",
       "      <td>3.83</td>\n",
       "      <td>4.78</td>\n",
       "      <td>3.41</td>\n",
       "      <td>4.19</td>\n",
       "      <td>2.93</td>\n",
       "      <td>...</td>\n",
       "      <td>-</td>\n",
       "      <td>2.22</td>\n",
       "      <td>1.44</td>\n",
       "      <td>1.72</td>\n",
       "      <td>1.85</td>\n",
       "      <td>1.75</td>\n",
       "      <td>1.31</td>\n",
       "      <td>1.50</td>\n",
       "      <td>1.85</td>\n",
       "      <td>2.14</td>\n",
       "    </tr>\n",
       "    <tr>\n",
       "      <th>3</th>\n",
       "      <td>2004</td>\n",
       "      <td>6</td>\n",
       "      <td>4.09</td>\n",
       "      <td>4.38</td>\n",
       "      <td>4.20</td>\n",
       "      <td>3.77</td>\n",
       "      <td>4.30</td>\n",
       "      <td>2.83</td>\n",
       "      <td>4.19</td>\n",
       "      <td>2.81</td>\n",
       "      <td>...</td>\n",
       "      <td>-</td>\n",
       "      <td>2.62</td>\n",
       "      <td>1.53</td>\n",
       "      <td>1.57</td>\n",
       "      <td>1.79</td>\n",
       "      <td>1.64</td>\n",
       "      <td>1.19</td>\n",
       "      <td>1.56</td>\n",
       "      <td>1.89</td>\n",
       "      <td>1.81</td>\n",
       "    </tr>\n",
       "    <tr>\n",
       "      <th>4</th>\n",
       "      <td>2004</td>\n",
       "      <td>7</td>\n",
       "      <td>4.29</td>\n",
       "      <td>5.88</td>\n",
       "      <td>4.43</td>\n",
       "      <td>4.28</td>\n",
       "      <td>4.81</td>\n",
       "      <td>3.32</td>\n",
       "      <td>4.35</td>\n",
       "      <td>2.54</td>\n",
       "      <td>...</td>\n",
       "      <td>-</td>\n",
       "      <td>2.41</td>\n",
       "      <td>1.68</td>\n",
       "      <td>1.91</td>\n",
       "      <td>2.15</td>\n",
       "      <td>1.64</td>\n",
       "      <td>1.36</td>\n",
       "      <td>1.50</td>\n",
       "      <td>1.93</td>\n",
       "      <td>2.63</td>\n",
       "    </tr>\n",
       "  </tbody>\n",
       "</table>\n",
       "<p>5 rows × 38 columns</p>\n",
       "</div>"
      ],
      "text/plain": [
       "     연도  월  전국PIR  서울PIR  부산PIR  대구PIR  인천PIR  광주PIR  대전PIR  울산PIR  ...    \\\n",
       "0  2004  3   4.21   4.89   3.95   3.73   4.65   2.81   4.68   2.66  ...     \n",
       "1  2004  4   4.39   5.59   3.91   3.88   4.59   2.92   3.83   2.74  ...     \n",
       "2  2004  5   4.19   5.14   4.90   3.83   4.78   3.41   4.19   2.93  ...     \n",
       "3  2004  6   4.09   4.38   4.20   3.77   4.30   2.83   4.19   2.81  ...     \n",
       "4  2004  7   4.29   5.88   4.43   4.28   4.81   3.32   4.35   2.54  ...     \n",
       "\n",
       "  세종LIR  경기LIR  강원LIR  충북LIR  충남LIR  전북LIR  전남LIR  경북LIR  경남LIR  제주LIR  \n",
       "0     -   2.42   1.44   1.53   1.21   1.90   1.42   1.31   2.06   1.28  \n",
       "1     -   2.79   1.18   1.71   1.97   1.57   1.33   1.26   1.92   2.46  \n",
       "2     -   2.22   1.44   1.72   1.85   1.75   1.31   1.50   1.85   2.14  \n",
       "3     -   2.62   1.53   1.57   1.79   1.64   1.19   1.56   1.89   1.81  \n",
       "4     -   2.41   1.68   1.91   2.15   1.64   1.36   1.50   1.93   2.63  \n",
       "\n",
       "[5 rows x 38 columns]"
      ]
     },
     "execution_count": 40,
     "metadata": {},
     "output_type": "execute_result"
    }
   ],
   "source": [
    "# 데이터 접속 주소 입력\n",
    "url = 'https://www.data.go.kr/dataset/fileDownload.do?atchFileId=FILE_000000001420537&fileDetailSn=1&publicDataDetailPk=uddi:1187ad78-3933-43e9-92ae-9ed15c7096d8_201712281357'\n",
    "\n",
    "data = pd.read_csv(url, encoding = 'ms949')\n",
    "data.head()"
   ]
  },
  {
   "cell_type": "code",
   "execution_count": null,
   "metadata": {},
   "outputs": [],
   "source": []
  },
  {
   "cell_type": "code",
   "execution_count": null,
   "metadata": {},
   "outputs": [],
   "source": [
    "def xmlProcess(url):\n",
    "    response = requests.get(url)\n",
    "    # Check if page is up\n",
    "    if response.status_code == 200:\n",
    "        # Convert webpage to %Data\n",
    "        Data = BeautifulSoup(response.text, 'lxml-xml')\n",
    "        result = []\n",
    "        rows = 0\n",
    "        columnName = []\n",
    "        # search Item all item tag\n",
    "        iterData = Data.find_all('item')\n",
    "        for item in iterData:\n",
    "            item_list = []\n",
    "            # Fill the value in one row\n",
    "            for tag in item.find_all():\n",
    "                try:\n",
    "                    tagname = tag.name\n",
    "                    if rows == 0:\n",
    "                        columnName.append(tagname)\n",
    "                    item_list.append(item.find(tagname).text)\n",
    "                except Exception as e:\n",
    "                    print(\"This row will be ignored. \", item_list)\n",
    "            rows = rows + 1\n",
    "            result.append(item_list)\n",
    "    finalResult = pd.DataFrame(result)\n",
    "    finalResult.columns = columnName\n",
    "    print(finalResult)"
   ]
  },
  {
   "cell_type": "code",
   "execution_count": 13,
   "metadata": {},
   "outputs": [],
   "source": [
    "xmlurl = 'http://apis.data.go.kr/1611000/nsdi/BuildingUseService/wfs/getBuildingUseWFS?ServiceKey=aDTqxJKNQ6XA6akRhrCF1ZSGXu8uk6HwyjXEWNetiKZEo%2FAD1M38g97KxPIXwL5k4RBnx%2BJwa6DzpTgn0G6AEg%3D%3D&maxfeatures=10&typename=F253&bbox=217694,448235,218608,449094,EPSG:5174&pnu=414501080010325&maxFeatures=10&resultType=results&srsName=EPSG:5174'"
   ]
  },
  {
   "cell_type": "code",
   "execution_count": 46,
   "metadata": {},
   "outputs": [],
   "source": [
    "response = requests.get(xmlurl)\n",
    "Data = BeautifulSoup(response.text, 'lxml-xml')"
   ]
  },
  {
   "cell_type": "code",
   "execution_count": 47,
   "metadata": {
    "scrolled": true
   },
   "outputs": [
    {
     "data": {
      "text/plain": [
       "<?xml version=\"1.0\" encoding=\"utf-8\"?>\n",
       "<wfs:FeatureCollection numberOfFeatures=\"10\" timeStamp=\"2019-04-24T02:25:31.179Z\" xmlns:NSDI=\"http://openapi.nsdi.go.kr\" xmlns:gml=\"http://www.opengis.net/gml\" xmlns:wfs=\"http://www.opengis.net/wfs\" xmlns:xs=\"http://www.w3.org/2001/XMLSchema\" xmlns:xsi=\"http://www.w3.org/2001/XMLSchema-instance\" xsi:schemaLocation=\"http://openapi.nsdi.go.kr http://10.20.10.46:8080/geoserver/NSDI/wfs?service=WFS&amp;version=1.1.0&amp;request=DescribeFeatureType&amp;typeName=NSDI%3AF253 http://www.opengis.net/wfs http://schemas.opengis.net/wfs/1.1.0/wfs.xsd\"><gml:featureMember><NSDI:F253 gml:id=\"F253.18257198\"><NSDI:SHAPE><gml:Polygon srsDimension=\"2\" srsName=\"http://www.opengis.net/gml/srs/epsg.xml#5174\"><gml:exterior><gml:LinearRing><gml:posList>217853.568 448978.337 217841.468 448975.857 217842.798 448971.337 217852.098 448972.997 217853.938 448975.767 217853.568 448978.337</gml:posList></gml:LinearRing></gml:exterior></gml:Polygon></NSDI:SHAPE><NSDI:GIS_IDNTFC_NO>0000217847824489747900000000</NSDI:GIS_IDNTFC_NO><NSDI:PNU>4145010800103250001</NSDI:PNU><NSDI:LD_CPSG_CODE>41450</NSDI:LD_CPSG_CODE><NSDI:LD_EMD_LI_CODE>10800</NSDI:LD_EMD_LI_CODE><NSDI:REGSTR_SE_CODE>1</NSDI:REGSTR_SE_CODE><NSDI:MNNM>0325</NSDI:MNNM><NSDI:SLNO>0001</NSDI:SLNO><NSDI:SRC_OBJECTID>8577</NSDI:SRC_OBJECTID><NSDI:SRC_LD_CPSG_CODE>41450</NSDI:SRC_LD_CPSG_CODE><NSDI:BULD_IDNTFC_NO>5539</NSDI:BULD_IDNTFC_NO><NSDI:AGBLDG_SE_CODE>1</NSDI:AGBLDG_SE_CODE><NSDI:BULD_KND_CODE>2</NSDI:BULD_KND_CODE><NSDI:BULD_MAIN_ATACH_SE_CODE>0</NSDI:BULD_MAIN_ATACH_SE_CODE><NSDI:BULD_PLOT_AR>91</NSDI:BULD_PLOT_AR><NSDI:BULD_BILDNG_AR>57.17</NSDI:BULD_BILDNG_AR><NSDI:BULD_TOTAR>159.86</NSDI:BULD_TOTAR><NSDI:MEASRMT_RT>175.67</NSDI:MEASRMT_RT><NSDI:BTL_RT>62.82</NSDI:BTL_RT><NSDI:STRCT_CODE>11</NSDI:STRCT_CODE><NSDI:STRCT_CODE_NM>벽돌구조</NSDI:STRCT_CODE_NM><NSDI:MAIN_PRPOS_CODE>01000</NSDI:MAIN_PRPOS_CODE><NSDI:MAIN_PRPOS_CODE_NM>단독주택</NSDI:MAIN_PRPOS_CODE_NM><NSDI:DETAIL_PRPOS_CODE>01003</NSDI:DETAIL_PRPOS_CODE><NSDI:DETAIL_PRPOS_CODE_NM>다가구주택</NSDI:DETAIL_PRPOS_CODE_NM><NSDI:BULD_PRPOS_CL_CODE>1</NSDI:BULD_PRPOS_CL_CODE><NSDI:BULD_PRPOS_CL_CODE_NM>주거용</NSDI:BULD_PRPOS_CL_CODE_NM><NSDI:BULD_HG>0</NSDI:BULD_HG><NSDI:GROUND_FLOOR_CO>3</NSDI:GROUND_FLOOR_CO><NSDI:UNDGRND_FLOOR_CO>0</NSDI:UNDGRND_FLOOR_CO><NSDI:FRST_REGIST_DT>2019-01-02Z</NSDI:FRST_REGIST_DT></NSDI:F253></gml:featureMember><gml:featureMember><NSDI:F253 gml:id=\"F253.18262768\"><NSDI:SHAPE><gml:Polygon srsDimension=\"2\" srsName=\"http://www.opengis.net/gml/srs/epsg.xml#5174\"><gml:exterior><gml:LinearRing><gml:posList>217829.078 448964.787 217827.258 448973.838 217818.218 448972.198 217815.468 448969.468 217816.357 448966.288 217818.788 448966.577 217819.338 448964.848 217823.198 448965.628 217824.038 448964.998 217824.248 448964.107 217829.078 448964.787</gml:posList></gml:LinearRing></gml:exterior></gml:Polygon></NSDI:SHAPE><NSDI:GIS_IDNTFC_NO>1983217822794489688700000000</NSDI:GIS_IDNTFC_NO><NSDI:PNU>4145010800103250006</NSDI:PNU><NSDI:LD_CPSG_CODE>41450</NSDI:LD_CPSG_CODE><NSDI:LD_EMD_LI_CODE>10800</NSDI:LD_EMD_LI_CODE><NSDI:REGSTR_SE_CODE>1</NSDI:REGSTR_SE_CODE><NSDI:MNNM>0325</NSDI:MNNM><NSDI:SLNO>0006</NSDI:SLNO><NSDI:SRC_OBJECTID>8186</NSDI:SRC_OBJECTID><NSDI:SRC_LD_CPSG_CODE>41450</NSDI:SRC_LD_CPSG_CODE><NSDI:BULD_IDNTFC_NO>5540</NSDI:BULD_IDNTFC_NO><NSDI:AGBLDG_SE_CODE>1</NSDI:AGBLDG_SE_CODE><NSDI:BULD_KND_CODE>2</NSDI:BULD_KND_CODE><NSDI:BULD_MAIN_ATACH_SE_CODE>0</NSDI:BULD_MAIN_ATACH_SE_CODE><NSDI:BULD_PLOT_AR>0</NSDI:BULD_PLOT_AR><NSDI:BULD_BILDNG_AR>67.98</NSDI:BULD_BILDNG_AR><NSDI:BULD_TOTAR>132.96</NSDI:BULD_TOTAR><NSDI:MEASRMT_RT>0</NSDI:MEASRMT_RT><NSDI:BTL_RT>0</NSDI:BTL_RT><NSDI:STRCT_CODE>11</NSDI:STRCT_CODE><NSDI:STRCT_CODE_NM>벽돌구조</NSDI:STRCT_CODE_NM><NSDI:MAIN_PRPOS_CODE>01000</NSDI:MAIN_PRPOS_CODE><NSDI:MAIN_PRPOS_CODE_NM>단독주택</NSDI:MAIN_PRPOS_CODE_NM><NSDI:DETAIL_PRPOS_CODE>01001</NSDI:DETAIL_PRPOS_CODE><NSDI:DETAIL_PRPOS_CODE_NM>단독주택</NSDI:DETAIL_PRPOS_CODE_NM><NSDI:BULD_PRPOS_CL_CODE>1</NSDI:BULD_PRPOS_CL_CODE><NSDI:BULD_PRPOS_CL_CODE_NM>주거용</NSDI:BULD_PRPOS_CL_CODE_NM><NSDI:BULD_HG>0</NSDI:BULD_HG><NSDI:GROUND_FLOOR_CO>2</NSDI:GROUND_FLOOR_CO><NSDI:UNDGRND_FLOOR_CO>0</NSDI:UNDGRND_FLOOR_CO><NSDI:USE_CONFM_DE>19831002</NSDI:USE_CONFM_DE><NSDI:FRST_REGIST_DT>2019-01-02Z</NSDI:FRST_REGIST_DT></NSDI:F253></gml:featureMember><gml:featureMember><NSDI:F253 gml:id=\"F253.18259761\"><NSDI:SHAPE><gml:Polygon srsDimension=\"2\" srsName=\"http://www.opengis.net/gml/srs/epsg.xml#5174\"><gml:exterior><gml:LinearRing><gml:posList>217862.388 448975.237 217871.328 448970.117 217876.988 448979.197 217874.008 448981.017 217873.078 448979.857 217871.118 448980.897 217870.278 448979.807 217867.728 448981.207 217866.388 448981.197 217862.388 448975.237</gml:posList></gml:LinearRing></gml:exterior></gml:Polygon></NSDI:SHAPE><NSDI:GIS_IDNTFC_NO>2002217869724489764000000000</NSDI:GIS_IDNTFC_NO><NSDI:PNU>4145010800103250008</NSDI:PNU><NSDI:LD_CPSG_CODE>41450</NSDI:LD_CPSG_CODE><NSDI:LD_EMD_LI_CODE>10800</NSDI:LD_EMD_LI_CODE><NSDI:REGSTR_SE_CODE>1</NSDI:REGSTR_SE_CODE><NSDI:MNNM>0325</NSDI:MNNM><NSDI:SLNO>0008</NSDI:SLNO><NSDI:SRC_OBJECTID>10436</NSDI:SRC_OBJECTID><NSDI:SRC_LD_CPSG_CODE>41450</NSDI:SRC_LD_CPSG_CODE><NSDI:BULD_IDNTFC_NO>5541</NSDI:BULD_IDNTFC_NO><NSDI:AGBLDG_SE_CODE>1</NSDI:AGBLDG_SE_CODE><NSDI:BULD_KND_CODE>2</NSDI:BULD_KND_CODE><NSDI:BULD_MAIN_ATACH_SE_CODE>0</NSDI:BULD_MAIN_ATACH_SE_CODE><NSDI:BULD_PLOT_AR>135</NSDI:BULD_PLOT_AR><NSDI:BULD_BILDNG_AR>80.88</NSDI:BULD_BILDNG_AR><NSDI:BULD_TOTAR>404.4</NSDI:BULD_TOTAR><NSDI:MEASRMT_RT>283.55</NSDI:MEASRMT_RT><NSDI:BTL_RT>59.91</NSDI:BTL_RT><NSDI:STRCT_CODE>21</NSDI:STRCT_CODE><NSDI:STRCT_CODE_NM>철근콘크리트구조</NSDI:STRCT_CODE_NM><NSDI:MAIN_PRPOS_CODE>01000</NSDI:MAIN_PRPOS_CODE><NSDI:MAIN_PRPOS_CODE_NM>단독주택</NSDI:MAIN_PRPOS_CODE_NM><NSDI:DETAIL_PRPOS_CODE>01003</NSDI:DETAIL_PRPOS_CODE><NSDI:DETAIL_PRPOS_CODE_NM>다가구주택</NSDI:DETAIL_PRPOS_CODE_NM><NSDI:BULD_PRPOS_CL_CODE>1</NSDI:BULD_PRPOS_CL_CODE><NSDI:BULD_PRPOS_CL_CODE_NM>주거용</NSDI:BULD_PRPOS_CL_CODE_NM><NSDI:BULD_HG>14.5</NSDI:BULD_HG><NSDI:GROUND_FLOOR_CO>5</NSDI:GROUND_FLOOR_CO><NSDI:UNDGRND_FLOOR_CO>0</NSDI:UNDGRND_FLOOR_CO><NSDI:PRMISN_DE>20020315</NSDI:PRMISN_DE><NSDI:USE_CONFM_DE>20021028</NSDI:USE_CONFM_DE><NSDI:FRST_REGIST_DT>2019-01-02Z</NSDI:FRST_REGIST_DT></NSDI:F253></gml:featureMember><gml:featureMember><NSDI:F253 gml:id=\"F253.18263581\"><NSDI:SHAPE><gml:Polygon srsDimension=\"2\" srsName=\"http://www.opengis.net/gml/srs/epsg.xml#5174\"><gml:exterior><gml:LinearRing><gml:posList>217864.928 448960.097 217868.978 448966.747 217860.178 448972.397 217856.038 448965.267 217864.928 448960.097</gml:posList></gml:LinearRing></gml:exterior></gml:Polygon></NSDI:SHAPE><NSDI:GIS_IDNTFC_NO>1996217862494489661600000000</NSDI:GIS_IDNTFC_NO><NSDI:PNU>4145010800103250009</NSDI:PNU><NSDI:LD_CPSG_CODE>41450</NSDI:LD_CPSG_CODE><NSDI:LD_EMD_LI_CODE>10800</NSDI:LD_EMD_LI_CODE><NSDI:REGSTR_SE_CODE>1</NSDI:REGSTR_SE_CODE><NSDI:MNNM>0325</NSDI:MNNM><NSDI:SLNO>0009</NSDI:SLNO><NSDI:SRC_OBJECTID>8124</NSDI:SRC_OBJECTID><NSDI:SRC_LD_CPSG_CODE>41450</NSDI:SRC_LD_CPSG_CODE><NSDI:BULD_IDNTFC_NO>5542</NSDI:BULD_IDNTFC_NO><NSDI:AGBLDG_SE_CODE>1</NSDI:AGBLDG_SE_CODE><NSDI:BULD_KND_CODE>2</NSDI:BULD_KND_CODE><NSDI:BULD_MAIN_ATACH_SE_CODE>0</NSDI:BULD_MAIN_ATACH_SE_CODE><NSDI:BULD_PLOT_AR>136.7</NSDI:BULD_PLOT_AR><NSDI:BULD_BILDNG_AR>80.97</NSDI:BULD_BILDNG_AR><NSDI:BULD_TOTAR>239.09</NSDI:BULD_TOTAR><NSDI:MEASRMT_RT>174.9</NSDI:MEASRMT_RT><NSDI:BTL_RT>59.23</NSDI:BTL_RT><NSDI:STRCT_CODE>21</NSDI:STRCT_CODE><NSDI:STRCT_CODE_NM>철근콘크리트구조</NSDI:STRCT_CODE_NM><NSDI:MAIN_PRPOS_CODE>01000</NSDI:MAIN_PRPOS_CODE><NSDI:MAIN_PRPOS_CODE_NM>단독주택</NSDI:MAIN_PRPOS_CODE_NM><NSDI:DETAIL_PRPOS_CODE>01003</NSDI:DETAIL_PRPOS_CODE><NSDI:DETAIL_PRPOS_CODE_NM>다가구주택</NSDI:DETAIL_PRPOS_CODE_NM><NSDI:BULD_PRPOS_CL_CODE>1</NSDI:BULD_PRPOS_CL_CODE><NSDI:BULD_PRPOS_CL_CODE_NM>주거용</NSDI:BULD_PRPOS_CL_CODE_NM><NSDI:BULD_HG>8.9</NSDI:BULD_HG><NSDI:GROUND_FLOOR_CO>3</NSDI:GROUND_FLOOR_CO><NSDI:UNDGRND_FLOOR_CO>0</NSDI:UNDGRND_FLOOR_CO><NSDI:PRMISN_DE>19960610</NSDI:PRMISN_DE><NSDI:USE_CONFM_DE>19961015</NSDI:USE_CONFM_DE><NSDI:FRST_REGIST_DT>2019-01-02Z</NSDI:FRST_REGIST_DT></NSDI:F253></gml:featureMember><gml:featureMember><NSDI:F253 gml:id=\"F253.18260918\"><NSDI:SHAPE><gml:Polygon srsDimension=\"2\" srsName=\"http://www.opengis.net/gml/srs/epsg.xml#5174\"><gml:exterior><gml:LinearRing><gml:posList>217865.258 448958.877 217856.508 448963.887 217853.188 448958.447 217857.478 448956.007 217856.978 448955.147 217861.437 448952.497 217865.258 448958.877</gml:posList></gml:LinearRing></gml:exterior></gml:Polygon></NSDI:SHAPE><NSDI:GIS_IDNTFC_NO>1983217859254489583100000000</NSDI:GIS_IDNTFC_NO><NSDI:PNU>4145010800103250010</NSDI:PNU><NSDI:LD_CPSG_CODE>41450</NSDI:LD_CPSG_CODE><NSDI:LD_EMD_LI_CODE>10800</NSDI:LD_EMD_LI_CODE><NSDI:REGSTR_SE_CODE>1</NSDI:REGSTR_SE_CODE><NSDI:MNNM>0325</NSDI:MNNM><NSDI:SLNO>0010</NSDI:SLNO><NSDI:SRC_OBJECTID>8653</NSDI:SRC_OBJECTID><NSDI:SRC_LD_CPSG_CODE>41450</NSDI:SRC_LD_CPSG_CODE><NSDI:BULD_IDNTFC_NO>5543</NSDI:BULD_IDNTFC_NO><NSDI:AGBLDG_SE_CODE>1</NSDI:AGBLDG_SE_CODE><NSDI:BULD_KND_CODE>2</NSDI:BULD_KND_CODE><NSDI:BULD_MAIN_ATACH_SE_CODE>0</NSDI:BULD_MAIN_ATACH_SE_CODE><NSDI:BULD_PLOT_AR>0</NSDI:BULD_PLOT_AR><NSDI:BULD_BILDNG_AR>49.5</NSDI:BULD_BILDNG_AR><NSDI:BULD_TOTAR>99</NSDI:BULD_TOTAR><NSDI:MEASRMT_RT>0</NSDI:MEASRMT_RT><NSDI:BTL_RT>0</NSDI:BTL_RT><NSDI:STRCT_CODE>11</NSDI:STRCT_CODE><NSDI:STRCT_CODE_NM>벽돌구조</NSDI:STRCT_CODE_NM><NSDI:MAIN_PRPOS_CODE>01000</NSDI:MAIN_PRPOS_CODE><NSDI:MAIN_PRPOS_CODE_NM>단독주택</NSDI:MAIN_PRPOS_CODE_NM><NSDI:DETAIL_PRPOS_CODE>01001</NSDI:DETAIL_PRPOS_CODE><NSDI:DETAIL_PRPOS_CODE_NM>단독주택</NSDI:DETAIL_PRPOS_CODE_NM><NSDI:BULD_PRPOS_CL_CODE>1</NSDI:BULD_PRPOS_CL_CODE><NSDI:BULD_PRPOS_CL_CODE_NM>주거용</NSDI:BULD_PRPOS_CL_CODE_NM><NSDI:BULD_HG>0</NSDI:BULD_HG><NSDI:GROUND_FLOOR_CO>2</NSDI:GROUND_FLOOR_CO><NSDI:UNDGRND_FLOOR_CO>0</NSDI:UNDGRND_FLOOR_CO><NSDI:PRMISN_DE>19830407</NSDI:PRMISN_DE><NSDI:USE_CONFM_DE>19830704</NSDI:USE_CONFM_DE><NSDI:FRST_REGIST_DT>2019-01-02Z</NSDI:FRST_REGIST_DT></NSDI:F253></gml:featureMember><gml:featureMember><NSDI:F253 gml:id=\"F253.18260991\"><NSDI:SHAPE><gml:Polygon srsDimension=\"2\" srsName=\"http://www.opengis.net/gml/srs/epsg.xml#5174\"><gml:exterior><gml:LinearRing><gml:posList>217876.048 448956.327 217867.448 448961.397 217863.388 448954.987 217867.028 448952.837 217867.467 448953.557 217870.578 448951.547 217872.118 448953.977 217873.628 448952.937 217876.048 448956.327</gml:posList></gml:LinearRing></gml:exterior></gml:Polygon></NSDI:SHAPE><NSDI:GIS_IDNTFC_NO>1985217869464489562200000000</NSDI:GIS_IDNTFC_NO><NSDI:PNU>4145010800103250011</NSDI:PNU><NSDI:LD_CPSG_CODE>41450</NSDI:LD_CPSG_CODE><NSDI:LD_EMD_LI_CODE>10800</NSDI:LD_EMD_LI_CODE><NSDI:REGSTR_SE_CODE>1</NSDI:REGSTR_SE_CODE><NSDI:MNNM>0325</NSDI:MNNM><NSDI:SLNO>0011</NSDI:SLNO><NSDI:SRC_OBJECTID>8658</NSDI:SRC_OBJECTID><NSDI:SRC_LD_CPSG_CODE>41450</NSDI:SRC_LD_CPSG_CODE><NSDI:BULD_IDNTFC_NO>5544</NSDI:BULD_IDNTFC_NO><NSDI:AGBLDG_SE_CODE>1</NSDI:AGBLDG_SE_CODE><NSDI:BULD_KND_CODE>2</NSDI:BULD_KND_CODE><NSDI:BULD_MAIN_ATACH_SE_CODE>0</NSDI:BULD_MAIN_ATACH_SE_CODE><NSDI:BULD_PLOT_AR>0</NSDI:BULD_PLOT_AR><NSDI:BULD_BILDNG_AR>46.4</NSDI:BULD_BILDNG_AR><NSDI:BULD_TOTAR>92.8</NSDI:BULD_TOTAR><NSDI:MEASRMT_RT>0</NSDI:MEASRMT_RT><NSDI:BTL_RT>0</NSDI:BTL_RT><NSDI:STRCT_CODE>11</NSDI:STRCT_CODE><NSDI:STRCT_CODE_NM>벽돌구조</NSDI:STRCT_CODE_NM><NSDI:MAIN_PRPOS_CODE>01000</NSDI:MAIN_PRPOS_CODE><NSDI:MAIN_PRPOS_CODE_NM>단독주택</NSDI:MAIN_PRPOS_CODE_NM><NSDI:DETAIL_PRPOS_CODE>01001</NSDI:DETAIL_PRPOS_CODE><NSDI:DETAIL_PRPOS_CODE_NM>단독주택</NSDI:DETAIL_PRPOS_CODE_NM><NSDI:BULD_PRPOS_CL_CODE>1</NSDI:BULD_PRPOS_CL_CODE><NSDI:BULD_PRPOS_CL_CODE_NM>주거용</NSDI:BULD_PRPOS_CL_CODE_NM><NSDI:BULD_HG>0</NSDI:BULD_HG><NSDI:GROUND_FLOOR_CO>2</NSDI:GROUND_FLOOR_CO><NSDI:UNDGRND_FLOOR_CO>0</NSDI:UNDGRND_FLOOR_CO><NSDI:PRMISN_DE>19830414</NSDI:PRMISN_DE><NSDI:USE_CONFM_DE>19850115</NSDI:USE_CONFM_DE><NSDI:FRST_REGIST_DT>2019-01-02Z</NSDI:FRST_REGIST_DT></NSDI:F253></gml:featureMember><gml:featureMember><NSDI:F253 gml:id=\"F253.18260989\"><NSDI:SHAPE><gml:Polygon srsDimension=\"2\" srsName=\"http://www.opengis.net/gml/srs/epsg.xml#5174\"><gml:exterior><gml:LinearRing><gml:posList>217881.358 448963.327 217872.998 448968.477 217868.958 448962.537 217872.778 448959.597 217873.448 448960.517 217877.978 448957.827 217881.358 448963.327</gml:posList></gml:LinearRing></gml:exterior></gml:Polygon></NSDI:SHAPE><NSDI:GIS_IDNTFC_NO>1983217875134489630400000000</NSDI:GIS_IDNTFC_NO><NSDI:PNU>4145010800103250012</NSDI:PNU><NSDI:LD_CPSG_CODE>41450</NSDI:LD_CPSG_CODE><NSDI:LD_EMD_LI_CODE>10800</NSDI:LD_EMD_LI_CODE><NSDI:REGSTR_SE_CODE>1</NSDI:REGSTR_SE_CODE><NSDI:MNNM>0325</NSDI:MNNM><NSDI:SLNO>0012</NSDI:SLNO><NSDI:SRC_OBJECTID>8656</NSDI:SRC_OBJECTID><NSDI:SRC_LD_CPSG_CODE>41450</NSDI:SRC_LD_CPSG_CODE><NSDI:BULD_IDNTFC_NO>5545</NSDI:BULD_IDNTFC_NO><NSDI:AGBLDG_SE_CODE>1</NSDI:AGBLDG_SE_CODE><NSDI:BULD_KND_CODE>2</NSDI:BULD_KND_CODE><NSDI:BULD_MAIN_ATACH_SE_CODE>0</NSDI:BULD_MAIN_ATACH_SE_CODE><NSDI:BULD_PLOT_AR>0</NSDI:BULD_PLOT_AR><NSDI:BULD_BILDNG_AR>49.26</NSDI:BULD_BILDNG_AR><NSDI:BULD_TOTAR>98.52</NSDI:BULD_TOTAR><NSDI:MEASRMT_RT>0</NSDI:MEASRMT_RT><NSDI:BTL_RT>0</NSDI:BTL_RT><NSDI:STRCT_CODE>11</NSDI:STRCT_CODE><NSDI:STRCT_CODE_NM>벽돌구조</NSDI:STRCT_CODE_NM><NSDI:MAIN_PRPOS_CODE>01000</NSDI:MAIN_PRPOS_CODE><NSDI:MAIN_PRPOS_CODE_NM>단독주택</NSDI:MAIN_PRPOS_CODE_NM><NSDI:DETAIL_PRPOS_CODE>01001</NSDI:DETAIL_PRPOS_CODE><NSDI:DETAIL_PRPOS_CODE_NM>단독주택</NSDI:DETAIL_PRPOS_CODE_NM><NSDI:BULD_PRPOS_CL_CODE>1</NSDI:BULD_PRPOS_CL_CODE><NSDI:BULD_PRPOS_CL_CODE_NM>주거용</NSDI:BULD_PRPOS_CL_CODE_NM><NSDI:BULD_HG>0</NSDI:BULD_HG><NSDI:GROUND_FLOOR_CO>2</NSDI:GROUND_FLOOR_CO><NSDI:UNDGRND_FLOOR_CO>0</NSDI:UNDGRND_FLOOR_CO><NSDI:PRMISN_DE>19830407</NSDI:PRMISN_DE><NSDI:USE_CONFM_DE>19830719</NSDI:USE_CONFM_DE><NSDI:FRST_REGIST_DT>2019-01-02Z</NSDI:FRST_REGIST_DT></NSDI:F253></gml:featureMember><gml:featureMember><NSDI:F253 gml:id=\"F253.18259236\"><NSDI:SHAPE><gml:Polygon srsDimension=\"2\" srsName=\"http://www.opengis.net/gml/srs/epsg.xml#5174\"><gml:exterior><gml:LinearRing><gml:posList>217894.608 448971.627 217899.048 448969.066 217903.868 448976.556 217895.519 448981.576 217893.528 448977.876 217894.078 448977.586 217892.338 448974.846 217895.328 448972.886 217894.608 448971.627</gml:posList></gml:LinearRing></gml:exterior></gml:Polygon></NSDI:SHAPE><NSDI:GIS_IDNTFC_NO>1983217897854489753800000000</NSDI:GIS_IDNTFC_NO><NSDI:PNU>4145010800103250016</NSDI:PNU><NSDI:LD_CPSG_CODE>41450</NSDI:LD_CPSG_CODE><NSDI:LD_EMD_LI_CODE>10800</NSDI:LD_EMD_LI_CODE><NSDI:REGSTR_SE_CODE>1</NSDI:REGSTR_SE_CODE><NSDI:MNNM>0325</NSDI:MNNM><NSDI:SLNO>0016</NSDI:SLNO><NSDI:SRC_OBJECTID>10469</NSDI:SRC_OBJECTID><NSDI:SRC_LD_CPSG_CODE>41450</NSDI:SRC_LD_CPSG_CODE><NSDI:BULD_IDNTFC_NO>5548</NSDI:BULD_IDNTFC_NO><NSDI:AGBLDG_SE_CODE>1</NSDI:AGBLDG_SE_CODE><NSDI:BULD_KND_CODE>2</NSDI:BULD_KND_CODE><NSDI:BULD_MAIN_ATACH_SE_CODE>0</NSDI:BULD_MAIN_ATACH_SE_CODE><NSDI:BULD_PLOT_AR>0</NSDI:BULD_PLOT_AR><NSDI:BULD_BILDNG_AR>60.48</NSDI:BULD_BILDNG_AR><NSDI:BULD_TOTAR>119.46</NSDI:BULD_TOTAR><NSDI:MEASRMT_RT>0</NSDI:MEASRMT_RT><NSDI:BTL_RT>0</NSDI:BTL_RT><NSDI:STRCT_CODE>11</NSDI:STRCT_CODE><NSDI:STRCT_CODE_NM>벽돌구조</NSDI:STRCT_CODE_NM><NSDI:MAIN_PRPOS_CODE>01000</NSDI:MAIN_PRPOS_CODE><NSDI:MAIN_PRPOS_CODE_NM>단독주택</NSDI:MAIN_PRPOS_CODE_NM><NSDI:DETAIL_PRPOS_CODE>01001</NSDI:DETAIL_PRPOS_CODE><NSDI:DETAIL_PRPOS_CODE_NM>단독주택</NSDI:DETAIL_PRPOS_CODE_NM><NSDI:BULD_PRPOS_CL_CODE>1</NSDI:BULD_PRPOS_CL_CODE><NSDI:BULD_PRPOS_CL_CODE_NM>주거용</NSDI:BULD_PRPOS_CL_CODE_NM><NSDI:BULD_HG>0</NSDI:BULD_HG><NSDI:GROUND_FLOOR_CO>2</NSDI:GROUND_FLOOR_CO><NSDI:UNDGRND_FLOOR_CO>0</NSDI:UNDGRND_FLOOR_CO><NSDI:USE_CONFM_DE>19830715</NSDI:USE_CONFM_DE><NSDI:FRST_REGIST_DT>2019-01-02Z</NSDI:FRST_REGIST_DT></NSDI:F253></gml:featureMember><gml:featureMember><NSDI:F253 gml:id=\"F253.18257862\"><NSDI:SHAPE><gml:Polygon srsDimension=\"2\" srsName=\"http://www.opengis.net/gml/srs/epsg.xml#5174\"><gml:exterior><gml:LinearRing><gml:posList>217890.828 448962.466 217891.038 448962.797 217894.658 448960.616 217898.728 448967.606 217890.118 448972.537 217885.868 448965.216 217890.828 448962.466</gml:posList></gml:LinearRing></gml:exterior></gml:Polygon></NSDI:SHAPE><NSDI:GIS_IDNTFC_NO>1983217892294489665200000000</NSDI:GIS_IDNTFC_NO><NSDI:PNU>4145010800103250017</NSDI:PNU><NSDI:LD_CPSG_CODE>41450</NSDI:LD_CPSG_CODE><NSDI:LD_EMD_LI_CODE>10800</NSDI:LD_EMD_LI_CODE><NSDI:REGSTR_SE_CODE>1</NSDI:REGSTR_SE_CODE><NSDI:MNNM>0325</NSDI:MNNM><NSDI:SLNO>0017</NSDI:SLNO><NSDI:SRC_OBJECTID>7855</NSDI:SRC_OBJECTID><NSDI:SRC_LD_CPSG_CODE>41450</NSDI:SRC_LD_CPSG_CODE><NSDI:BULD_IDNTFC_NO>5549</NSDI:BULD_IDNTFC_NO><NSDI:AGBLDG_SE_CODE>1</NSDI:AGBLDG_SE_CODE><NSDI:BULD_KND_CODE>2</NSDI:BULD_KND_CODE><NSDI:BULD_MAIN_ATACH_SE_CODE>0</NSDI:BULD_MAIN_ATACH_SE_CODE><NSDI:BULD_PLOT_AR>0</NSDI:BULD_PLOT_AR><NSDI:BULD_BILDNG_AR>49.62</NSDI:BULD_BILDNG_AR><NSDI:BULD_TOTAR>98.12</NSDI:BULD_TOTAR><NSDI:MEASRMT_RT>0</NSDI:MEASRMT_RT><NSDI:BTL_RT>0</NSDI:BTL_RT><NSDI:STRCT_CODE>11</NSDI:STRCT_CODE><NSDI:STRCT_CODE_NM>벽돌구조</NSDI:STRCT_CODE_NM><NSDI:MAIN_PRPOS_CODE>01000</NSDI:MAIN_PRPOS_CODE><NSDI:MAIN_PRPOS_CODE_NM>단독주택</NSDI:MAIN_PRPOS_CODE_NM><NSDI:DETAIL_PRPOS_CODE>01001</NSDI:DETAIL_PRPOS_CODE><NSDI:DETAIL_PRPOS_CODE_NM>단독주택</NSDI:DETAIL_PRPOS_CODE_NM><NSDI:BULD_PRPOS_CL_CODE>1</NSDI:BULD_PRPOS_CL_CODE><NSDI:BULD_PRPOS_CL_CODE_NM>주거용</NSDI:BULD_PRPOS_CL_CODE_NM><NSDI:BULD_HG>0</NSDI:BULD_HG><NSDI:GROUND_FLOOR_CO>2</NSDI:GROUND_FLOOR_CO><NSDI:UNDGRND_FLOOR_CO>0</NSDI:UNDGRND_FLOOR_CO><NSDI:USE_CONFM_DE>19830702</NSDI:USE_CONFM_DE><NSDI:FRST_REGIST_DT>2019-01-02Z</NSDI:FRST_REGIST_DT></NSDI:F253></gml:featureMember><gml:featureMember><NSDI:F253 gml:id=\"F253.18262700\"><NSDI:SHAPE><gml:Polygon srsDimension=\"2\" srsName=\"http://www.opengis.net/gml/srs/epsg.xml#5174\"><gml:exterior><gml:LinearRing><gml:posList>217883.878 448952.226 217887.838 448949.686 217892.328 448956.646 217883.488 448961.977 217880.268 448956.747 217884.698 448953.916 217883.878 448952.226</gml:posList></gml:LinearRing></gml:exterior></gml:Polygon></NSDI:SHAPE><NSDI:GIS_IDNTFC_NO>1983217886274489560400000000</NSDI:GIS_IDNTFC_NO><NSDI:PNU>4145010800103250018</NSDI:PNU><NSDI:LD_CPSG_CODE>41450</NSDI:LD_CPSG_CODE><NSDI:LD_EMD_LI_CODE>10800</NSDI:LD_EMD_LI_CODE><NSDI:REGSTR_SE_CODE>1</NSDI:REGSTR_SE_CODE><NSDI:MNNM>0325</NSDI:MNNM><NSDI:SLNO>0018</NSDI:SLNO><NSDI:SRC_OBJECTID>7849</NSDI:SRC_OBJECTID><NSDI:SRC_LD_CPSG_CODE>41450</NSDI:SRC_LD_CPSG_CODE><NSDI:BULD_IDNTFC_NO>5550</NSDI:BULD_IDNTFC_NO><NSDI:AGBLDG_SE_CODE>1</NSDI:AGBLDG_SE_CODE><NSDI:BULD_KND_CODE>2</NSDI:BULD_KND_CODE><NSDI:BULD_MAIN_ATACH_SE_CODE>0</NSDI:BULD_MAIN_ATACH_SE_CODE><NSDI:BULD_PLOT_AR>0</NSDI:BULD_PLOT_AR><NSDI:BULD_BILDNG_AR>49.5</NSDI:BULD_BILDNG_AR><NSDI:BULD_TOTAR>99</NSDI:BULD_TOTAR><NSDI:MEASRMT_RT>0</NSDI:MEASRMT_RT><NSDI:BTL_RT>0</NSDI:BTL_RT><NSDI:STRCT_CODE>11</NSDI:STRCT_CODE><NSDI:STRCT_CODE_NM>벽돌구조</NSDI:STRCT_CODE_NM><NSDI:MAIN_PRPOS_CODE>01000</NSDI:MAIN_PRPOS_CODE><NSDI:MAIN_PRPOS_CODE_NM>단독주택</NSDI:MAIN_PRPOS_CODE_NM><NSDI:DETAIL_PRPOS_CODE>01001</NSDI:DETAIL_PRPOS_CODE><NSDI:DETAIL_PRPOS_CODE_NM>단독주택</NSDI:DETAIL_PRPOS_CODE_NM><NSDI:BULD_PRPOS_CL_CODE>1</NSDI:BULD_PRPOS_CL_CODE><NSDI:BULD_PRPOS_CL_CODE_NM>주거용</NSDI:BULD_PRPOS_CL_CODE_NM><NSDI:BULD_HG>0</NSDI:BULD_HG><NSDI:GROUND_FLOOR_CO>2</NSDI:GROUND_FLOOR_CO><NSDI:UNDGRND_FLOOR_CO>0</NSDI:UNDGRND_FLOOR_CO><NSDI:PRMISN_DE>19830407</NSDI:PRMISN_DE><NSDI:USE_CONFM_DE>19830827</NSDI:USE_CONFM_DE><NSDI:FRST_REGIST_DT>2019-01-02Z</NSDI:FRST_REGIST_DT></NSDI:F253></gml:featureMember></wfs:FeatureCollection>"
      ]
     },
     "execution_count": 47,
     "metadata": {},
     "output_type": "execute_result"
    }
   ],
   "source": [
    "Data"
   ]
  },
  {
   "cell_type": "code",
   "execution_count": 74,
   "metadata": {},
   "outputs": [
    {
     "data": {
      "text/plain": [
       "[<NSDI:GIS_IDNTFC_NO>0000217847824489747900000000</NSDI:GIS_IDNTFC_NO>,\n",
       " <NSDI:GIS_IDNTFC_NO>1983217822794489688700000000</NSDI:GIS_IDNTFC_NO>,\n",
       " <NSDI:GIS_IDNTFC_NO>2002217869724489764000000000</NSDI:GIS_IDNTFC_NO>,\n",
       " <NSDI:GIS_IDNTFC_NO>1996217862494489661600000000</NSDI:GIS_IDNTFC_NO>,\n",
       " <NSDI:GIS_IDNTFC_NO>1983217859254489583100000000</NSDI:GIS_IDNTFC_NO>,\n",
       " <NSDI:GIS_IDNTFC_NO>1985217869464489562200000000</NSDI:GIS_IDNTFC_NO>,\n",
       " <NSDI:GIS_IDNTFC_NO>1983217875134489630400000000</NSDI:GIS_IDNTFC_NO>,\n",
       " <NSDI:GIS_IDNTFC_NO>1983217897854489753800000000</NSDI:GIS_IDNTFC_NO>,\n",
       " <NSDI:GIS_IDNTFC_NO>1983217892294489665200000000</NSDI:GIS_IDNTFC_NO>,\n",
       " <NSDI:GIS_IDNTFC_NO>1983217886274489560400000000</NSDI:GIS_IDNTFC_NO>]"
      ]
     },
     "execution_count": 74,
     "metadata": {},
     "output_type": "execute_result"
    }
   ],
   "source": [
    "result = []\n",
    "rows = 0\n",
    "columnName = []\n",
    "# search Item all item tag\n",
    "iterData = Data.find_all('GIS_IDNTFC_NO')\n",
    "iterData"
   ]
  },
  {
   "cell_type": "code",
   "execution_count": 96,
   "metadata": {},
   "outputs": [],
   "source": [
    "item = iterData[0]\n",
    "item_list = []\n",
    "for tag in item.find_all():\n",
    "    try:\n",
    "        tagname = tag.name\n",
    "        if rows == 0:\n",
    "            columnName.append(tagname)\n",
    "        item_list.append(item.find(tagname).text)\n",
    "    except Exception as e:\n",
    "        print(\"This row will be ignored. \", item_list)\n",
    "rows = rows + 1\n",
    "result.append(item_list)"
   ]
  },
  {
   "cell_type": "code",
   "execution_count": 99,
   "metadata": {},
   "outputs": [
    {
     "data": {
      "text/plain": [
       "[]"
      ]
     },
     "execution_count": 99,
     "metadata": {},
     "output_type": "execute_result"
    }
   ],
   "source": [
    "item.find_all()"
   ]
  },
  {
   "cell_type": "code",
   "execution_count": 91,
   "metadata": {},
   "outputs": [],
   "source": [
    "iterData = Data.find_all('PNU')\n",
    "for item in iterData:\n",
    "    item_list = []\n",
    "    # Fill the value in one row\n",
    "    for tag in item.find_all():\n",
    "        try:\n",
    "            tagname = tag.name\n",
    "            if rows == 0:\n",
    "                columnName.append(tagname)\n",
    "            item_list.append(item.find(tagname).text)\n",
    "        except Exception as e:\n",
    "            print(\"This row will be ignored. \", item_list)\n",
    "    rows = rows + 1\n",
    "    result.append(item_list)"
   ]
  },
  {
   "cell_type": "code",
   "execution_count": 92,
   "metadata": {},
   "outputs": [
    {
     "data": {
      "text/plain": [
       "[]"
      ]
     },
     "execution_count": 92,
     "metadata": {},
     "output_type": "execute_result"
    }
   ],
   "source": [
    "item_list"
   ]
  },
  {
   "cell_type": "code",
   "execution_count": 87,
   "metadata": {},
   "outputs": [],
   "source": [
    "# 모든 데이터를 담을 리스트 선언\n",
    "result = []\n",
    "# xml 라이브러리 표준\n",
    "root = ET.fromstring(fullXmlString)\n",
    "# body -> items -> item  모두 선택\n",
    "elements = root.findall('<>')"
   ]
  },
  {
   "cell_type": "code",
   "execution_count": 24,
   "metadata": {},
   "outputs": [
    {
     "data": {
      "text/plain": [
       "[]"
      ]
     },
     "execution_count": 24,
     "metadata": {},
     "output_type": "execute_result"
    }
   ],
   "source": [
    "elements"
   ]
  },
  {
   "cell_type": "code",
   "execution_count": null,
   "metadata": {},
   "outputs": [],
   "source": [
    "# for 문을 돌면서 리스트에 모든 행 데이터 담기\n",
    "for item in elements:\n",
    "    try:\n",
    "        item_list = []\n",
    "        item_list.append(item.find('거래금액').text)\n",
    "        item_list.append(item.find('건축년도').text)\n",
    "        result.append(item_list)\n",
    "    except Exception as e:\n",
    "        print('This  row will be ignored', item_list)"
   ]
  }
 ],
 "metadata": {
  "kernelspec": {
   "display_name": "Python 3",
   "language": "python",
   "name": "python3"
  },
  "language_info": {
   "codemirror_mode": {
    "name": "ipython",
    "version": 3
   },
   "file_extension": ".py",
   "mimetype": "text/x-python",
   "name": "python",
   "nbconvert_exporter": "python",
   "pygments_lexer": "ipython3",
   "version": "3.7.1"
  }
 },
 "nbformat": 4,
 "nbformat_minor": 2
}
