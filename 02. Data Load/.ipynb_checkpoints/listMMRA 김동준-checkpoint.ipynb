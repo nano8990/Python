{
 "cells": [
  {
   "cell_type": "code",
   "execution_count": 1,
   "metadata": {},
   "outputs": [],
   "source": [
    "# 리스트를 인수로 받아서 최대, 최소값을 뺀 평균을 구하는 함수를 생성하세요.\n",
    "def listMMRA(list):\n",
    "    listMaxCount = list.count(max(list))\n",
    "    for i in range(0, listMaxCount):\n",
    "        list.remove(max(list))\n",
    "    listMinCount = list.count(min(list))\n",
    "    for i in range(0, listMinCount):\n",
    "        list.remove(min(list))\n",
    "    list_Average = sum(list) / len(list)\n",
    "    return list_Average"
   ]
  }
 ],
 "metadata": {
  "kernelspec": {
   "display_name": "Python 3",
   "language": "python",
   "name": "python3"
  },
  "language_info": {
   "codemirror_mode": {
    "name": "ipython",
    "version": 3
   },
   "file_extension": ".py",
   "mimetype": "text/x-python",
   "name": "python",
   "nbconvert_exporter": "python",
   "pygments_lexer": "ipython3",
   "version": "3.7.1"
  }
 },
 "nbformat": 4,
 "nbformat_minor": 2
}
