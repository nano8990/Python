{
 "cells": [
  {
   "cell_type": "code",
   "execution_count": 1,
   "metadata": {},
   "outputs": [],
   "source": [
    "import requests #Used to service API connection\n",
    "from lxml import html #Used to parse XML\n",
    "from bs4 import BeautifulSoup #Used to read XML table on webpage\n",
    "import pandas as pd\n",
    "from common import cFunction as cf\n",
    "import numpy as np\n",
    "import wget"
   ]
  },
  {
   "cell_type": "markdown",
   "metadata": {},
   "source": [
    "# 공간융합정보 - 용도별건물정보서비스"
   ]
  },
  {
   "cell_type": "code",
   "execution_count": 2,
   "metadata": {},
   "outputs": [],
   "source": [
    "url = 'http://apis.data.go.kr/1611000/nsdi/BuildingUseService/wfs/getBuildingUseWFS?ServiceKey=aDTqxJKNQ6XA6akRhrCF1ZSGXu8uk6HwyjXEWNetiKZEo%2FAD1M38g97KxPIXwL5k4RBnx%2BJwa6DzpTgn0G6AEg%3D%3D&maxfeatures=10&typename=F253&bbox=217694,448235,218608,449094,EPSG:5174&pnu=414501080010325&maxFeatures=10&resultType=results&srsName=EPSG:5174'\n",
    "itemList = ['SHAPE', 'GIS_IDNTFC_NO', 'PNU', 'LD_CPSG_CODE', 'LD_EMD_LI_CODE', 'REGSTR_SE_CODE', 'MNNM', 'SLNO', 'SRC_OBJECTID', 'SRC_LD_CPSG_CODE', 'BULD_IDNTFC_NO', 'AGBLDG_SE_CODE', 'BULD_KND_CODE', 'BULD_NM', 'BULD_DONG_NM', 'BULD_MAIN_ATACH_SE_CODE', 'BULD_PLOT_AR', 'BULD_BILDNG_AR', 'BULD_TOTAR', 'MEASRMT_RT', 'BTL_RT', 'STRCT_CODE', 'STRCT_CODE_NM', 'MAIN_PRPOS_CODE', 'MAIN_PRPOS_CODE_NM', 'DETAIL_PRPOS_CODE', 'DETAIL_PRPOS_CODE_NM', 'BULD_PRPOS_CL_CODE', 'BULD_PRPOS_CL_CODE_NM', 'BULD_HG', 'GROUND_FLOOR_CO', 'UNDGRND_FLOOR_CO', 'PRMISN_DE', 'USE_CONFM_DE', 'FRST_REGIST_DT']\n",
    "separatorTag = 'gml:featureMember'"
   ]
  },
  {
   "cell_type": "code",
   "execution_count": 3,
   "metadata": {},
   "outputs": [],
   "source": [
    "def atypical_xml_process(url, itemList, separatorTag):\n",
    "    response = requests.get(url)\n",
    "    Data = BeautifulSoup(response.text, 'lxml-xml')\n",
    "    tempDict = {}\n",
    "    for i in itemList:\n",
    "        tempDict[i] = []\n",
    "    iterData = Data.find_all(separatorTag)\n",
    "    for i in range(0, len(iterData)):\n",
    "        for j in range(0, len(itemList)):\n",
    "            eachData = iterData[i].find_all(itemList[j])\n",
    "            eachItemList = []\n",
    "            if eachData == []:\n",
    "                eachItemList.append('')\n",
    "            else:\n",
    "                for k in range(0, len(eachData)):\n",
    "                    tag = eachData[k]\n",
    "                    eachItemList.append(tag.text)\n",
    "            tempDict[itemList[j]] += eachItemList\n",
    "    finalResult = pd.DataFrame(tempDict)\n",
    "    return finalResult"
   ]
  },
  {
   "cell_type": "code",
   "execution_count": 6,
   "metadata": {},
   "outputs": [],
   "source": [
    "atypical_xml_process(url, itemList, separatorTag).to_csv(\"Success_Data.csv\", index=False, encoding='ms949')"
   ]
  },
  {
   "cell_type": "code",
   "execution_count": null,
   "metadata": {},
   "outputs": [],
   "source": []
  }
 ],
 "metadata": {
  "kernelspec": {
   "display_name": "Python 3",
   "language": "python",
   "name": "python3"
  },
  "language_info": {
   "codemirror_mode": {
    "name": "ipython",
    "version": 3
   },
   "file_extension": ".py",
   "mimetype": "text/x-python",
   "name": "python",
   "nbconvert_exporter": "python",
   "pygments_lexer": "ipython3",
   "version": "3.7.1"
  }
 },
 "nbformat": 4,
 "nbformat_minor": 2
}
