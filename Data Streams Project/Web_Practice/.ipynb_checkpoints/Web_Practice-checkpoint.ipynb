{
 "cells": [
  {
   "cell_type": "code",
   "execution_count": 3,
   "metadata": {},
   "outputs": [],
   "source": [
    "# 필요 라이브러리 호출\n",
    "import requests\n",
    "import pandas as pd\n",
    "import numpy as np\n",
    "import re\n",
    "import time\n",
    "from bs4 import BeautifulSoup\n",
    "from selenium import webdriver"
   ]
  },
  {
   "cell_type": "code",
   "execution_count": 4,
   "metadata": {},
   "outputs": [],
   "source": [
    "def search_id_delay(elementId):\n",
    "    while(True):\n",
    "        try:\n",
    "            searchTry = driver.find_element_by_id(elementId)\n",
    "            return searchTry\n",
    "        except:\n",
    "            time.sleep(1)\n",
    "            \n",
    "def search_class_delay(elementId):\n",
    "    while(True):\n",
    "        try:\n",
    "            searchTry = driver.find_element_by_class_name(elementId)\n",
    "            return searchTry\n",
    "        except:\n",
    "            time.sleep(1)\n",
    "            \n",
    "def search_xpath_delay(elementId):\n",
    "    while(True):\n",
    "        try:\n",
    "            searchTry = driver.find_element_by_xpath(elementId)\n",
    "            return searchTry\n",
    "        except:\n",
    "            time.sleep(1)\n",
    "            \n",
    "def search_xpaths_delay(elementId):\n",
    "    while(True):\n",
    "        try:\n",
    "            searchTry = driver.find_elements_by_xpath(elementId)\n",
    "            return searchTry\n",
    "        except:\n",
    "            time.sleep(1)"
   ]
  },
  {
   "cell_type": "markdown",
   "metadata": {},
   "source": [
    "# URL 수집 자동화 프로젝트"
   ]
  },
  {
   "cell_type": "code",
   "execution_count": 5,
   "metadata": {},
   "outputs": [],
   "source": [
    "# 데이터 목록 불러오기\n",
    "dataList = pd.read_csv(\"https://docs.google.com/spreadsheets/d/1VngqG-m7G8k1587c21MZoheR1Fz3amp1mJtiBvA1Jb0/export?format=csv&gid=0\")"
   ]
  },
  {
   "cell_type": "code",
   "execution_count": 6,
   "metadata": {
    "scrolled": true
   },
   "outputs": [],
   "source": [
    "# 원하는 행 조회(공공데이터포털, 한국감정원)\n",
    "dataListConnectSite = dataList['접속 사이트']\n",
    "publicDataPortal = dataList[(dataListConnectSite == '공공데이터포털') | (dataListConnectSite == '한국감정원')]\n",
    "\n",
    "# 원하는 컬럼 조회\n",
    "dataNameList = publicDataPortal['제공항목(데이터셋)'].tolist()\n",
    "originalSourceList = publicDataPortal['원본제공처'].tolist()"
   ]
  },
  {
   "cell_type": "code",
   "execution_count": 8,
   "metadata": {},
   "outputs": [],
   "source": [
    "# https://beomi.github.io/gb-crawling/posts/2017-02-27-HowToMakeWebCrawler-With-Selenium.html\n",
    "# 위 링크에 따라 크롬 드라이버 불러오기\n",
    "# (사용하고 있는 크롬의 버전에 맞는 드라이버를 다운받아서 경로 지정)\n",
    "driver = webdriver.Chrome('../chromedriver.exe')"
   ]
  },
  {
   "cell_type": "code",
   "execution_count": 9,
   "metadata": {},
   "outputs": [],
   "source": [
    "# 로그인 주소에 접속\n",
    "driver.get('https://www.data.go.kr/subMain.jsp#/L2xvZ2luL2xvZ2luT3BlbiRAXjE3MW03MQ==')\n",
    "\n",
    "# 로그인 아이디 및 비밀번호 입력\n",
    "myId = 'nano8990'\n",
    "myPassword = 'ehdwnsdl1!'\n",
    "\n",
    "# 각 로그인 창에 입력된 아이디와 비밀번호 전송\n",
    "loginIdBox = search_id_delay('ID_x')\n",
    "loginIdBox.send_keys(myId)\n",
    "loginPasswordBox = search_id_delay('PassWord_x')\n",
    "loginPasswordBox.send_keys(myPassword)\n",
    "\n",
    "# 로그인 버튼 클릭\n",
    "driver.find_element_by_class_name('log').click()"
   ]
  },
  {
   "cell_type": "code",
   "execution_count": 17,
   "metadata": {},
   "outputs": [],
   "source": [
    "# 각종 변수 설정\n",
    "portalUrl = 'https://www.data.go.kr/'\n",
    "\n",
    "fileDataFormatDivisionTag = \"div #file-list-wrapper .data-item\"\n",
    "openApiFormatDivisionTag = 'div #openapiDivArea > div .data-item'\n",
    "\n",
    "referenceDocumentTag = '.technical-doc-link'\n",
    "\n",
    "dataNameTag = '<a href=\".*\">.*</a>'\n",
    "dataTypeTag = '<span class=\"data-type.*\">.*</span>'\n",
    "originalSourceTag = '<span>기관 : .*</span>'\n",
    "\n",
    "eachReferenceDocumentUrlList = []"
   ]
  },
  {
   "cell_type": "code",
   "execution_count": 11,
   "metadata": {
    "scrolled": true
   },
   "outputs": [],
   "source": [
    "# 검색창 접속\n",
    "driver.get('https://www.data.go.kr/search/index.do')\n",
    "\n",
    "# 검색하고자 하는 정보(데이터명, 원본제공자) 입력\n",
    "eachDataName = dataNameList[3]\n",
    "eachOriginalSource = originalSourceList[3]\n",
    "\n",
    "# 검색창에 자료명 입력\n",
    "searchBox = search_id_delay('resultQuery')\n",
    "searchBox.send_keys(eachDataName)\n",
    "\n",
    "# 검색버튼 클릭\n",
    "driver.find_element_by_xpath('//*[@onclick=\"javascript:resultQuerySearch()\"]').click()"
   ]
  },
  {
   "cell_type": "code",
   "execution_count": 12,
   "metadata": {},
   "outputs": [],
   "source": [
    "# 검색 완료창의 정보 획득\n",
    "pageSource = driver.page_source\n",
    "beautifulPageSource = BeautifulSoup(pageSource, 'html.parser')\n",
    "\n",
    "# 검색하고자 하는 정보를 담고 있는 태그를 컴파일\n",
    "compileKeyDataNameTag = re.compile(dataNameTag, re.DOTALL)\n",
    "compileKeyDataTypeTag = re.compile(dataTypeTag, re.DOTALL)\n",
    "compileKeyOriginalSourceTag = re.compile(originalSourceTag)\n",
    "\n",
    "# 검색하고자 하는 정보를 컴파일\n",
    "compileKeyDataName = re.compile(eachDataName)\n",
    "compileKeyDataType = re.compile('XML')\n",
    "compileKeyOriginalSource = re.compile(eachOriginalSource)"
   ]
  },
  {
   "cell_type": "markdown",
   "metadata": {},
   "source": [
    "## 오픈 API 검색결과 처리"
   ]
  },
  {
   "cell_type": "code",
   "execution_count": 14,
   "metadata": {},
   "outputs": [],
   "source": [
    "openApiSearchSuccess = False\n",
    "\n",
    "# 검색 결과(파일 데이터)에서 자료명 위치 검색\n",
    "openApiList = beautifulPageSource.select(openApiFormatDivisionTag)\n",
    "\n",
    "if (len(openApiList) > 0):\n",
    "    # 검색된 파일 데이터 수 만큼 반복\n",
    "    for j in range(0, len(openApiList)):\n",
    "        \n",
    "        # 파일 데이터의 페이지 소스를 String 타입으로 변환\n",
    "        openApiStringType = str(openApiList[j])\n",
    "        \n",
    "        # 페이지 소스에서 데이터명을 담고 있는 태그 검색\n",
    "        try:\n",
    "            dataNameTagSearchResult = compileKeyDataNameTag.search(openApiStringType).group()\n",
    "            dataTypeTagSearchResult = compileKeyDataTypeTag.search(openApiStringType).group()\n",
    "            originalSourceTagSearchResult = compileKeyOriginalSourceTag.search(openApiStringType).group()\n",
    "        except:\n",
    "            break\n",
    "        \n",
    "        # 태그에서 검색하고자 하는 자료명 검색\n",
    "        if (None != compileKeyDataName.search(dataNameTagSearchResult)):\n",
    "            eachSearchSuccess1 = True\n",
    "        if (None != compileKeyDataType.search(dataTypeTagSearchResult)):\n",
    "            eachSearchSuccess2 = True\n",
    "        if (None != compileKeyOriginalSource.search(originalSourceTagSearchResult)):\n",
    "            eachSearchSuccess3 = True\n",
    "        if (eachSearchSuccess1 == True & eachSearchSuccess2 == True & eachSearchSuccess3 == True):\n",
    "            openApiSearchIndex = j\n",
    "            openApiSearchSuccess = True\n",
    "            break"
   ]
  },
  {
   "cell_type": "markdown",
   "metadata": {},
   "source": [
    "## 파일 데이터 검색결과 처리"
   ]
  },
  {
   "cell_type": "code",
   "execution_count": 15,
   "metadata": {},
   "outputs": [],
   "source": [
    "dataFileSearchSuccess = False\n",
    "\n",
    "if (openApiSearchSuccess == False):\n",
    "    \n",
    "    # 검색 결과(파일 데이터)에서 자료명 위치 검색\n",
    "    fileDataList = beautifulPageSource.select(fileDataFormatDivisionTag)\n",
    "    \n",
    "    if (len(fileDataList) > 0):\n",
    "\n",
    "        # 검색된 파일 데이터 수 만큼 반복\n",
    "        for j in range(0, len(fileDataList)):\n",
    "\n",
    "            # 파일 데이터의 페이지 소스를 String 타입으로 변환\n",
    "            fileDataStringType = str(fileDataList[j])\n",
    "\n",
    "            # 페이지 소스에서 데이터명을 담고 있는 태그 검색\n",
    "            try:\n",
    "                dataNameTagSearchResult = compileKeyDataNameTag.search(fileDataStringType).group()\n",
    "            except:\n",
    "                break\n",
    "\n",
    "            # 태그에서 검색하고자 하는 자료명 검색\n",
    "            if (None != compileKeyDataName.search(dataNameTagSearchResult)):\n",
    "                eachSearchSuccess1 = True\n",
    "            if (None != compileKeyOriginalSource.search(originalSourceTagSearchResult)):\n",
    "                eachSearchSuccess2 = True\n",
    "            if (eachSearchSuccess1 == True & eachSearchSuccess2):\n",
    "                dataFileSearchIndex = j\n",
    "                dataFileSearchSuccess = True\n",
    "                break"
   ]
  },
  {
   "cell_type": "code",
   "execution_count": null,
   "metadata": {},
   "outputs": [],
   "source": [
    "# 오픈API, 파일 데이터 검색에 실패하면 결측값을 부여"
   ]
  },
  {
   "cell_type": "code",
   "execution_count": 22,
   "metadata": {},
   "outputs": [],
   "source": [
    "# 오픈 API 자료에 접속\n",
    "if (openApiSearchSuccess) == True:\n",
    "    leftTrim = re.sub('<a href=\"', '', dataNameTagSearchResult)\n",
    "    rightTrim = re.sub('\">\\n.*\\n.*</a>', '', leftTrim)\n",
    "    dataUrl = portalUrl + rightTrim\n",
    "    \n",
    "    driver.get(dataUrl)\n",
    "    \n",
    "    # 검색 완료창의 정보 획득\n",
    "    pageSource = driver.page_source\n",
    "    beautifulPageSource = BeautifulSoup(pageSource, 'html.parser')\n",
    "    \n",
    "    application = search_xpaths_delay('//*[@class=\"btn btn-default apply-btn\"]')\n",
    "    details = driver.find_elements_by_xpath('//*[@class=\"btn btn-default detail-btn\"]')\n",
    "    itemList = beautifulPageSource.select('.api-item')\n",
    "    \n",
    "    for k in range(0, len(application)):\n",
    "        \n",
    "        # 반복문이 돌면 item 선택창으로 다시 이동\n",
    "        if (k > 0):\n",
    "            driver.get(dataUrl)\n",
    "            \n",
    "        # 검색 완료창의 정보 획득\n",
    "        pageSource = driver.page_source\n",
    "        beautifulPageSource = BeautifulSoup(pageSource, 'html.parser')\n",
    "\n",
    "        # 활용신청, 상세정보 버튼 검색\n",
    "        application = search_xpaths_delay('//*[@class=\"btn btn-default apply-btn\"]')\n",
    "        details = driver.find_elements_by_xpath('//*[@class=\"btn btn-default detail-btn\"]')\n",
    "        \n",
    "        if (k > 0):\n",
    "            # 상세정보 칸 클릭\n",
    "            details[k - 1].click()\n",
    "            \n",
    "            time.sleep(2)\n",
    "            \n",
    "            # 검색 완료창의 정보 획득\n",
    "            pageSource = driver.page_source\n",
    "            beautifulPageSource = BeautifulSoup(pageSource, 'html.parser')\n",
    "        \n",
    "        # 참고문서 검색 및 URL 수집\n",
    "        referenceDocumentLink = str(beautifulPageSource.select('[class=\"technical-doc-link\"]'))\n",
    "        if (referenceDocumentLink != '[]'):\n",
    "            leftTrim = re.sub('.*<a class=\"technical-doc-link\" href=\"', '', referenceDocumentLink)\n",
    "            rightTrim = re.sub('\">\\n.*\\n.*</a>.*', '', leftTrim)\n",
    "            middleTrim = re.sub('amp;', '', rightTrim)\n",
    "            referenceDocumentDataUrl = portalUrl + middleTrim\n",
    "            referenceDocumentExist = True\n",
    "        else:\n",
    "            referenceDocumentExist = False\n",
    "\n",
    "        # 참고문서가 있으면 URL을 넣고, 없으면 공백\n",
    "        if (referenceDocumentExist == True):\n",
    "            eachReferenceDocumentUrlList.append(referenceDocumentDataUrl)\n",
    "        else:\n",
    "            eachReferenceDocumentUrlList.append(\"\")\n",
    "        \n",
    "        # 활용신청 버튼 클릭\n",
    "        application[k].click()\n",
    "        \n",
    "        time.sleep(2)\n",
    "        \n",
    "        # 이미 신청한 자료인지 확인\n",
    "        try:\n",
    "            driver.find_element_by_class_name('jcf-popup')\n",
    "            search_xpath_delay('//*[@class=\"btn ng-scope ng-binding btn-primary\"]').click()\n",
    "            alreadyApplied = True\n",
    "        except:\n",
    "            alreadyApplied = False"
   ]
  },
  {
   "cell_type": "code",
   "execution_count": null,
   "metadata": {},
   "outputs": [],
   "source": []
  }
 ],
 "metadata": {
  "kernelspec": {
   "display_name": "Python 3",
   "language": "python",
   "name": "python3"
  },
  "language_info": {
   "codemirror_mode": {
    "name": "ipython",
    "version": 3
   },
   "file_extension": ".py",
   "mimetype": "text/x-python",
   "name": "python",
   "nbconvert_exporter": "python",
   "pygments_lexer": "ipython3",
   "version": "3.7.1"
  }
 },
 "nbformat": 4,
 "nbformat_minor": 2
}
